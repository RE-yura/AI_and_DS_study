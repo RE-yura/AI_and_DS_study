{
 "cells": [
  {
   "cell_type": "markdown",
   "metadata": {
    "colab_type": "text",
    "id": "9Q6G6UYKGaTs"
   },
   "source": [
    " # HAR ( Human Activity Recognition : 人間行動認識 )\n",
    "\n",
    "　人間行動認識とは，カメラやセンサなどの様々な機器から得られた情報をもとに，人間の行動を学習･推定する認識技術分野のことである．今回は，スマホのIMU情報(姿勢･重力･角速度･ユーザの加速度)をもとに，ユーザの行動を下記の行動1～6の中から予測する．\n",
    "\n",
    "1.\t階段を降りている\n",
    "1.\t階段を登っている\n",
    "1.\t歩いている\n",
    "1.\tジョギングしている\n",
    "1.\t座っている\n",
    "1.\t立っている  \n",
    "\n"
   ]
  },
  {
   "cell_type": "markdown",
   "metadata": {
    "colab_type": "text",
    "id": "LuM6g-vqqG6L"
   },
   "source": [
    "## 1) データセットの準備\n",
    "\n",
    "\n",
    "---\n",
    "\n",
    "　まず，https://www.kaggle.com/malekzadeh/motionsense-dataset/ からダウンロードできるデータセットのzipファイルをこのipynbファイルと同じディレクトリに保存して下さい．\n",
    "\n"
   ]
  },
  {
   "cell_type": "code",
   "execution_count": 1,
   "metadata": {
    "colab": {
     "base_uri": "https://localhost:8080/",
     "height": 1000
    },
    "colab_type": "code",
    "executionInfo": {
     "elapsed": 7085,
     "status": "ok",
     "timestamp": 1581566628750,
     "user": {
      "displayName": "青山裕良",
      "photoUrl": "",
      "userId": "08766073615901039264"
     },
     "user_tz": -540
    },
    "id": "g_Vn_LQouiCe",
    "outputId": "040d0642-4f18-416a-bde6-483cdcb4cd0e"
   },
   "outputs": [
    {
     "name": "stdout",
     "output_type": "stream",
     "text": [
      "Archive:  motionsense-dataset.zip\n",
      "  inflating: A_DeviceMotion_data/A_DeviceMotion_data/dws_1/sub_1.csv  \n",
      "  inflating: A_DeviceMotion_data/A_DeviceMotion_data/dws_1/sub_10.csv  \n",
      "  inflating: A_DeviceMotion_data/A_DeviceMotion_data/dws_1/sub_11.csv  \n",
      "  inflating: A_DeviceMotion_data/A_DeviceMotion_data/dws_1/sub_12.csv  \n",
      "  inflating: A_DeviceMotion_data/A_DeviceMotion_data/dws_1/sub_13.csv  \n",
      "  inflating: A_DeviceMotion_data/A_DeviceMotion_data/dws_1/sub_14.csv  \n",
      "  inflating: A_DeviceMotion_data/A_DeviceMotion_data/dws_1/sub_15.csv  \n",
      "  inflating: A_DeviceMotion_data/A_DeviceMotion_data/dws_1/sub_16.csv  \n",
      "  inflating: A_DeviceMotion_data/A_DeviceMotion_data/dws_1/sub_17.csv  \n",
      "  inflating: A_DeviceMotion_data/A_DeviceMotion_data/dws_1/sub_18.csv  \n",
      "  inflating: A_DeviceMotion_data/A_DeviceMotion_data/dws_1/sub_19.csv  \n",
      "  inflating: A_DeviceMotion_data/A_DeviceMotion_data/dws_1/sub_2.csv  \n",
      "  inflating: A_DeviceMotion_data/A_DeviceMotion_data/dws_1/sub_20.csv  \n",
      "  inflating: A_DeviceMotion_data/A_DeviceMotion_data/dws_1/sub_21.csv  \n",
      "  inflating: A_DeviceMotion_data/A_DeviceMotion_data/dws_1/sub_22.csv  \n",
      "  inflating: A_DeviceMotion_data/A_DeviceMotion_data/dws_1/sub_23.csv  \n",
      "  inflating: A_DeviceMotion_data/A_DeviceMotion_data/dws_1/sub_24.csv  \n",
      "  inflating: A_DeviceMotion_data/A_DeviceMotion_data/dws_1/sub_3.csv  \n",
      "  inflating: A_DeviceMotion_data/A_DeviceMotion_data/dws_1/sub_4.csv  \n",
      "  inflating: A_DeviceMotion_data/A_DeviceMotion_data/dws_1/sub_5.csv  \n",
      "  inflating: A_DeviceMotion_data/A_DeviceMotion_data/dws_1/sub_6.csv  \n",
      "  inflating: A_DeviceMotion_data/A_DeviceMotion_data/dws_1/sub_7.csv  \n",
      "  inflating: A_DeviceMotion_data/A_DeviceMotion_data/dws_1/sub_8.csv  \n",
      "  inflating: A_DeviceMotion_data/A_DeviceMotion_data/dws_1/sub_9.csv  \n",
      "  inflating: A_DeviceMotion_data/A_DeviceMotion_data/dws_11/sub_1.csv  \n",
      "  inflating: A_DeviceMotion_data/A_DeviceMotion_data/dws_11/sub_10.csv  \n",
      "  inflating: A_DeviceMotion_data/A_DeviceMotion_data/dws_11/sub_11.csv  \n",
      "  inflating: A_DeviceMotion_data/A_DeviceMotion_data/dws_11/sub_12.csv  \n",
      "  inflating: A_DeviceMotion_data/A_DeviceMotion_data/dws_11/sub_13.csv  \n",
      "  inflating: A_DeviceMotion_data/A_DeviceMotion_data/dws_11/sub_14.csv  \n",
      "  inflating: A_DeviceMotion_data/A_DeviceMotion_data/dws_11/sub_15.csv  \n",
      "  inflating: A_DeviceMotion_data/A_DeviceMotion_data/dws_11/sub_16.csv  \n",
      "  inflating: A_DeviceMotion_data/A_DeviceMotion_data/dws_11/sub_17.csv  \n",
      "  inflating: A_DeviceMotion_data/A_DeviceMotion_data/dws_11/sub_18.csv  \n",
      "  inflating: A_DeviceMotion_data/A_DeviceMotion_data/dws_11/sub_19.csv  \n",
      "  inflating: A_DeviceMotion_data/A_DeviceMotion_data/dws_11/sub_2.csv  \n",
      "  inflating: A_DeviceMotion_data/A_DeviceMotion_data/dws_11/sub_20.csv  \n",
      "  inflating: A_DeviceMotion_data/A_DeviceMotion_data/dws_11/sub_21.csv  \n",
      "  inflating: A_DeviceMotion_data/A_DeviceMotion_data/dws_11/sub_22.csv  \n",
      "  inflating: A_DeviceMotion_data/A_DeviceMotion_data/dws_11/sub_23.csv  \n",
      "  inflating: A_DeviceMotion_data/A_DeviceMotion_data/dws_11/sub_24.csv  \n",
      "  inflating: A_DeviceMotion_data/A_DeviceMotion_data/dws_11/sub_3.csv  \n",
      "  inflating: A_DeviceMotion_data/A_DeviceMotion_data/dws_11/sub_4.csv  \n",
      "  inflating: A_DeviceMotion_data/A_DeviceMotion_data/dws_11/sub_5.csv  \n",
      "  inflating: A_DeviceMotion_data/A_DeviceMotion_data/dws_11/sub_6.csv  \n",
      "  inflating: A_DeviceMotion_data/A_DeviceMotion_data/dws_11/sub_7.csv  \n",
      "  inflating: A_DeviceMotion_data/A_DeviceMotion_data/dws_11/sub_8.csv  \n",
      "  inflating: A_DeviceMotion_data/A_DeviceMotion_data/dws_11/sub_9.csv  \n",
      "  inflating: A_DeviceMotion_data/A_DeviceMotion_data/dws_2/sub_1.csv  \n",
      "  inflating: A_DeviceMotion_data/A_DeviceMotion_data/dws_2/sub_10.csv  \n",
      "  inflating: A_DeviceMotion_data/A_DeviceMotion_data/dws_2/sub_11.csv  \n",
      "  inflating: A_DeviceMotion_data/A_DeviceMotion_data/dws_2/sub_12.csv  \n",
      "  inflating: A_DeviceMotion_data/A_DeviceMotion_data/dws_2/sub_13.csv  \n",
      "  inflating: A_DeviceMotion_data/A_DeviceMotion_data/dws_2/sub_14.csv  \n",
      "  inflating: A_DeviceMotion_data/A_DeviceMotion_data/dws_2/sub_15.csv  \n",
      "  inflating: A_DeviceMotion_data/A_DeviceMotion_data/dws_2/sub_16.csv  \n",
      "  inflating: A_DeviceMotion_data/A_DeviceMotion_data/dws_2/sub_17.csv  \n",
      "  inflating: A_DeviceMotion_data/A_DeviceMotion_data/dws_2/sub_18.csv  \n",
      "  inflating: A_DeviceMotion_data/A_DeviceMotion_data/dws_2/sub_19.csv  \n",
      "  inflating: A_DeviceMotion_data/A_DeviceMotion_data/dws_2/sub_2.csv  \n",
      "  inflating: A_DeviceMotion_data/A_DeviceMotion_data/dws_2/sub_20.csv  \n",
      "  inflating: A_DeviceMotion_data/A_DeviceMotion_data/dws_2/sub_21.csv  \n",
      "  inflating: A_DeviceMotion_data/A_DeviceMotion_data/dws_2/sub_22.csv  \n",
      "  inflating: A_DeviceMotion_data/A_DeviceMotion_data/dws_2/sub_23.csv  \n",
      "  inflating: A_DeviceMotion_data/A_DeviceMotion_data/dws_2/sub_24.csv  \n",
      "  inflating: A_DeviceMotion_data/A_DeviceMotion_data/dws_2/sub_3.csv  \n",
      "  inflating: A_DeviceMotion_data/A_DeviceMotion_data/dws_2/sub_4.csv  \n",
      "  inflating: A_DeviceMotion_data/A_DeviceMotion_data/dws_2/sub_5.csv  \n",
      "  inflating: A_DeviceMotion_data/A_DeviceMotion_data/dws_2/sub_6.csv  \n",
      "  inflating: A_DeviceMotion_data/A_DeviceMotion_data/dws_2/sub_7.csv  \n",
      "  inflating: A_DeviceMotion_data/A_DeviceMotion_data/dws_2/sub_8.csv  \n",
      "  inflating: A_DeviceMotion_data/A_DeviceMotion_data/dws_2/sub_9.csv  \n",
      "  inflating: A_DeviceMotion_data/A_DeviceMotion_data/jog_16/sub_1.csv  \n",
      "  inflating: A_DeviceMotion_data/A_DeviceMotion_data/jog_16/sub_10.csv  \n",
      "  inflating: A_DeviceMotion_data/A_DeviceMotion_data/jog_16/sub_11.csv  \n",
      "  inflating: A_DeviceMotion_data/A_DeviceMotion_data/jog_16/sub_12.csv  \n",
      "  inflating: A_DeviceMotion_data/A_DeviceMotion_data/jog_16/sub_13.csv  \n",
      "  inflating: A_DeviceMotion_data/A_DeviceMotion_data/jog_16/sub_14.csv  \n",
      "  inflating: A_DeviceMotion_data/A_DeviceMotion_data/jog_16/sub_15.csv  \n",
      "  inflating: A_DeviceMotion_data/A_DeviceMotion_data/jog_16/sub_16.csv  \n",
      "  inflating: A_DeviceMotion_data/A_DeviceMotion_data/jog_16/sub_17.csv  \n",
      "  inflating: A_DeviceMotion_data/A_DeviceMotion_data/jog_16/sub_18.csv  \n",
      "  inflating: A_DeviceMotion_data/A_DeviceMotion_data/jog_16/sub_19.csv  \n",
      "  inflating: A_DeviceMotion_data/A_DeviceMotion_data/jog_16/sub_2.csv  \n",
      "  inflating: A_DeviceMotion_data/A_DeviceMotion_data/jog_16/sub_20.csv  \n",
      "  inflating: A_DeviceMotion_data/A_DeviceMotion_data/jog_16/sub_21.csv  \n",
      "  inflating: A_DeviceMotion_data/A_DeviceMotion_data/jog_16/sub_22.csv  \n",
      "  inflating: A_DeviceMotion_data/A_DeviceMotion_data/jog_16/sub_23.csv  \n",
      "  inflating: A_DeviceMotion_data/A_DeviceMotion_data/jog_16/sub_24.csv  \n",
      "  inflating: A_DeviceMotion_data/A_DeviceMotion_data/jog_16/sub_3.csv  \n",
      "  inflating: A_DeviceMotion_data/A_DeviceMotion_data/jog_16/sub_4.csv  \n",
      "  inflating: A_DeviceMotion_data/A_DeviceMotion_data/jog_16/sub_5.csv  \n",
      "  inflating: A_DeviceMotion_data/A_DeviceMotion_data/jog_16/sub_6.csv  \n",
      "  inflating: A_DeviceMotion_data/A_DeviceMotion_data/jog_16/sub_7.csv  \n",
      "  inflating: A_DeviceMotion_data/A_DeviceMotion_data/jog_16/sub_8.csv  \n",
      "  inflating: A_DeviceMotion_data/A_DeviceMotion_data/jog_16/sub_9.csv  \n",
      "  inflating: A_DeviceMotion_data/A_DeviceMotion_data/jog_9/sub_1.csv  \n",
      "  inflating: A_DeviceMotion_data/A_DeviceMotion_data/jog_9/sub_10.csv  \n",
      "  inflating: A_DeviceMotion_data/A_DeviceMotion_data/jog_9/sub_11.csv  \n",
      "  inflating: A_DeviceMotion_data/A_DeviceMotion_data/jog_9/sub_12.csv  \n",
      "  inflating: A_DeviceMotion_data/A_DeviceMotion_data/jog_9/sub_13.csv  \n",
      "  inflating: A_DeviceMotion_data/A_DeviceMotion_data/jog_9/sub_14.csv  \n",
      "  inflating: A_DeviceMotion_data/A_DeviceMotion_data/jog_9/sub_15.csv  \n",
      "  inflating: A_DeviceMotion_data/A_DeviceMotion_data/jog_9/sub_16.csv  \n",
      "  inflating: A_DeviceMotion_data/A_DeviceMotion_data/jog_9/sub_17.csv  \n",
      "  inflating: A_DeviceMotion_data/A_DeviceMotion_data/jog_9/sub_18.csv  \n",
      "  inflating: A_DeviceMotion_data/A_DeviceMotion_data/jog_9/sub_19.csv  \n",
      "  inflating: A_DeviceMotion_data/A_DeviceMotion_data/jog_9/sub_2.csv  \n",
      "  inflating: A_DeviceMotion_data/A_DeviceMotion_data/jog_9/sub_20.csv  \n",
      "  inflating: A_DeviceMotion_data/A_DeviceMotion_data/jog_9/sub_21.csv  \n",
      "  inflating: A_DeviceMotion_data/A_DeviceMotion_data/jog_9/sub_22.csv  \n",
      "  inflating: A_DeviceMotion_data/A_DeviceMotion_data/jog_9/sub_23.csv  \n",
      "  inflating: A_DeviceMotion_data/A_DeviceMotion_data/jog_9/sub_24.csv  \n",
      "  inflating: A_DeviceMotion_data/A_DeviceMotion_data/jog_9/sub_3.csv  \n",
      "  inflating: A_DeviceMotion_data/A_DeviceMotion_data/jog_9/sub_4.csv  \n",
      "  inflating: A_DeviceMotion_data/A_DeviceMotion_data/jog_9/sub_5.csv  \n",
      "  inflating: A_DeviceMotion_data/A_DeviceMotion_data/jog_9/sub_6.csv  \n",
      "  inflating: A_DeviceMotion_data/A_DeviceMotion_data/jog_9/sub_7.csv  \n",
      "  inflating: A_DeviceMotion_data/A_DeviceMotion_data/jog_9/sub_8.csv  \n",
      "  inflating: A_DeviceMotion_data/A_DeviceMotion_data/jog_9/sub_9.csv  \n",
      "  inflating: A_DeviceMotion_data/A_DeviceMotion_data/sit_13/sub_1.csv  \n",
      "  inflating: A_DeviceMotion_data/A_DeviceMotion_data/sit_13/sub_10.csv  \n",
      "  inflating: A_DeviceMotion_data/A_DeviceMotion_data/sit_13/sub_11.csv  \n",
      "  inflating: A_DeviceMotion_data/A_DeviceMotion_data/sit_13/sub_12.csv  \n",
      "  inflating: A_DeviceMotion_data/A_DeviceMotion_data/sit_13/sub_13.csv  \n",
      "  inflating: A_DeviceMotion_data/A_DeviceMotion_data/sit_13/sub_14.csv  \n",
      "  inflating: A_DeviceMotion_data/A_DeviceMotion_data/sit_13/sub_15.csv  \n",
      "  inflating: A_DeviceMotion_data/A_DeviceMotion_data/sit_13/sub_16.csv  \n",
      "  inflating: A_DeviceMotion_data/A_DeviceMotion_data/sit_13/sub_17.csv  \n",
      "  inflating: A_DeviceMotion_data/A_DeviceMotion_data/sit_13/sub_18.csv  \n",
      "  inflating: A_DeviceMotion_data/A_DeviceMotion_data/sit_13/sub_19.csv  \n",
      "  inflating: A_DeviceMotion_data/A_DeviceMotion_data/sit_13/sub_2.csv  \n",
      "  inflating: A_DeviceMotion_data/A_DeviceMotion_data/sit_13/sub_20.csv  \n",
      "  inflating: A_DeviceMotion_data/A_DeviceMotion_data/sit_13/sub_21.csv  \n",
      "  inflating: A_DeviceMotion_data/A_DeviceMotion_data/sit_13/sub_22.csv  \n",
      "  inflating: A_DeviceMotion_data/A_DeviceMotion_data/sit_13/sub_23.csv  \n",
      "  inflating: A_DeviceMotion_data/A_DeviceMotion_data/sit_13/sub_24.csv  \n",
      "  inflating: A_DeviceMotion_data/A_DeviceMotion_data/sit_13/sub_3.csv  \n",
      "  inflating: A_DeviceMotion_data/A_DeviceMotion_data/sit_13/sub_4.csv  \n",
      "  inflating: A_DeviceMotion_data/A_DeviceMotion_data/sit_13/sub_5.csv  \n",
      "  inflating: A_DeviceMotion_data/A_DeviceMotion_data/sit_13/sub_6.csv  \n",
      "  inflating: A_DeviceMotion_data/A_DeviceMotion_data/sit_13/sub_7.csv  \n",
      "  inflating: A_DeviceMotion_data/A_DeviceMotion_data/sit_13/sub_8.csv  \n",
      "  inflating: A_DeviceMotion_data/A_DeviceMotion_data/sit_13/sub_9.csv  \n",
      "  inflating: A_DeviceMotion_data/A_DeviceMotion_data/sit_5/sub_1.csv  \n",
      "  inflating: A_DeviceMotion_data/A_DeviceMotion_data/sit_5/sub_10.csv  \n",
      "  inflating: A_DeviceMotion_data/A_DeviceMotion_data/sit_5/sub_11.csv  \n",
      "  inflating: A_DeviceMotion_data/A_DeviceMotion_data/sit_5/sub_12.csv  \n",
      "  inflating: A_DeviceMotion_data/A_DeviceMotion_data/sit_5/sub_13.csv  \n",
      "  inflating: A_DeviceMotion_data/A_DeviceMotion_data/sit_5/sub_14.csv  \n",
      "  inflating: A_DeviceMotion_data/A_DeviceMotion_data/sit_5/sub_15.csv  \n",
      "  inflating: A_DeviceMotion_data/A_DeviceMotion_data/sit_5/sub_16.csv  \n",
      "  inflating: A_DeviceMotion_data/A_DeviceMotion_data/sit_5/sub_17.csv  \n",
      "  inflating: A_DeviceMotion_data/A_DeviceMotion_data/sit_5/sub_18.csv  \n",
      "  inflating: A_DeviceMotion_data/A_DeviceMotion_data/sit_5/sub_19.csv  \n",
      "  inflating: A_DeviceMotion_data/A_DeviceMotion_data/sit_5/sub_2.csv  \n",
      "  inflating: A_DeviceMotion_data/A_DeviceMotion_data/sit_5/sub_20.csv  \n",
      "  inflating: A_DeviceMotion_data/A_DeviceMotion_data/sit_5/sub_21.csv  \n",
      "  inflating: A_DeviceMotion_data/A_DeviceMotion_data/sit_5/sub_22.csv  \n",
      "  inflating: A_DeviceMotion_data/A_DeviceMotion_data/sit_5/sub_23.csv  \n",
      "  inflating: A_DeviceMotion_data/A_DeviceMotion_data/sit_5/sub_24.csv  \n",
      "  inflating: A_DeviceMotion_data/A_DeviceMotion_data/sit_5/sub_3.csv  \n",
      "  inflating: A_DeviceMotion_data/A_DeviceMotion_data/sit_5/sub_4.csv  \n",
      "  inflating: A_DeviceMotion_data/A_DeviceMotion_data/sit_5/sub_5.csv  \n",
      "  inflating: A_DeviceMotion_data/A_DeviceMotion_data/sit_5/sub_6.csv  \n",
      "  inflating: A_DeviceMotion_data/A_DeviceMotion_data/sit_5/sub_7.csv  \n",
      "  inflating: A_DeviceMotion_data/A_DeviceMotion_data/sit_5/sub_8.csv  \n",
      "  inflating: A_DeviceMotion_data/A_DeviceMotion_data/sit_5/sub_9.csv  \n",
      "  inflating: A_DeviceMotion_data/A_DeviceMotion_data/std_14/sub_1.csv  \n",
      "  inflating: A_DeviceMotion_data/A_DeviceMotion_data/std_14/sub_10.csv  \n",
      "  inflating: A_DeviceMotion_data/A_DeviceMotion_data/std_14/sub_11.csv  \n",
      "  inflating: A_DeviceMotion_data/A_DeviceMotion_data/std_14/sub_12.csv  \n",
      "  inflating: A_DeviceMotion_data/A_DeviceMotion_data/std_14/sub_13.csv  \n",
      "  inflating: A_DeviceMotion_data/A_DeviceMotion_data/std_14/sub_14.csv  \n",
      "  inflating: A_DeviceMotion_data/A_DeviceMotion_data/std_14/sub_15.csv  \n",
      "  inflating: A_DeviceMotion_data/A_DeviceMotion_data/std_14/sub_16.csv  \n",
      "  inflating: A_DeviceMotion_data/A_DeviceMotion_data/std_14/sub_17.csv  \n",
      "  inflating: A_DeviceMotion_data/A_DeviceMotion_data/std_14/sub_18.csv  \n",
      "  inflating: A_DeviceMotion_data/A_DeviceMotion_data/std_14/sub_19.csv  \n",
      "  inflating: A_DeviceMotion_data/A_DeviceMotion_data/std_14/sub_2.csv  \n",
      "  inflating: A_DeviceMotion_data/A_DeviceMotion_data/std_14/sub_20.csv  \n",
      "  inflating: A_DeviceMotion_data/A_DeviceMotion_data/std_14/sub_21.csv  \n",
      "  inflating: A_DeviceMotion_data/A_DeviceMotion_data/std_14/sub_22.csv  \n",
      "  inflating: A_DeviceMotion_data/A_DeviceMotion_data/std_14/sub_23.csv  \n",
      "  inflating: A_DeviceMotion_data/A_DeviceMotion_data/std_14/sub_24.csv  \n",
      "  inflating: A_DeviceMotion_data/A_DeviceMotion_data/std_14/sub_3.csv  \n",
      "  inflating: A_DeviceMotion_data/A_DeviceMotion_data/std_14/sub_4.csv  \n",
      "  inflating: A_DeviceMotion_data/A_DeviceMotion_data/std_14/sub_5.csv  \n",
      "  inflating: A_DeviceMotion_data/A_DeviceMotion_data/std_14/sub_6.csv  \n",
      "  inflating: A_DeviceMotion_data/A_DeviceMotion_data/std_14/sub_7.csv  \n",
      "  inflating: A_DeviceMotion_data/A_DeviceMotion_data/std_14/sub_8.csv  \n",
      "  inflating: A_DeviceMotion_data/A_DeviceMotion_data/std_14/sub_9.csv  \n",
      "  inflating: A_DeviceMotion_data/A_DeviceMotion_data/std_6/sub_1.csv  \n",
      "  inflating: A_DeviceMotion_data/A_DeviceMotion_data/std_6/sub_10.csv  \n",
      "  inflating: A_DeviceMotion_data/A_DeviceMotion_data/std_6/sub_11.csv  \n",
      "  inflating: A_DeviceMotion_data/A_DeviceMotion_data/std_6/sub_12.csv  \n",
      "  inflating: A_DeviceMotion_data/A_DeviceMotion_data/std_6/sub_13.csv  \n",
      "  inflating: A_DeviceMotion_data/A_DeviceMotion_data/std_6/sub_14.csv  \n",
      "  inflating: A_DeviceMotion_data/A_DeviceMotion_data/std_6/sub_15.csv  \n",
      "  inflating: A_DeviceMotion_data/A_DeviceMotion_data/std_6/sub_16.csv  \n",
      "  inflating: A_DeviceMotion_data/A_DeviceMotion_data/std_6/sub_17.csv  \n",
      "  inflating: A_DeviceMotion_data/A_DeviceMotion_data/std_6/sub_18.csv  \n",
      "  inflating: A_DeviceMotion_data/A_DeviceMotion_data/std_6/sub_19.csv  \n",
      "  inflating: A_DeviceMotion_data/A_DeviceMotion_data/std_6/sub_2.csv  \n",
      "  inflating: A_DeviceMotion_data/A_DeviceMotion_data/std_6/sub_20.csv  \n",
      "  inflating: A_DeviceMotion_data/A_DeviceMotion_data/std_6/sub_21.csv  \n",
      "  inflating: A_DeviceMotion_data/A_DeviceMotion_data/std_6/sub_22.csv  \n",
      "  inflating: A_DeviceMotion_data/A_DeviceMotion_data/std_6/sub_23.csv  \n",
      "  inflating: A_DeviceMotion_data/A_DeviceMotion_data/std_6/sub_24.csv  \n",
      "  inflating: A_DeviceMotion_data/A_DeviceMotion_data/std_6/sub_3.csv  \n",
      "  inflating: A_DeviceMotion_data/A_DeviceMotion_data/std_6/sub_4.csv  \n",
      "  inflating: A_DeviceMotion_data/A_DeviceMotion_data/std_6/sub_5.csv  \n",
      "  inflating: A_DeviceMotion_data/A_DeviceMotion_data/std_6/sub_6.csv  \n",
      "  inflating: A_DeviceMotion_data/A_DeviceMotion_data/std_6/sub_7.csv  \n",
      "  inflating: A_DeviceMotion_data/A_DeviceMotion_data/std_6/sub_8.csv  \n",
      "  inflating: A_DeviceMotion_data/A_DeviceMotion_data/std_6/sub_9.csv  \n",
      "  inflating: A_DeviceMotion_data/A_DeviceMotion_data/ups_12/sub_1.csv  \n",
      "  inflating: A_DeviceMotion_data/A_DeviceMotion_data/ups_12/sub_10.csv  \n",
      "  inflating: A_DeviceMotion_data/A_DeviceMotion_data/ups_12/sub_11.csv  \n",
      "  inflating: A_DeviceMotion_data/A_DeviceMotion_data/ups_12/sub_12.csv  \n",
      "  inflating: A_DeviceMotion_data/A_DeviceMotion_data/ups_12/sub_13.csv  \n",
      "  inflating: A_DeviceMotion_data/A_DeviceMotion_data/ups_12/sub_14.csv  \n",
      "  inflating: A_DeviceMotion_data/A_DeviceMotion_data/ups_12/sub_15.csv  \n",
      "  inflating: A_DeviceMotion_data/A_DeviceMotion_data/ups_12/sub_16.csv  \n",
      "  inflating: A_DeviceMotion_data/A_DeviceMotion_data/ups_12/sub_17.csv  \n",
      "  inflating: A_DeviceMotion_data/A_DeviceMotion_data/ups_12/sub_18.csv  \n",
      "  inflating: A_DeviceMotion_data/A_DeviceMotion_data/ups_12/sub_19.csv  \n",
      "  inflating: A_DeviceMotion_data/A_DeviceMotion_data/ups_12/sub_2.csv  \n",
      "  inflating: A_DeviceMotion_data/A_DeviceMotion_data/ups_12/sub_20.csv  \n",
      "  inflating: A_DeviceMotion_data/A_DeviceMotion_data/ups_12/sub_21.csv  \n",
      "  inflating: A_DeviceMotion_data/A_DeviceMotion_data/ups_12/sub_22.csv  \n",
      "  inflating: A_DeviceMotion_data/A_DeviceMotion_data/ups_12/sub_23.csv  \n",
      "  inflating: A_DeviceMotion_data/A_DeviceMotion_data/ups_12/sub_24.csv  \n",
      "  inflating: A_DeviceMotion_data/A_DeviceMotion_data/ups_12/sub_3.csv  \n",
      "  inflating: A_DeviceMotion_data/A_DeviceMotion_data/ups_12/sub_4.csv  \n",
      "  inflating: A_DeviceMotion_data/A_DeviceMotion_data/ups_12/sub_5.csv  \n",
      "  inflating: A_DeviceMotion_data/A_DeviceMotion_data/ups_12/sub_6.csv  \n",
      "  inflating: A_DeviceMotion_data/A_DeviceMotion_data/ups_12/sub_7.csv  \n",
      "  inflating: A_DeviceMotion_data/A_DeviceMotion_data/ups_12/sub_8.csv  \n",
      "  inflating: A_DeviceMotion_data/A_DeviceMotion_data/ups_12/sub_9.csv  \n",
      "  inflating: A_DeviceMotion_data/A_DeviceMotion_data/ups_3/sub_1.csv  \n",
      "  inflating: A_DeviceMotion_data/A_DeviceMotion_data/ups_3/sub_10.csv  \n",
      "  inflating: A_DeviceMotion_data/A_DeviceMotion_data/ups_3/sub_11.csv  \n",
      "  inflating: A_DeviceMotion_data/A_DeviceMotion_data/ups_3/sub_12.csv  \n",
      "  inflating: A_DeviceMotion_data/A_DeviceMotion_data/ups_3/sub_13.csv  \n",
      "  inflating: A_DeviceMotion_data/A_DeviceMotion_data/ups_3/sub_14.csv  \n",
      "  inflating: A_DeviceMotion_data/A_DeviceMotion_data/ups_3/sub_15.csv  \n",
      "  inflating: A_DeviceMotion_data/A_DeviceMotion_data/ups_3/sub_16.csv  \n",
      "  inflating: A_DeviceMotion_data/A_DeviceMotion_data/ups_3/sub_17.csv  \n",
      "  inflating: A_DeviceMotion_data/A_DeviceMotion_data/ups_3/sub_18.csv  \n",
      "  inflating: A_DeviceMotion_data/A_DeviceMotion_data/ups_3/sub_19.csv  \n",
      "  inflating: A_DeviceMotion_data/A_DeviceMotion_data/ups_3/sub_2.csv  \n",
      "  inflating: A_DeviceMotion_data/A_DeviceMotion_data/ups_3/sub_20.csv  \n",
      "  inflating: A_DeviceMotion_data/A_DeviceMotion_data/ups_3/sub_21.csv  \n",
      "  inflating: A_DeviceMotion_data/A_DeviceMotion_data/ups_3/sub_22.csv  \n",
      "  inflating: A_DeviceMotion_data/A_DeviceMotion_data/ups_3/sub_23.csv  \n",
      "  inflating: A_DeviceMotion_data/A_DeviceMotion_data/ups_3/sub_24.csv  \n",
      "  inflating: A_DeviceMotion_data/A_DeviceMotion_data/ups_3/sub_3.csv  \n",
      "  inflating: A_DeviceMotion_data/A_DeviceMotion_data/ups_3/sub_4.csv  \n",
      "  inflating: A_DeviceMotion_data/A_DeviceMotion_data/ups_3/sub_5.csv  \n",
      "  inflating: A_DeviceMotion_data/A_DeviceMotion_data/ups_3/sub_6.csv  \n",
      "  inflating: A_DeviceMotion_data/A_DeviceMotion_data/ups_3/sub_7.csv  \n",
      "  inflating: A_DeviceMotion_data/A_DeviceMotion_data/ups_3/sub_8.csv  \n",
      "  inflating: A_DeviceMotion_data/A_DeviceMotion_data/ups_3/sub_9.csv  \n",
      "  inflating: A_DeviceMotion_data/A_DeviceMotion_data/ups_4/sub_1.csv  \n",
      "  inflating: A_DeviceMotion_data/A_DeviceMotion_data/ups_4/sub_10.csv  \n",
      "  inflating: A_DeviceMotion_data/A_DeviceMotion_data/ups_4/sub_11.csv  \n",
      "  inflating: A_DeviceMotion_data/A_DeviceMotion_data/ups_4/sub_12.csv  \n",
      "  inflating: A_DeviceMotion_data/A_DeviceMotion_data/ups_4/sub_13.csv  \n",
      "  inflating: A_DeviceMotion_data/A_DeviceMotion_data/ups_4/sub_14.csv  \n",
      "  inflating: A_DeviceMotion_data/A_DeviceMotion_data/ups_4/sub_15.csv  \n",
      "  inflating: A_DeviceMotion_data/A_DeviceMotion_data/ups_4/sub_16.csv  \n",
      "  inflating: A_DeviceMotion_data/A_DeviceMotion_data/ups_4/sub_17.csv  \n",
      "  inflating: A_DeviceMotion_data/A_DeviceMotion_data/ups_4/sub_18.csv  \n",
      "  inflating: A_DeviceMotion_data/A_DeviceMotion_data/ups_4/sub_19.csv  \n",
      "  inflating: A_DeviceMotion_data/A_DeviceMotion_data/ups_4/sub_2.csv  \n",
      "  inflating: A_DeviceMotion_data/A_DeviceMotion_data/ups_4/sub_20.csv  \n",
      "  inflating: A_DeviceMotion_data/A_DeviceMotion_data/ups_4/sub_21.csv  \n",
      "  inflating: A_DeviceMotion_data/A_DeviceMotion_data/ups_4/sub_22.csv  \n",
      "  inflating: A_DeviceMotion_data/A_DeviceMotion_data/ups_4/sub_23.csv  \n",
      "  inflating: A_DeviceMotion_data/A_DeviceMotion_data/ups_4/sub_24.csv  \n",
      "  inflating: A_DeviceMotion_data/A_DeviceMotion_data/ups_4/sub_3.csv  \n",
      "  inflating: A_DeviceMotion_data/A_DeviceMotion_data/ups_4/sub_4.csv  \n",
      "  inflating: A_DeviceMotion_data/A_DeviceMotion_data/ups_4/sub_5.csv  \n",
      "  inflating: A_DeviceMotion_data/A_DeviceMotion_data/ups_4/sub_6.csv  \n",
      "  inflating: A_DeviceMotion_data/A_DeviceMotion_data/ups_4/sub_7.csv  \n",
      "  inflating: A_DeviceMotion_data/A_DeviceMotion_data/ups_4/sub_8.csv  \n",
      "  inflating: A_DeviceMotion_data/A_DeviceMotion_data/ups_4/sub_9.csv  \n",
      "  inflating: A_DeviceMotion_data/A_DeviceMotion_data/wlk_15/sub_1.csv  \n",
      "  inflating: A_DeviceMotion_data/A_DeviceMotion_data/wlk_15/sub_10.csv  \n",
      "  inflating: A_DeviceMotion_data/A_DeviceMotion_data/wlk_15/sub_11.csv  \n",
      "  inflating: A_DeviceMotion_data/A_DeviceMotion_data/wlk_15/sub_12.csv  \n",
      "  inflating: A_DeviceMotion_data/A_DeviceMotion_data/wlk_15/sub_13.csv  \n",
      "  inflating: A_DeviceMotion_data/A_DeviceMotion_data/wlk_15/sub_14.csv  \n",
      "  inflating: A_DeviceMotion_data/A_DeviceMotion_data/wlk_15/sub_15.csv  \n",
      "  inflating: A_DeviceMotion_data/A_DeviceMotion_data/wlk_15/sub_16.csv  \n",
      "  inflating: A_DeviceMotion_data/A_DeviceMotion_data/wlk_15/sub_17.csv  \n",
      "  inflating: A_DeviceMotion_data/A_DeviceMotion_data/wlk_15/sub_18.csv  \n",
      "  inflating: A_DeviceMotion_data/A_DeviceMotion_data/wlk_15/sub_19.csv  \n",
      "  inflating: A_DeviceMotion_data/A_DeviceMotion_data/wlk_15/sub_2.csv  \n",
      "  inflating: A_DeviceMotion_data/A_DeviceMotion_data/wlk_15/sub_20.csv  \n",
      "  inflating: A_DeviceMotion_data/A_DeviceMotion_data/wlk_15/sub_21.csv  \n",
      "  inflating: A_DeviceMotion_data/A_DeviceMotion_data/wlk_15/sub_22.csv  \n",
      "  inflating: A_DeviceMotion_data/A_DeviceMotion_data/wlk_15/sub_23.csv  \n",
      "  inflating: A_DeviceMotion_data/A_DeviceMotion_data/wlk_15/sub_24.csv  \n",
      "  inflating: A_DeviceMotion_data/A_DeviceMotion_data/wlk_15/sub_3.csv  \n",
      "  inflating: A_DeviceMotion_data/A_DeviceMotion_data/wlk_15/sub_4.csv  \n",
      "  inflating: A_DeviceMotion_data/A_DeviceMotion_data/wlk_15/sub_5.csv  \n",
      "  inflating: A_DeviceMotion_data/A_DeviceMotion_data/wlk_15/sub_6.csv  \n",
      "  inflating: A_DeviceMotion_data/A_DeviceMotion_data/wlk_15/sub_7.csv  \n",
      "  inflating: A_DeviceMotion_data/A_DeviceMotion_data/wlk_15/sub_8.csv  \n",
      "  inflating: A_DeviceMotion_data/A_DeviceMotion_data/wlk_15/sub_9.csv  \n",
      "  inflating: A_DeviceMotion_data/A_DeviceMotion_data/wlk_7/sub_1.csv  \n",
      "  inflating: A_DeviceMotion_data/A_DeviceMotion_data/wlk_7/sub_10.csv  \n",
      "  inflating: A_DeviceMotion_data/A_DeviceMotion_data/wlk_7/sub_11.csv  \n",
      "  inflating: A_DeviceMotion_data/A_DeviceMotion_data/wlk_7/sub_12.csv  \n",
      "  inflating: A_DeviceMotion_data/A_DeviceMotion_data/wlk_7/sub_13.csv  \n",
      "  inflating: A_DeviceMotion_data/A_DeviceMotion_data/wlk_7/sub_14.csv  \n",
      "  inflating: A_DeviceMotion_data/A_DeviceMotion_data/wlk_7/sub_15.csv  \n",
      "  inflating: A_DeviceMotion_data/A_DeviceMotion_data/wlk_7/sub_16.csv  \n",
      "  inflating: A_DeviceMotion_data/A_DeviceMotion_data/wlk_7/sub_17.csv  \n",
      "  inflating: A_DeviceMotion_data/A_DeviceMotion_data/wlk_7/sub_18.csv  \n",
      "  inflating: A_DeviceMotion_data/A_DeviceMotion_data/wlk_7/sub_19.csv  \n",
      "  inflating: A_DeviceMotion_data/A_DeviceMotion_data/wlk_7/sub_2.csv  \n",
      "  inflating: A_DeviceMotion_data/A_DeviceMotion_data/wlk_7/sub_20.csv  \n",
      "  inflating: A_DeviceMotion_data/A_DeviceMotion_data/wlk_7/sub_21.csv  \n",
      "  inflating: A_DeviceMotion_data/A_DeviceMotion_data/wlk_7/sub_22.csv  \n",
      "  inflating: A_DeviceMotion_data/A_DeviceMotion_data/wlk_7/sub_23.csv  \n",
      "  inflating: A_DeviceMotion_data/A_DeviceMotion_data/wlk_7/sub_24.csv  \n",
      "  inflating: A_DeviceMotion_data/A_DeviceMotion_data/wlk_7/sub_3.csv  \n",
      "  inflating: A_DeviceMotion_data/A_DeviceMotion_data/wlk_7/sub_4.csv  \n",
      "  inflating: A_DeviceMotion_data/A_DeviceMotion_data/wlk_7/sub_5.csv  \n",
      "  inflating: A_DeviceMotion_data/A_DeviceMotion_data/wlk_7/sub_6.csv  \n",
      "  inflating: A_DeviceMotion_data/A_DeviceMotion_data/wlk_7/sub_7.csv  \n",
      "  inflating: A_DeviceMotion_data/A_DeviceMotion_data/wlk_7/sub_8.csv  \n",
      "  inflating: A_DeviceMotion_data/A_DeviceMotion_data/wlk_7/sub_9.csv  \n",
      "  inflating: A_DeviceMotion_data/A_DeviceMotion_data/wlk_8/sub_1.csv  \n",
      "  inflating: A_DeviceMotion_data/A_DeviceMotion_data/wlk_8/sub_10.csv  \n",
      "  inflating: A_DeviceMotion_data/A_DeviceMotion_data/wlk_8/sub_11.csv  \n",
      "  inflating: A_DeviceMotion_data/A_DeviceMotion_data/wlk_8/sub_12.csv  \n",
      "  inflating: A_DeviceMotion_data/A_DeviceMotion_data/wlk_8/sub_13.csv  \n",
      "  inflating: A_DeviceMotion_data/A_DeviceMotion_data/wlk_8/sub_14.csv  \n",
      "  inflating: A_DeviceMotion_data/A_DeviceMotion_data/wlk_8/sub_15.csv  \n",
      "  inflating: A_DeviceMotion_data/A_DeviceMotion_data/wlk_8/sub_16.csv  \n",
      "  inflating: A_DeviceMotion_data/A_DeviceMotion_data/wlk_8/sub_17.csv  \n",
      "  inflating: A_DeviceMotion_data/A_DeviceMotion_data/wlk_8/sub_18.csv  \n",
      "  inflating: A_DeviceMotion_data/A_DeviceMotion_data/wlk_8/sub_19.csv  \n",
      "  inflating: A_DeviceMotion_data/A_DeviceMotion_data/wlk_8/sub_2.csv  \n",
      "  inflating: A_DeviceMotion_data/A_DeviceMotion_data/wlk_8/sub_20.csv  \n",
      "  inflating: A_DeviceMotion_data/A_DeviceMotion_data/wlk_8/sub_21.csv  \n",
      "  inflating: A_DeviceMotion_data/A_DeviceMotion_data/wlk_8/sub_22.csv  \n",
      "  inflating: A_DeviceMotion_data/A_DeviceMotion_data/wlk_8/sub_23.csv  \n",
      "  inflating: A_DeviceMotion_data/A_DeviceMotion_data/wlk_8/sub_24.csv  \n",
      "  inflating: A_DeviceMotion_data/A_DeviceMotion_data/wlk_8/sub_3.csv  \n",
      "  inflating: A_DeviceMotion_data/A_DeviceMotion_data/wlk_8/sub_4.csv  \n",
      "  inflating: A_DeviceMotion_data/A_DeviceMotion_data/wlk_8/sub_5.csv  \n",
      "  inflating: A_DeviceMotion_data/A_DeviceMotion_data/wlk_8/sub_6.csv  \n",
      "  inflating: A_DeviceMotion_data/A_DeviceMotion_data/wlk_8/sub_7.csv  \n",
      "  inflating: A_DeviceMotion_data/A_DeviceMotion_data/wlk_8/sub_8.csv  \n",
      "  inflating: A_DeviceMotion_data/A_DeviceMotion_data/wlk_8/sub_9.csv  \n",
      "  inflating: A_DeviceMotion_data/__MACOSX/A_DeviceMotion_data/dws_1/._sub_1.csv  \n",
      "  inflating: A_DeviceMotion_data/__MACOSX/A_DeviceMotion_data/jog_9/._sub_4.csv  \n",
      "  inflating: A_DeviceMotion_data/__MACOSX/A_DeviceMotion_data/jog_9/._sub_5.csv  \n",
      "  inflating: A_DeviceMotion_data/__MACOSX/A_DeviceMotion_data/wlk_7/._sub_13.csv  \n",
      "  inflating: data_subjects_info.csv  \n"
     ]
    }
   ],
   "source": [
    "# zipを解凍\n",
    "!unzip motionsense-dataset.zip"
   ]
  },
  {
   "cell_type": "markdown",
   "metadata": {
    "colab_type": "text",
    "id": "9YGfe9cYAfHE"
   },
   "source": [
    "　解凍したデータセットには，24人の被験者の情報および，被験者が上記の6つの行動をとっている時のIMU情報(姿勢･重力･角速度･ユーザの加速度)が含まれている．\n",
    "\n",
    "　ただし，各被験者が行動1～3は3回ずつ，行動4～6は2回ずつ測定を行っているため，合計24人×(3回×3 + 2回×3) = 360個のCSVファイルが含まれる．また，IMUのサンプリング周波数は50Hzであった．  \n",
    "　360個のCSVファイルからトレーニングデータとテストデータを作成する．今回は，行動1～6それぞれ1回の試行をテストデータとし，残りをトレーニングデータとする．つまり，24人×6回 = 144個のCSVをテストデータに，24人×9回 = 216個のCSVをトレーニングデータとして扱う．"
   ]
  },
  {
   "cell_type": "code",
   "execution_count": 2,
   "metadata": {
    "colab": {
     "base_uri": "https://localhost:8080/",
     "height": 51
    },
    "colab_type": "code",
    "executionInfo": {
     "elapsed": 15362,
     "status": "ok",
     "timestamp": 1581566637049,
     "user": {
      "displayName": "青山裕良",
      "photoUrl": "",
      "userId": "08766073615901039264"
     },
     "user_tz": -540
    },
    "id": "UMbp43acdvE9",
    "outputId": "1488febd-a644-4a01-8461-305b98e1edd1"
   },
   "outputs": [
    {
     "name": "stdout",
     "output_type": "stream",
     "text": [
      "トレーニングデータ形状: (1081446, 14)\n",
      "テストデータ形状: (331419, 14)\n"
     ]
    }
   ],
   "source": [
    "# 360個のCSVファイルからトレーニングデータとテストデータを作成\n",
    "import numpy as np\n",
    "import pandas as pd\n",
    "\n",
    "# ==== data_subjects_info.csvに記載されている24人の被験者の情報を取り出す ===========================\n",
    "def get_ds_infos():\n",
    "  dss = np.genfromtxt(\"data_subjects_info.csv\",delimiter=',')\n",
    "  dss = dss[1:]   # 1行目を除く\n",
    "  return dss      # 0:被験者ID, 1:体重, 2:身長, 3:年齢, 4:性別\n",
    "\n",
    "# ==== 各被験者ごとに分かれているcsvファイルを1つにまとめ，時系列データを作成 ========================\n",
    "def create_time_series_data(num_features, num_act_labels, num_gen_labels, act_labels, trial_id):\n",
    "  ds_list = get_ds_infos()                                              # 被験者情報を取得\n",
    "  dataset_columns = num_features + num_gen_labels + num_act_labels      # データセットの列数 = センサデータ数 + 性別ラベル数 + 行動ラベル数\n",
    "  \n",
    "  # 訓練データとテストデータを初期化(これを最後に返す)\n",
    "  train_data = np.zeros((0, dataset_columns))\n",
    "  test_data = np.zeros((0, dataset_columns))\n",
    "  \n",
    "  for i, sub_id in enumerate(ds_list[:, 0]):      # 被験者IDでループ\n",
    "    for j, act in enumerate(act_labels):          # 行動ラベルでループ\n",
    "      for trial in trial_id[act]:                 # 試行回数でループ\n",
    "        fname = 'A_DeviceMotion_data/'+'A_DeviceMotion_data/'+act+'_'+str(trial)+'/sub_'+str(int(sub_id))+'.csv'\n",
    "        raw_data = pd.read_csv(fname)                                     # csvから生データを取得\n",
    "        raw_data = raw_data.drop(['Unnamed: 0'], axis=1)                  # ゴミデータ(1列目)を除く\n",
    "        unlabel_data = raw_data.values  \n",
    "        label_data = np.zeros((len(unlabel_data), dataset_columns))\n",
    "        label_data[:,:-(num_act_labels + num_gen_labels)] = unlabel_data\n",
    "        label_data[:,-1] = act_labels[act]\n",
    "        label_data[:,-2] = int(ds_list[i,4])\n",
    "\n",
    "        if trial < 11:          # 10回目以下の試行はトレーニングデータ\n",
    "          train_data = np.append(train_data, label_data, axis = 0)\n",
    "        else:                   # 11回目以上の試行はテストデータ\n",
    "          test_data = np.append(test_data, label_data, axis = 0)\n",
    "\n",
    "  return train_data , test_data\n",
    "\n",
    "# ==== 訓練データとテストデータの作成 ===================================================================\n",
    "num_features = 12       #    IMU情報   : 姿勢(ロール, ピッチ, ヨー), 重力(x, y, z), 角速度(x, y, z), ユーザ加速度(x,y,z)\n",
    "num_act_labels = 1      # 行動ラベル数 : dws, ups, wlk, jog, sit, std\n",
    "num_gen_labels = 1      #     性別     : 0/1(female/male)\n",
    "\n",
    "act_labels = {\"dws\":1, \"ups\":2, \"wlk\":3, \"jog\":4, \"sit\":5, \"std\":6}\n",
    "trial_id = {\"dws\":[1,2,11], \"ups\":[3,4,12], \"wlk\":[7,8,15], \"jog\":[9,16], \"sit\":[5,13], \"std\":[6,14]}    \n",
    "\n",
    "# データ作成\n",
    "train_ts, test_ts = create_time_series_data(num_features, num_act_labels, num_gen_labels, act_labels, trial_id)\n",
    "\n",
    "print(\"トレーニングデータ形状:\", train_ts.shape)\n",
    "print(\"テストデータ形状:\", test_ts.shape)"
   ]
  },
  {
   "cell_type": "code",
   "execution_count": 3,
   "metadata": {
    "colab": {
     "base_uri": "https://localhost:8080/",
     "height": 34
    },
    "colab_type": "code",
    "executionInfo": {
     "elapsed": 22467,
     "status": "ok",
     "timestamp": 1581566644166,
     "user": {
      "displayName": "青山裕良",
      "photoUrl": "",
      "userId": "08766073615901039264"
     },
     "user_tz": -540
    },
    "id": "oVwfzcOq2bAT",
    "outputId": "d91c8e25-ae9b-44a3-854c-12fea36d9ff3"
   },
   "outputs": [
    {
     "name": "stdout",
     "output_type": "stream",
     "text": [
      "CSV saved successfully\n"
     ]
    }
   ],
   "source": [
    "# CSVの保存\n",
    "header = \"attitude.roll,attitude.pitch,attitude.yaw,gravity.x,gravity.y,gravity.z,rotationRate.x,rotationRate.y,rotationRate.z,userAcceleration.x,userAcceleration.y,userAcceleration.z,Gender,CorrectAnserLabel\"\n",
    "fmt = \"%.6f, %.6f, %.6f, %.6f, %.6f, %.6f, %.6f, %.6f, %.6f, %.6f, %.6f, %.6f, %d, %d\"\n",
    "np.savetxt('train_raw.csv', train_ts, fmt=fmt, delimiter=',', header=header, comments=\"\")\n",
    "np.savetxt('test_raw.csv', test_ts, fmt=fmt, delimiter=',', header=header, comments=\"\")\n",
    "print(\"CSV saved successfully\")"
   ]
  },
  {
   "cell_type": "markdown",
   "metadata": {
    "colab_type": "text",
    "id": "GRnbgCh4D-nN"
   },
   "source": [
    "　ひとまずCSVの保存まで完了したが，今回は重い計算したくないので，データの削減を行う．"
   ]
  },
  {
   "cell_type": "code",
   "execution_count": 4,
   "metadata": {
    "colab": {
     "base_uri": "https://localhost:8080/",
     "height": 34
    },
    "colab_type": "code",
    "executionInfo": {
     "elapsed": 29003,
     "status": "ok",
     "timestamp": 1581566650715,
     "user": {
      "displayName": "青山裕良",
      "photoUrl": "",
      "userId": "08766073615901039264"
     },
     "user_tz": -540
    },
    "id": "15Le2OgRtQ11",
    "outputId": "5533b6db-bd27-40e7-e642-2625a1c26e5c"
   },
   "outputs": [
    {
     "name": "stdout",
     "output_type": "stream",
     "text": [
      "CSV saved successfully\n"
     ]
    }
   ],
   "source": [
    "# データセットが150MB程度あるので，5行に1行だけ使うことでデータを削減\n",
    "import pandas as pd\n",
    "\n",
    "# CSVファイルの読み込み\n",
    "def load_data():\n",
    "  return pd.read_csv(\"train_raw.csv\"), pd.read_csv(\"test_raw.csv\")\n",
    "\n",
    "train_data_raw, test_data_raw = load_data()\n",
    "\n",
    "# 5行に1行取り出し\n",
    "train_data_reduction = train_data_raw.query('index % 5 == 0')\n",
    "test_data_reduction = test_data_raw.query('index % 5 == 0')\n",
    "\n",
    "# CSVの保存\n",
    "train_data_reduction.to_csv(\"train.csv\")\n",
    "test_data_reduction.to_csv(\"test.csv\")\n",
    "print(\"CSV saved successfully\")"
   ]
  },
  {
   "cell_type": "markdown",
   "metadata": {
    "colab_type": "text",
    "id": "HwXbmk3EQJ9V"
   },
   "source": [
    "## 2) データの読み込みと加工\n",
    "\n",
    "\n",
    "---\n",
    "\n"
   ]
  },
  {
   "cell_type": "code",
   "execution_count": 5,
   "metadata": {
    "colab": {
     "base_uri": "https://localhost:8080/",
     "height": 544
    },
    "colab_type": "code",
    "executionInfo": {
     "elapsed": 29347,
     "status": "ok",
     "timestamp": 1581566651070,
     "user": {
      "displayName": "青山裕良",
      "photoUrl": "",
      "userId": "08766073615901039264"
     },
     "user_tz": -540
    },
    "id": "awJArm9no2F3",
    "outputId": "123d9d2e-823a-4513-c819-440068946be2"
   },
   "outputs": [
    {
     "name": "stdout",
     "output_type": "stream",
     "text": [
      "========= トレーニングデータ =============================================\n",
      "        attitude.roll  attitude.pitch  ...  Gender  CorrectAnserLabel\n",
      "0            1.528132       -0.733896  ...       1                  1\n",
      "1            1.476302       -0.700807  ...       1                  1\n",
      "2            1.434186       -0.693527  ...       1                  1\n",
      "3            1.137867       -0.639672  ...       1                  1\n",
      "4            0.916433       -0.655642  ...       1                  1\n",
      "...               ...             ...  ...     ...                ...\n",
      "216285      -0.245861       -1.449192  ...       0                  6\n",
      "216286      -0.144484       -1.447449  ...       0                  6\n",
      "216287      -0.054519       -1.450084  ...       0                  6\n",
      "216288       0.014894       -1.445758  ...       0                  6\n",
      "216289       0.068046       -1.445550  ...       0                  6\n",
      "\n",
      "[216290 rows x 14 columns] \n",
      "\n",
      "============= テストデータ ===============================================\n",
      "       attitude.roll  attitude.pitch  ...  Gender  CorrectAnserLabel\n",
      "0           0.086504       -1.172129  ...       1                  1\n",
      "1          -0.076909       -1.124464  ...       1                  1\n",
      "2          -0.288029       -1.256848  ...       1                  1\n",
      "3          -0.170030       -1.238264  ...       1                  1\n",
      "4          -0.325727       -1.215860  ...       1                  1\n",
      "...              ...             ...  ...     ...                ...\n",
      "66279      -2.228347       -1.490832  ...       0                  6\n",
      "66280      -2.353866       -1.480216  ...       0                  6\n",
      "66281      -2.426975       -1.476196  ...       0                  6\n",
      "66282      -2.476378       -1.477116  ...       0                  6\n",
      "66283      -2.514569       -1.474699  ...       0                  6\n",
      "\n",
      "[66284 rows x 14 columns]\n"
     ]
    }
   ],
   "source": [
    "# まずは，CSVを読み込んで中身を確認\n",
    "import numpy as np\n",
    "import pandas as pd\n",
    "\n",
    "# CSVファイルの読み込み\n",
    "def load_data():\n",
    "  return pd.read_csv(\"train.csv\"), pd.read_csv(\"test.csv\")\n",
    "\n",
    "train_data, test_data = load_data()\n",
    "\n",
    "# ゴミデータ(1列目)を削除\n",
    "train_data = train_data.drop(['Unnamed: 0'], axis=1)\n",
    "test_data = test_data.drop(['Unnamed: 0'], axis=1)\n",
    "\n",
    "print(\"========= トレーニングデータ =============================================\")\n",
    "print(train_data,\"\\n\")\n",
    "print(\"============= テストデータ ===============================================\")\n",
    "print(test_data)"
   ]
  },
  {
   "cell_type": "code",
   "execution_count": 6,
   "metadata": {
    "colab": {
     "base_uri": "https://localhost:8080/",
     "height": 680
    },
    "colab_type": "code",
    "executionInfo": {
     "elapsed": 29333,
     "status": "ok",
     "timestamp": 1581566651071,
     "user": {
      "displayName": "青山裕良",
      "photoUrl": "",
      "userId": "08766073615901039264"
     },
     "user_tz": -540
    },
    "id": "tHFo5qq5FKNb",
    "outputId": "fcfb0f10-fd57-4b4f-a8a2-3b4078e1a1ec"
   },
   "outputs": [
    {
     "name": "stdout",
     "output_type": "stream",
     "text": [
      "       attitude.roll  attitude.pitch   attitude.yaw      gravity.x  \\\n",
      "count  216290.000000   216290.000000  216290.000000  216290.000000   \n",
      "mean       -0.180388       -1.027508      -0.126891       0.037576   \n",
      "std         1.588032        0.450585       1.541152       0.332303   \n",
      "min        -3.141551       -1.567685      -3.141588      -0.999612   \n",
      "25%        -1.537733       -1.364888      -1.242785      -0.169055   \n",
      "50%         0.101366       -1.193118      -0.138958       0.018564   \n",
      "75%         0.901633       -0.781504       0.847209       0.250680   \n",
      "max         3.141565        1.567175       3.141574       0.999901   \n",
      "\n",
      "           gravity.y      gravity.z  rotationRate.x  rotationRate.y  \\\n",
      "count  216290.000000  216290.000000   216290.000000   216290.000000   \n",
      "mean        0.784542      -0.124646        0.004909        0.014150   \n",
      "std         0.297075       0.410916        1.320371        1.245072   \n",
      "min        -0.999993      -0.999999      -16.020784      -17.232466   \n",
      "25%         0.704348      -0.370828       -0.370029       -0.213028   \n",
      "50%         0.929523      -0.093192       -0.000572        0.000320   \n",
      "75%         0.978876       0.091003        0.172148        0.277600   \n",
      "max         0.999995       0.977251        9.944287       13.542882   \n",
      "\n",
      "       rotationRate.z  userAcceleration.x  userAcceleration.y  \\\n",
      "count   216290.000000       216290.000000       216290.000000   \n",
      "mean         0.013293           -0.005624            0.047037   \n",
      "std          0.823923            0.329618            0.535456   \n",
      "min        -10.829004           -5.805335           -3.325982   \n",
      "25%         -0.130471           -0.059578           -0.079322   \n",
      "50%          0.000156            0.000958            0.004075   \n",
      "75%          0.147765            0.051084            0.076055   \n",
      "max          9.621073            5.287045            7.067639   \n",
      "\n",
      "       userAcceleration.z         Gender  CorrectAnserLabel  \n",
      "count       216290.000000  216290.000000      216290.000000  \n",
      "mean             0.038143       0.571298           3.832304  \n",
      "std              0.380139       0.494892           1.632987  \n",
      "min             -7.743481       0.000000           1.000000  \n",
      "25%             -0.030807       0.000000           3.000000  \n",
      "50%              0.004977       1.000000           4.000000  \n",
      "75%              0.115237       1.000000           5.000000  \n",
      "max              5.240689       1.000000           6.000000  \n"
     ]
    }
   ],
   "source": [
    "# データの欠損がないか確認\n",
    "pd.set_option('display.max_columns', 14)\n",
    "print(train_data.describe())\n",
    "pd.reset_option('display.max_columns')"
   ]
  },
  {
   "cell_type": "code",
   "execution_count": 0,
   "metadata": {
    "colab": {},
    "colab_type": "code",
    "id": "r46xXqVxXSlw"
   },
   "outputs": [],
   "source": [
    "# 各種定数の定義\n",
    "num_features = 12       #    IMU情報   : 姿勢(ロール, ピッチ, ヨー), 重力(x, y, z), 角速度(x, y, z), ユーザ加速度(x,y,z)\n",
    "num_act_labels = 1      # 行動ラベル数 : dws, ups, wlk, jog, sit, std\n",
    "num_gen_labels = 1      #     性別     : 0/1(female/male)\n",
    "\n",
    "act_labels = {\"dws\":1, \"ups\":2, \"wlk\":3, \"jog\":4, \"sit\":5, \"std\":6}"
   ]
  },
  {
   "cell_type": "code",
   "execution_count": 8,
   "metadata": {
    "colab": {
     "base_uri": "https://localhost:8080/",
     "height": 499
    },
    "colab_type": "code",
    "executionInfo": {
     "elapsed": 31050,
     "status": "ok",
     "timestamp": 1581566652813,
     "user": {
      "displayName": "青山裕良",
      "photoUrl": "",
      "userId": "08766073615901039264"
     },
     "user_tz": -540
    },
    "id": "fRDhjWzszBCe",
    "outputId": "981195ef-b06a-40ea-aa4e-a4bb9d86eb5b"
   },
   "outputs": [
    {
     "data": {
      "image/png": "[encoded data removed]",
      "text/plain": [
       "<Figure size 864x576 with 12 Axes>"
      ]
     },
     "metadata": {
      "tags": []
     },
     "output_type": "display_data"
    }
   ],
   "source": [
    "# データの中身を描画\n",
    "import matplotlib.pyplot as plt\n",
    "\n",
    "plt.rcParams['figure.figsize'] = (12.0, 8.0)\n",
    "\n",
    "def get_column(act, type):\n",
    "  data = train_data[train_data[\"CorrectAnserLabel\"]==act_labels[act]][type].values\n",
    "  length = len(train_data[train_data[\"CorrectAnserLabel\"]==act_labels[act]][type].values)\n",
    "  return length, data\n",
    "\n",
    "act = \"ups\"    # {\"dws\", \"ups\", \"wlk\", \"jog\", \"sit\", \"std\"} から選択\n",
    "num_rows = 3\n",
    "num_columns = 4\n",
    "types = [\"attitude.roll\",\"gravity.x\",\"rotationRate.x\",\"userAcceleration.x\",\"attitude.pitch\",\"gravity.y\",\"rotationRate.y\",\"userAcceleration.y\",\"attitude.yaw\",\"gravity.z\",\"rotationRate.z\",\"userAcceleration.z\"]\n",
    "\n",
    "for i, type in enumerate(types):\n",
    "  data = get_column(\"ups\", type)\n",
    "  plt.subplot(num_rows, num_columns, i+1)\n",
    "  plt.plot(range(data[0]), data[1])\n",
    "  \n",
    "  if i+1==1:\n",
    "    plt.title(\"Attitude\")\n",
    "    plt.ylabel(\"x\")\n",
    "  elif i+1==2:\n",
    "    plt.title(\"Gravity\")\n",
    "  elif i+1==3:\n",
    "    plt.title(\"Rotation Rate\")\n",
    "  elif i+1==4:\n",
    "    plt.title(\"User Acceleration\")\n",
    "  elif i+1==5:\n",
    "    plt.ylabel(\"y\")\n",
    "  elif i+1==9:\n",
    "    plt.ylabel(\"z\")\n"
   ]
  },
  {
   "cell_type": "markdown",
   "metadata": {
    "colab_type": "text",
    "id": "caf5tHr_FRES"
   },
   "source": [
    "　上のコードセルで描画したグラフは，被験者が階段を登っている時のスマホIMU情報である．センサの値を目で確認しても，ノイズが大きく，被験者がどんな行動を取っているのかよく分からないが，以下ではこのセンサの値から行動ラベルを予測していく．"
   ]
  },
  {
   "cell_type": "code",
   "execution_count": 0,
   "metadata": {
    "colab": {},
    "colab_type": "code",
    "id": "od_aZ35By--_"
   },
   "outputs": [],
   "source": [
    "# NumPy配列に変換\n",
    "train_data = train_data.values\n",
    "test_data = test_data.values"
   ]
  },
  {
   "cell_type": "markdown",
   "metadata": {
    "colab_type": "text",
    "id": "l1rWIOwYOShD"
   },
   "source": [
    "　まず，CSVから取得したトレーニングデータとテストデータを，学習に用いる形状に加工する．IMU情報は時系列データであり，ある時刻でのデータとラベルだけでは意味を持たない．そこで，一定時間分のデータを1つのセクションとして扱い，セクションの集合を学習に用いるトレーニングデータとする．  \n",
    "　セクションに分割する際に必要となるパラメータはセクションのサイズと，スライドサイズである．セクションサイズは1セクションに何サンプル含めるかを決めるパラメータで，サンプリング周波数が50Hzであることから，セクションサイズが50の場合は1セクションに1分間のデータが含まれる．(ただし，今回はデータを1/5に削減しているので，1セクション12秒間に相当する．) また，スライドサイズは1つ後のセクションをどれだけずらして開始するかを決めるパラメータであり，小さすぎると計算コストが高くなる可能性がある．   \n",
    "　セクションサイズを50，スライドサイズを10として，セクションに分割するコードを以下に示す．"
   ]
  },
  {
   "cell_type": "code",
   "execution_count": 0,
   "metadata": {
    "colab": {},
    "colab_type": "code",
    "id": "MLIhyMjR9Zgm"
   },
   "outputs": [],
   "source": [
    "# 時系列データをセクションに分割する関数\n",
    "def time_series_to_section(dataset, num_act_labels, num_gen_labels, size_sections, size_slide, standardize = False, **options):\n",
    "  data = dataset[: , 0:-num_act_labels]           # IMUデータ+性別ラベルを取得\n",
    "  act_labels = dataset[: , -(num_act_labels)]     # 行動ラベルを取得\n",
    " \n",
    "  # === 標準化 =============================\n",
    "  if standardize:\n",
    "    if options:             # 引数で平均･分散を指定した場合\n",
    "      mean = options.get(\"mean\")\n",
    "      std = options.get(\"std\")\n",
    "      print(\"トレーニングデータの平均と分散を用いてテストデータを標準化しました．\")\n",
    "    else:                   # 指定のない場合は標準化\n",
    "      mean = data.mean(axis=0)\n",
    "      std = data.std(axis=0)\n",
    "      print(\"平均:\",str(mean.mean()),\", 分散:\",str(std.mean()), \"---> 標準化しました．\")           \n",
    "    data = (data - mean) / std\n",
    "  else:\n",
    "    print(\"標準化していません．\")\n",
    "\n",
    "  # あとで3次元配列に格納するために，一旦転置しておく\n",
    "  data = data.T\n",
    "          \n",
    "  size_features = data.shape[0]\n",
    "  size_data = data.shape[1]\n",
    "  num_sections = 1 + ( (size_data - size_sections) // size_slide ) \n",
    "          \n",
    "  # 1セクションのデータ形状を定義\n",
    "  data_sections = np.zeros((num_sections, size_features, size_sections))\n",
    "  act_secs_labels = np.zeros(num_sections)\n",
    "   \n",
    "  for count_section in range(num_sections):   # 各セクションの第1要素のindex\n",
    "    section_first_index = count_section * size_slide     # セクションカウント\n",
    "    if(count_section >= num_sections):    # セクション数を超えたら終了     \n",
    "      break\n",
    "    if act_labels[section_first_index] != act_labels[section_first_index+size_sections-1]:    # セクション内で行動ラベルが全て一緒でない時は無視\n",
    "      continue    \n",
    "    data_sections[count_section] = data[0:size_features, section_first_index:section_first_index+size_sections]   # セクションデータのcount_section要素目に代入\n",
    "    act_secs_labels[count_section] = act_labels[section_first_index].astype(int)\n",
    "  \n",
    "  return data_sections, act_secs_labels, mean, std"
   ]
  },
  {
   "cell_type": "code",
   "execution_count": 11,
   "metadata": {
    "colab": {
     "base_uri": "https://localhost:8080/",
     "height": 102
    },
    "colab_type": "code",
    "executionInfo": {
     "elapsed": 31015,
     "status": "ok",
     "timestamp": 1581566652817,
     "user": {
      "displayName": "青山裕良",
      "photoUrl": "",
      "userId": "08766073615901039264"
     },
     "user_tz": -540
    },
    "id": "p6qwsWWc_vu0",
    "outputId": "eb79932b-39a8-4b18-976c-535c4e514160"
   },
   "outputs": [
    {
     "name": "stdout",
     "output_type": "stream",
     "text": [
      "分割後のセクション形状: ( 13 x 50 )\n",
      "平均: 0.0035300797597241063 , 分散: 0.749962379300086 ---> 標準化しました．\n",
      "トレーニングデータの平均と分散を用いてテストデータを標準化しました．\n",
      "トレーニングデータ形状: (21625, 13, 50)\n",
      "テストデータ形状: (6624, 13, 50)\n"
     ]
    }
   ],
   "source": [
    "size_sections = 50   # セクションサイズ\n",
    "size_slide = 10      # スライドサイズ\n",
    "\n",
    "# 時系列データをセクション分割\n",
    "print(\"分割後のセクション形状: (\",num_features+num_gen_labels,\"x\",size_sections,\")\")\n",
    "X_train, y_train, train_mean, train_std = time_series_to_section( train_data.copy(),\n",
    "                                                                  num_act_labels,\n",
    "                                                                  num_gen_labels,\n",
    "                                                                  size_sections,\n",
    "                                                                  size_slide,\n",
    "                                                                  standardize = True )\n",
    "\n",
    "X_test, y_test, test_mean, test_std = time_series_to_section( test_data.copy(),\n",
    "                                                              num_act_labels,\n",
    "                                                              num_gen_labels,\n",
    "                                                              size_sections,\n",
    "                                                              size_slide,\n",
    "                                                              standardize = True,\n",
    "                                                              mean = train_mean, \n",
    "                                                              std = train_std  )\n",
    "print(\"トレーニングデータ形状:\", X_train.shape)\n",
    "print(\"テストデータ形状:\", X_test.shape)"
   ]
  },
  {
   "cell_type": "markdown",
   "metadata": {
    "colab_type": "text",
    "id": "9XieKVL2HMM-"
   },
   "source": [
    "## 3) 次元圧縮と行動の予測\n",
    "\n",
    "\n",
    "---\n",
    "\n",
    "　では，実際にIMU情報を用いた人間行動認識を行う．\n",
    "以下では，\n",
    "\n",
    "*   PCAによる次元圧縮\n",
    "*   決定木による予測\n",
    "*   ブースティング(Adaboost)による予測\n",
    "*   ランダムフォレストによる予測\n",
    "*   交差検証法によるランダムフォレストのハイパーパラメータ探索\n",
    "\n",
    "を行っている．\n",
    "\n"
   ]
  },
  {
   "cell_type": "markdown",
   "metadata": {
    "colab_type": "text",
    "id": "MjwvlKg2WIBs"
   },
   "source": [
    "### 3-1) PCAによる次元圧縮"
   ]
  },
  {
   "cell_type": "code",
   "execution_count": 0,
   "metadata": {
    "colab": {},
    "colab_type": "code",
    "id": "LlsGoSrhL3E9"
   },
   "outputs": [],
   "source": [
    "# PCAによる次元圧縮\n",
    "from sklearn.decomposition import PCA\n",
    "\n",
    "# 2次元データを1次元データに変換\n",
    "X_train_flatten = X_train.reshape(X_train.shape[0], X_train.shape[1]*X_train.shape[2]) \n",
    "X_test_flatten  = X_test.reshape(X_test.shape[0], X_test.shape[1]*X_test.shape[2]) \n",
    "\n",
    "pca = PCA(n_components=2, random_state=0)   # 2次元に圧縮\n",
    "pca.fit(X_train_flatten)                    # 主成分の取得\n",
    "Xpca_train = pca.transform(X_train_flatten) # PCAによる次元圧縮\n",
    "Xpca_test = pca.transform(X_test_flatten)"
   ]
  },
  {
   "cell_type": "markdown",
   "metadata": {
    "colab_type": "text",
    "id": "QTZPeFB7W2PK"
   },
   "source": [
    "### 3-2) 決定木による予測"
   ]
  },
  {
   "cell_type": "code",
   "execution_count": 13,
   "metadata": {
    "colab": {
     "base_uri": "https://localhost:8080/",
     "height": 34
    },
    "colab_type": "code",
    "executionInfo": {
     "elapsed": 32251,
     "status": "ok",
     "timestamp": 1581566654076,
     "user": {
      "displayName": "青山裕良",
      "photoUrl": "",
      "userId": "08766073615901039264"
     },
     "user_tz": -540
    },
    "id": "e1nIhw7e44nh",
    "outputId": "cce3be54-f585-46b9-b520-e4c456a1b92a"
   },
   "outputs": [
    {
     "name": "stdout",
     "output_type": "stream",
     "text": [
      "テストデータの予測正解率 :  0.6296799516908212\n"
     ]
    }
   ],
   "source": [
    "# 決定木による予測\n",
    "from sklearn.tree import DecisionTreeClassifier\n",
    "\n",
    "model_simple = DecisionTreeClassifier(max_depth=5, random_state=0)\n",
    "model_simple.fit(Xpca_train, y_train)\n",
    "\n",
    "pred_y_test = model_simple.predict(Xpca_test)\n",
    "prediction_result = (pred_y_test == y_test)\n",
    "accuracy = np.mean(prediction_result)\n",
    "print(\"テストデータの予測正解率 : \", accuracy)"
   ]
  },
  {
   "cell_type": "markdown",
   "metadata": {
    "colab_type": "text",
    "id": "3HcUZ0YgW7S0"
   },
   "source": [
    "### 3-3) ブースティング(Adaboost)による予測"
   ]
  },
  {
   "cell_type": "code",
   "execution_count": 14,
   "metadata": {
    "colab": {
     "base_uri": "https://localhost:8080/",
     "height": 51
    },
    "colab_type": "code",
    "executionInfo": {
     "elapsed": 75115,
     "status": "ok",
     "timestamp": 1581566696951,
     "user": {
      "displayName": "青山裕良",
      "photoUrl": "",
      "userId": "08766073615901039264"
     },
     "user_tz": -540
    },
    "id": "OWCFTTSNIbDy",
    "outputId": "30083ba3-4586-4cad-ca16-b729d4f54471"
   },
   "outputs": [
    {
     "name": "stdout",
     "output_type": "stream",
     "text": [
      "テストデータの予測正解率 :  0.5157004830917874\n",
      "計算時間 :  43.043667793273926\n"
     ]
    }
   ],
   "source": [
    "# Adaboostによる予測  (注意 : 40秒程度かかります)\n",
    "from sklearn import tree, metrics, ensemble\n",
    "import time\n",
    "start = time.time() # 計算開始時刻\n",
    "\n",
    "single_tree = tree.DecisionTreeClassifier(max_depth=6, random_state=0) \n",
    "adaDT = ensemble.AdaBoostClassifier(base_estimator=single_tree, n_estimators=1000, random_state=0)\n",
    "adaDT.fit(Xpca_train, y_train)\n",
    "pred_y_test = adaDT.predict(Xpca_test)\n",
    "\n",
    "print(\"テストデータの予測正解率 : \", metrics.accuracy_score(pred_y_test, y_test)) # test accuracy\n",
    "\n",
    "end = time.time() # 計算終了時刻\n",
    "print(\"計算時間 : \", end - start) # 差を秒単位で計算"
   ]
  },
  {
   "cell_type": "markdown",
   "metadata": {
    "colab_type": "text",
    "id": "CUcEaQB_XRun"
   },
   "source": [
    "### 3-4) ランダムフォレストによる予測"
   ]
  },
  {
   "cell_type": "code",
   "execution_count": 15,
   "metadata": {
    "colab": {
     "base_uri": "https://localhost:8080/",
     "height": 34
    },
    "colab_type": "code",
    "executionInfo": {
     "elapsed": 82108,
     "status": "ok",
     "timestamp": 1581566703956,
     "user": {
      "displayName": "青山裕良",
      "photoUrl": "",
      "userId": "08766073615901039264"
     },
     "user_tz": -540
    },
    "id": "xInGhEatNq-s",
    "outputId": "ed9654fb-1bd2-4b78-aa39-7cdfa0406339"
   },
   "outputs": [
    {
     "name": "stdout",
     "output_type": "stream",
     "text": [
      "テストデータの予測正解率 :  0.6666666666666666\n"
     ]
    }
   ],
   "source": [
    "# ランダムフォレストによる予測\n",
    "from sklearn import tree, metrics, ensemble\n",
    "\n",
    "RF = ensemble.RandomForestClassifier(max_depth=7, min_samples_leaf=4 ,n_estimators=1000, random_state=0, n_jobs=-1)\n",
    "RF.fit(Xpca_train, y_train) \n",
    "pred_y_test = RF.predict(Xpca_test)\n",
    "\n",
    "print(\"テストデータの予測正解率 : \", metrics.accuracy_score(pred_y_test, y_test)) # test accuracy"
   ]
  },
  {
   "cell_type": "markdown",
   "metadata": {
    "colab_type": "text",
    "id": "LHZm_shnsp6Y"
   },
   "source": [
    "### 3-5) 交差検証法によるランダムフォレストのハイパーパラメータ探索\n",
    "\n",
    "　上記の例では，`max_depth`を7，`min_samples_leaf`を4としてランダムフォレストを適用し，**66.67%**で予測できている．では，クロスバリデーションを用いてランダムフォレストのハイパーパラメータ探索を行い，予測正解率の向上を図る．  \n",
    "【注意】以下のコードの実行は3～4分かかります．"
   ]
  },
  {
   "cell_type": "code",
   "execution_count": 16,
   "metadata": {
    "colab": {
     "base_uri": "https://localhost:8080/",
     "height": 1000
    },
    "colab_type": "code",
    "executionInfo": {
     "elapsed": 300563,
     "status": "ok",
     "timestamp": 1581566922423,
     "user": {
      "displayName": "青山裕良",
      "photoUrl": "",
      "userId": "08766073615901039264"
     },
     "user_tz": -540
    },
    "id": "GpSGKCMQQYry",
    "outputId": "9c31dea9-7635-4150-8d4f-3fa57ddeb5af"
   },
   "outputs": [
    {
     "name": "stdout",
     "output_type": "stream",
     "text": [
      "Fitting 4 folds for each of 12 candidates, totalling 48 fits\n",
      "[CV] max_depth=4, min_samples_leaf=2 .................................\n"
     ]
    },
    {
     "name": "stderr",
     "output_type": "stream",
     "text": [
      "[Parallel(n_jobs=1)]: Using backend SequentialBackend with 1 concurrent workers.\n"
     ]
    },
    {
     "name": "stdout",
     "output_type": "stream",
     "text": [
      "[CV] .................. max_depth=4, min_samples_leaf=2, total=   4.6s\n",
      "[CV] max_depth=4, min_samples_leaf=2 .................................\n"
     ]
    },
    {
     "name": "stderr",
     "output_type": "stream",
     "text": [
      "[Parallel(n_jobs=1)]: Done   1 out of   1 | elapsed:    4.6s remaining:    0.0s\n"
     ]
    },
    {
     "name": "stdout",
     "output_type": "stream",
     "text": [
      "[CV] .................. max_depth=4, min_samples_leaf=2, total=   3.8s\n",
      "[CV] max_depth=4, min_samples_leaf=2 .................................\n",
      "[CV] .................. max_depth=4, min_samples_leaf=2, total=   3.8s\n",
      "[CV] max_depth=4, min_samples_leaf=2 .................................\n",
      "[CV] .................. max_depth=4, min_samples_leaf=2, total=   3.8s\n",
      "[CV] max_depth=4, min_samples_leaf=3 .................................\n",
      "[CV] .................. max_depth=4, min_samples_leaf=3, total=   3.8s\n",
      "[CV] max_depth=4, min_samples_leaf=3 .................................\n",
      "[CV] .................. max_depth=4, min_samples_leaf=3, total=   3.7s\n",
      "[CV] max_depth=4, min_samples_leaf=3 .................................\n",
      "[CV] .................. max_depth=4, min_samples_leaf=3, total=   3.8s\n",
      "[CV] max_depth=4, min_samples_leaf=3 .................................\n",
      "[CV] .................. max_depth=4, min_samples_leaf=3, total=   3.9s\n",
      "[CV] max_depth=4, min_samples_leaf=4 .................................\n",
      "[CV] .................. max_depth=4, min_samples_leaf=4, total=   3.7s\n",
      "[CV] max_depth=4, min_samples_leaf=4 .................................\n",
      "[CV] .................. max_depth=4, min_samples_leaf=4, total=   3.7s\n",
      "[CV] max_depth=4, min_samples_leaf=4 .................................\n",
      "[CV] .................. max_depth=4, min_samples_leaf=4, total=   3.7s\n",
      "[CV] max_depth=4, min_samples_leaf=4 .................................\n",
      "[CV] .................. max_depth=4, min_samples_leaf=4, total=   3.9s\n",
      "[CV] max_depth=5, min_samples_leaf=2 .................................\n",
      "[CV] .................. max_depth=5, min_samples_leaf=2, total=   4.3s\n",
      "[CV] max_depth=5, min_samples_leaf=2 .................................\n",
      "[CV] .................. max_depth=5, min_samples_leaf=2, total=   4.3s\n",
      "[CV] max_depth=5, min_samples_leaf=2 .................................\n",
      "[CV] .................. max_depth=5, min_samples_leaf=2, total=   4.2s\n",
      "[CV] max_depth=5, min_samples_leaf=2 .................................\n",
      "[CV] .................. max_depth=5, min_samples_leaf=2, total=   4.2s\n",
      "[CV] max_depth=5, min_samples_leaf=3 .................................\n",
      "[CV] .................. max_depth=5, min_samples_leaf=3, total=   4.1s\n",
      "[CV] max_depth=5, min_samples_leaf=3 .................................\n",
      "[CV] .................. max_depth=5, min_samples_leaf=3, total=   4.2s\n",
      "[CV] max_depth=5, min_samples_leaf=3 .................................\n",
      "[CV] .................. max_depth=5, min_samples_leaf=3, total=   4.2s\n",
      "[CV] max_depth=5, min_samples_leaf=3 .................................\n",
      "[CV] .................. max_depth=5, min_samples_leaf=3, total=   4.2s\n",
      "[CV] max_depth=5, min_samples_leaf=4 .................................\n",
      "[CV] .................. max_depth=5, min_samples_leaf=4, total=   4.2s\n",
      "[CV] max_depth=5, min_samples_leaf=4 .................................\n",
      "[CV] .................. max_depth=5, min_samples_leaf=4, total=   4.4s\n",
      "[CV] max_depth=5, min_samples_leaf=4 .................................\n",
      "[CV] .................. max_depth=5, min_samples_leaf=4, total=   4.3s\n",
      "[CV] max_depth=5, min_samples_leaf=4 .................................\n",
      "[CV] .................. max_depth=5, min_samples_leaf=4, total=   4.2s\n",
      "[CV] max_depth=6, min_samples_leaf=2 .................................\n",
      "[CV] .................. max_depth=6, min_samples_leaf=2, total=   4.6s\n",
      "[CV] max_depth=6, min_samples_leaf=2 .................................\n",
      "[CV] .................. max_depth=6, min_samples_leaf=2, total=   4.8s\n",
      "[CV] max_depth=6, min_samples_leaf=2 .................................\n",
      "[CV] .................. max_depth=6, min_samples_leaf=2, total=   4.7s\n",
      "[CV] max_depth=6, min_samples_leaf=2 .................................\n",
      "[CV] .................. max_depth=6, min_samples_leaf=2, total=   4.7s\n",
      "[CV] max_depth=6, min_samples_leaf=3 .................................\n",
      "[CV] .................. max_depth=6, min_samples_leaf=3, total=   4.6s\n",
      "[CV] max_depth=6, min_samples_leaf=3 .................................\n",
      "[CV] .................. max_depth=6, min_samples_leaf=3, total=   4.6s\n",
      "[CV] max_depth=6, min_samples_leaf=3 .................................\n",
      "[CV] .................. max_depth=6, min_samples_leaf=3, total=   4.6s\n",
      "[CV] max_depth=6, min_samples_leaf=3 .................................\n",
      "[CV] .................. max_depth=6, min_samples_leaf=3, total=   4.6s\n",
      "[CV] max_depth=6, min_samples_leaf=4 .................................\n",
      "[CV] .................. max_depth=6, min_samples_leaf=4, total=   4.6s\n",
      "[CV] max_depth=6, min_samples_leaf=4 .................................\n",
      "[CV] .................. max_depth=6, min_samples_leaf=4, total=   4.6s\n",
      "[CV] max_depth=6, min_samples_leaf=4 .................................\n",
      "[CV] .................. max_depth=6, min_samples_leaf=4, total=   4.8s\n",
      "[CV] max_depth=6, min_samples_leaf=4 .................................\n",
      "[CV] .................. max_depth=6, min_samples_leaf=4, total=   4.8s\n",
      "[CV] max_depth=7, min_samples_leaf=2 .................................\n",
      "[CV] .................. max_depth=7, min_samples_leaf=2, total=   5.0s\n",
      "[CV] max_depth=7, min_samples_leaf=2 .................................\n",
      "[CV] .................. max_depth=7, min_samples_leaf=2, total=   5.0s\n",
      "[CV] max_depth=7, min_samples_leaf=2 .................................\n",
      "[CV] .................. max_depth=7, min_samples_leaf=2, total=   5.4s\n",
      "[CV] max_depth=7, min_samples_leaf=2 .................................\n",
      "[CV] .................. max_depth=7, min_samples_leaf=2, total=   5.5s\n",
      "[CV] max_depth=7, min_samples_leaf=3 .................................\n",
      "[CV] .................. max_depth=7, min_samples_leaf=3, total=   5.0s\n",
      "[CV] max_depth=7, min_samples_leaf=3 .................................\n",
      "[CV] .................. max_depth=7, min_samples_leaf=3, total=   4.9s\n",
      "[CV] max_depth=7, min_samples_leaf=3 .................................\n",
      "[CV] .................. max_depth=7, min_samples_leaf=3, total=   4.9s\n",
      "[CV] max_depth=7, min_samples_leaf=3 .................................\n",
      "[CV] .................. max_depth=7, min_samples_leaf=3, total=   5.0s\n",
      "[CV] max_depth=7, min_samples_leaf=4 .................................\n",
      "[CV] .................. max_depth=7, min_samples_leaf=4, total=   5.0s\n",
      "[CV] max_depth=7, min_samples_leaf=4 .................................\n",
      "[CV] .................. max_depth=7, min_samples_leaf=4, total=   5.0s\n",
      "[CV] max_depth=7, min_samples_leaf=4 .................................\n",
      "[CV] .................. max_depth=7, min_samples_leaf=4, total=   5.1s\n",
      "[CV] max_depth=7, min_samples_leaf=4 .................................\n",
      "[CV] .................. max_depth=7, min_samples_leaf=4, total=   5.0s\n"
     ]
    },
    {
     "name": "stderr",
     "output_type": "stream",
     "text": [
      "[Parallel(n_jobs=1)]: Done  48 out of  48 | elapsed:  3.6min finished\n"
     ]
    },
    {
     "name": "stdout",
     "output_type": "stream",
     "text": [
      "\n",
      " 最適ハイパーパラメータ :  {'max_depth': 5, 'min_samples_leaf': 3}\n"
     ]
    }
   ],
   "source": [
    "# クロスバリデーションからmax_depthとmin_samples_leafの最適な値を求める\n",
    "from sklearn.model_selection import GridSearchCV\n",
    "\n",
    "np.random.seed(0)\n",
    "\n",
    "# 辞書型が1つ入った配列\n",
    "param_grid = [  \n",
    "  { \n",
    "    \"max_depth\": [4,5,6,7],\n",
    "    \"min_samples_leaf\": [2,3,4]\n",
    "  } \n",
    "] \n",
    "grid_search_dt = GridSearchCV(RF, param_grid, cv=4, verbose=2)   # 4-fold CVをしながら最適なモデルを決定する\n",
    "grid_search_dt.fit(Xpca_train, y_train)\n",
    "print(\"\\n\", \"最適ハイパーパラメータ : \", grid_search_dt.best_params_)\n",
    "# print(grid_search_dt.best_score_)\n"
   ]
  },
  {
   "cell_type": "markdown",
   "metadata": {
    "colab_type": "text",
    "id": "gfKwyRjX4A0G"
   },
   "source": [
    "　クロスバリデーションによるハイパーパラメータ探索から，`max_depth`を5，`min_samples_leaf`を3としてランダムフォレストを適用すると，先程よりも汎化性能が上がり，テストデータの予測正解率が**66.67 %**→**67.42 %**と少し向上していることが確認できる．"
   ]
  },
  {
   "cell_type": "code",
   "execution_count": 17,
   "metadata": {
    "colab": {
     "base_uri": "https://localhost:8080/",
     "height": 34
    },
    "colab_type": "code",
    "executionInfo": {
     "elapsed": 306067,
     "status": "ok",
     "timestamp": 1581566927938,
     "user": {
      "displayName": "青山裕良",
      "photoUrl": "",
      "userId": "08766073615901039264"
     },
     "user_tz": -540
    },
    "id": "sRDRapWGkAwp",
    "outputId": "9b91b546-82a1-4431-901b-f67995547147"
   },
   "outputs": [
    {
     "name": "stdout",
     "output_type": "stream",
     "text": [
      "テストデータの予測正解率 :  0.6742149758454107\n"
     ]
    }
   ],
   "source": [
    "RF = ensemble.RandomForestClassifier(max_depth=5, min_samples_leaf=3, n_estimators=1000, random_state=0, n_jobs=-1)\n",
    "RF.fit(Xpca_train, y_train)            # フィッティング\n",
    "pred_y_test = RF.predict(Xpca_test)    # 予測\n",
    "print(\"テストデータの予測正解率 : \", metrics.accuracy_score(pred_y_test, y_test)) # test accuracy"
   ]
  },
  {
   "cell_type": "markdown",
   "metadata": {
    "colab_type": "text",
    "id": "ECYQVaK8ozpl"
   },
   "source": [
    "## 4) 考察\n",
    "\n",
    "\n",
    "---\n",
    "\n",
    "\n",
    "　以上より，ランダムフォレストを用いることで，人間の行動が**67.42%**で予測できることが分かった．  \n",
    "　では，予測に失敗したデータについて考察する．まず，正解したサンプル数と不正解したサンプル数を，行動ラベルごとに分けて描画することにより，どの行動の認識が難しいのかを確認する．"
   ]
  },
  {
   "cell_type": "code",
   "execution_count": 18,
   "metadata": {
    "colab": {
     "base_uri": "https://localhost:8080/",
     "height": 370
    },
    "colab_type": "code",
    "executionInfo": {
     "elapsed": 306052,
     "status": "ok",
     "timestamp": 1581566927940,
     "user": {
      "displayName": "青山裕良",
      "photoUrl": "",
      "userId": "08766073615901039264"
     },
     "user_tz": -540
    },
    "id": "HDj_ibCkg2oH",
    "outputId": "554267fa-c927-4592-e3b5-5f8c5923050a"
   },
   "outputs": [
    {
     "name": "stdout",
     "output_type": "stream",
     "text": [
      "各ラベルの正解数 [1, 4, 1004, 0, 1872, 884]\n",
      "各ラベルの不正解数 [334, 435, 187, 477, 92, 633]\n"
     ]
    },
    {
     "data": {
      "image/png": "[encoded data removed]",
      "text/plain": [
       "<Figure size 1008x360 with 2 Axes>"
      ]
     },
     "metadata": {
      "tags": []
     },
     "output_type": "display_data"
    }
   ],
   "source": [
    "# 各ラベルについて正解/不正解のサンプル数を描画\n",
    "result_bool = (pred_y_test == y_test)   # 予測が正解なら1, 間違いなら0\n",
    "\n",
    "true_result = result_bool * y_test\n",
    "false_result = np.logical_not(result_bool) * y_test\n",
    "\n",
    "def count_label(list, label):\n",
    "  return np.count_nonzero(list==label)\n",
    "\n",
    "plt.rcParams['figure.figsize'] = (14.0, 5.0)\n",
    "left = np.array([1, 2, 3, 4, 5, 6])\n",
    "tick_label = [\"dws\", \"ups\", \"wlk\", \"jog\", \"sit\", \"std\"]\n",
    "\n",
    "# 各ラベルにおける正解したサンプル数の描画\n",
    "counts = [count_label(true_result, i) for i in range(1,7)]\n",
    "print(\"各ラベルの正解数\", counts)     # {\"dws\":1, \"ups\":2, \"wlk\":3, \"jog\":4, \"sit\":5, \"std\":6}\n",
    "plt.subplot(1, 2, 1)\n",
    "plt.bar(left, counts, tick_label=tick_label, align=\"center\")\n",
    "plt.title(\"Number of correctly answered samples\")\n",
    "\n",
    "# 各ラベルにおける不正解したサンプル数の描画\n",
    "counts = [count_label(false_result, i) for i in range(1,7)]\n",
    "print(\"各ラベルの不正解数\", counts)     # {\"dws\":1, \"ups\":2, \"wlk\":3, \"jog\":4, \"sit\":5, \"std\":6}\n",
    "plt.subplot(1, 2, 2)\n",
    "plt.bar(left, counts, tick_label=tick_label, align=\"center\")\n",
    "plt.title(\"Number of incorrectly answered samples\")\n",
    "\n",
    "plt.show()\n"
   ]
  },
  {
   "cell_type": "markdown",
   "metadata": {
    "colab_type": "text",
    "id": "9F4DTdm6YqTL"
   },
   "source": [
    "　上のグラフより，歩いている時および座っている時に比べ，他の動作の予測精度が悪いことが見て取れる．しかし，それ以前に階段の上り下りおよびジョギング動作においてほとんど正解していないことが気になる．次に，不正解だった行動ラベルにおいて，どの動作と間違えて予測してしまったのか描画し，確認する．"
   ]
  },
  {
   "cell_type": "code",
   "execution_count": 19,
   "metadata": {
    "colab": {
     "base_uri": "https://localhost:8080/",
     "height": 499
    },
    "colab_type": "code",
    "executionInfo": {
     "elapsed": 306611,
     "status": "ok",
     "timestamp": 1581566928514,
     "user": {
      "displayName": "青山裕良",
      "photoUrl": "",
      "userId": "08766073615901039264"
     },
     "user_tz": -540
    },
    "id": "kwUOdRcybWU4",
    "outputId": "7f60d863-9046-4b13-aa7d-1d9a04adcf84"
   },
   "outputs": [
    {
     "data": {
      "image/png": "[encoded data removed]",
      "text/plain": [
       "<Figure size 1008x576 with 6 Axes>"
      ]
     },
     "metadata": {
      "tags": []
     },
     "output_type": "display_data"
    }
   ],
   "source": [
    "# 各正解ラベルを間違えた際に選択したラベルの数を描画\n",
    "plt.rcParams['figure.figsize'] = (14.0, 8.0)\n",
    "act_labels = {\"dws\":1, \"ups\":2, \"wlk\":3, \"jog\":4, \"sit\":5, \"std\":6}\n",
    "\n",
    "for act_label in act_labels:\n",
    "  false_label = (false_result==act_labels[act_label]) * pred_y_test\n",
    "  counts = [count_label(false_label, i) for i in range(1,7)]\n",
    "  plt.subplot(2, 3, act_labels[act_label])\n",
    "  plt.title(\"Number of labels wrong in [\"+str(act_label)+\"] prediction\")\n",
    "  plt.bar(left, counts, tick_label=tick_label, align=\"center\")\n",
    "\n",
    "plt.show()"
   ]
  },
  {
   "cell_type": "markdown",
   "metadata": {
    "colab_type": "text",
    "id": "tLMSP5UyaJ2A"
   },
   "source": [
    "　明らかに歩行動作と誤予測したものが多い．これは，学習データに問題がある気がする．そこで，トレーニングデータのサンプル数をラベルごとに描画する．"
   ]
  },
  {
   "cell_type": "code",
   "execution_count": 20,
   "metadata": {
    "colab": {
     "base_uri": "https://localhost:8080/",
     "height": 370
    },
    "colab_type": "code",
    "executionInfo": {
     "elapsed": 306596,
     "status": "ok",
     "timestamp": 1581566928515,
     "user": {
      "displayName": "青山裕良",
      "photoUrl": "",
      "userId": "08766073615901039264"
     },
     "user_tz": -540
    },
    "id": "MeSzvq9b9a-9",
    "outputId": "fe71fbbe-925b-4c4b-c301-72371ef45b5c"
   },
   "outputs": [
    {
     "name": "stdout",
     "output_type": "stream",
     "text": [
      "トレーニングデータのラベル別サンプル数 [2069, 2466, 5463, 1969, 4574, 4378]\n"
     ]
    },
    {
     "data": {
      "text/plain": [
       "Text(0.5, 1.0, 'Number of training data samples by label')"
      ]
     },
     "execution_count": 20,
     "metadata": {
      "tags": []
     },
     "output_type": "execute_result"
    },
    {
     "data": {
      "image/png": "[encoded data removed]",
      "text/plain": [
       "<Figure size 504x360 with 1 Axes>"
      ]
     },
     "metadata": {
      "tags": []
     },
     "output_type": "display_data"
    }
   ],
   "source": [
    "counts = [count_label(y_train, i) for i in range(1,7)]\n",
    "print(\"トレーニングデータのラベル別サンプル数\", counts)     # {\"dws\":1, \"ups\":2, \"wlk\":3, \"jog\":4, \"sit\":5, \"std\":6}\n",
    "plt.rcParams['figure.figsize'] = (7.0, 5.0)\n",
    "plt.bar(left, counts, tick_label=tick_label, align=\"center\")\n",
    "plt.title(\"Number of training data samples by label\")"
   ]
  },
  {
   "cell_type": "markdown",
   "metadata": {
    "colab_type": "text",
    "id": "2tWBlLHzanqi"
   },
   "source": [
    "　たしかに，歩行動作のトレーニングデータのサンプル数が多くなっていることが確認できる．これは，単純に確認ミスであったので，各ラベルのサンプル数が等しくなるようにデータを用意し直す．"
   ]
  },
  {
   "cell_type": "code",
   "execution_count": 0,
   "metadata": {
    "colab": {},
    "colab_type": "code",
    "id": "YINIywg8d9d1"
   },
   "outputs": [],
   "source": [
    "# 時系列データをセクションに分割する関数\n",
    "def time_series_to_section(dataset, num_act_labels, num_gen_labels, size_sections, size_slide, standardize = False, **options):\n",
    "  data = dataset[: , 0:-num_act_labels]           # IMUデータ+性別ラベルを取得\n",
    "  act_labels_data = dataset[: , -(num_act_labels)]     # 行動ラベルを取得\n",
    " \n",
    "  # === 標準化 =============================\n",
    "  if standardize:\n",
    "    if options:             # 引数で平均･分散を指定した場合\n",
    "      mean = options.get(\"mean\")\n",
    "      std = options.get(\"std\")\n",
    "      print(\"トレーニングデータの平均と分散を用いてテストデータを標準化しました．\")\n",
    "    else:                   # 指定のない場合は標準化\n",
    "      mean = data.mean(axis=0)\n",
    "      std = data.std(axis=0)\n",
    "      print(\"平均:\",str(mean.mean()),\", 分散:\",str(std.mean()), \"---> 標準化しました．\")           \n",
    "    data = (data - mean) / std\n",
    "  else:\n",
    "    print(\"標準化していません．\")\n",
    "\n",
    "  # あとで3次元配列に格納するために，一旦転置しておく\n",
    "  data = data.T\n",
    "          \n",
    "  size_features = data.shape[0]\n",
    "  size_data = data.shape[1]\n",
    "  num_sections = 1 + ( (size_data - size_sections) // size_slide ) \n",
    "          \n",
    "  # 1セクションのデータ形状を定義\n",
    "  data_sections = np.zeros((num_sections, size_features, size_sections))\n",
    "  act_secs_labels = np.zeros(num_sections)\n",
    "\n",
    "  data_length = [0,0,0,0,0,0]\n",
    "   \n",
    "  for count_section in range(num_sections):   # 各セクションの第1要素のindex\n",
    "    section_first_index = count_section * size_slide     # セクションカウント\n",
    "    if(count_section >= num_sections):    # セクション数を超えたら終了     \n",
    "      break\n",
    "    if(data_length[int(act_labels_data[section_first_index])-1] > 3938):\n",
    "      continue\n",
    "    if act_labels_data[section_first_index] != act_labels_data[section_first_index+size_sections-1]:    # セクション内で行動ラベルが全て一緒でない時は無視\n",
    "      continue    \n",
    "    data_sections[count_section] = data[0:size_features, section_first_index:section_first_index+size_sections]   # セクションデータのcount_section要素目に代入\n",
    "    act_secs_labels[count_section] = act_labels_data[section_first_index].astype(int)\n",
    "    data_length[int(act_labels_data[section_first_index])-1] += 1\n",
    "  \n",
    "  return data_sections, act_secs_labels, mean, std"
   ]
  },
  {
   "cell_type": "code",
   "execution_count": 22,
   "metadata": {
    "colab": {
     "base_uri": "https://localhost:8080/",
     "height": 102
    },
    "colab_type": "code",
    "executionInfo": {
     "elapsed": 306995,
     "status": "ok",
     "timestamp": 1581566928947,
     "user": {
      "displayName": "青山裕良",
      "photoUrl": "",
      "userId": "08766073615901039264"
     },
     "user_tz": -540
    },
    "id": "cd8O4iQUd9g2",
    "outputId": "78fc1893-4029-44d3-b0e1-3eb6406a9304"
   },
   "outputs": [
    {
     "name": "stdout",
     "output_type": "stream",
     "text": [
      "分割後のセクション形状: ( 13 x 50 )\n",
      "平均: 0.0035300797597241063 , 分散: 0.749962379300086 ---> 標準化しました．\n",
      "トレーニングデータの平均と分散を用いてテストデータを標準化しました．\n",
      "トレーニングデータ形状: (43249, 13, 50)\n",
      "テストデータ形状: (13247, 13, 50)\n"
     ]
    }
   ],
   "source": [
    "size_sections = 50   # セクションサイズ\n",
    "size_slide = 5      # スライドサイズ\n",
    "\n",
    "# 時系列データをセクション分割\n",
    "print(\"分割後のセクション形状: (\",num_features+num_gen_labels,\"x\",size_sections,\")\")\n",
    "X_train, y_train, train_mean, train_std = time_series_to_section( train_data.copy(),\n",
    "                                                                  num_act_labels,\n",
    "                                                                  num_gen_labels,\n",
    "                                                                  size_sections,\n",
    "                                                                  size_slide,\n",
    "                                                                  standardize = True )\n",
    "\n",
    "X_test, y_test, test_mean, test_std = time_series_to_section( test_data.copy(),\n",
    "                                                              num_act_labels,\n",
    "                                                              num_gen_labels,\n",
    "                                                              size_sections,\n",
    "                                                              size_slide,\n",
    "                                                              standardize = True,\n",
    "                                                              mean = train_mean, \n",
    "                                                              std = train_std  )\n",
    "print(\"トレーニングデータ形状:\", X_train.shape)\n",
    "print(\"テストデータ形状:\", X_test.shape)"
   ]
  },
  {
   "cell_type": "code",
   "execution_count": 23,
   "metadata": {
    "colab": {
     "base_uri": "https://localhost:8080/",
     "height": 370
    },
    "colab_type": "code",
    "executionInfo": {
     "elapsed": 306983,
     "status": "ok",
     "timestamp": 1581566928948,
     "user": {
      "displayName": "青山裕良",
      "photoUrl": "",
      "userId": "08766073615901039264"
     },
     "user_tz": -540
    },
    "id": "NPAVP4qWd9nV",
    "outputId": "44f3ff6e-21d9-4407-9ae0-0a9d21ac7419"
   },
   "outputs": [
    {
     "name": "stdout",
     "output_type": "stream",
     "text": [
      "トレーニングデータのラベル別サンプル数 [3939, 3939, 3939, 3939, 3939, 3939]\n"
     ]
    },
    {
     "data": {
      "text/plain": [
       "Text(0.5, 1.0, 'Number of training data samples by label')"
      ]
     },
     "execution_count": 23,
     "metadata": {
      "tags": []
     },
     "output_type": "execute_result"
    },
    {
     "data": {
      "image/png": "[encoded data removed]",
      "text/plain": [
       "<Figure size 504x360 with 1 Axes>"
      ]
     },
     "metadata": {
      "tags": []
     },
     "output_type": "display_data"
    }
   ],
   "source": [
    "counts = [count_label(y_train, i) for i in range(1,7)]\n",
    "print(\"トレーニングデータのラベル別サンプル数\", counts)     # {\"dws\":1, \"ups\":2, \"wlk\":3, \"jog\":4, \"sit\":5, \"std\":6}\n",
    "plt.rcParams['figure.figsize'] = (7.0, 5.0)\n",
    "plt.bar(left, counts, tick_label=tick_label, align=\"center\")\n",
    "plt.title(\"Number of training data samples by label\")"
   ]
  },
  {
   "cell_type": "markdown",
   "metadata": {
    "colab_type": "text",
    "id": "zu2z-p1HbAdL"
   },
   "source": [
    "　これで，各ラベルについて同じサンプル数が確保されたトレーニングデータができた．では，PCAとランダムフォレストを用いて再度，次元圧縮および予測を行う．"
   ]
  },
  {
   "cell_type": "code",
   "execution_count": 0,
   "metadata": {
    "colab": {},
    "colab_type": "code",
    "id": "hKrLfbCNd9pw"
   },
   "outputs": [],
   "source": [
    "# PCAによる次元圧縮\n",
    "from sklearn.decomposition import PCA\n",
    "\n",
    "# 2次元データを1次元データに変換\n",
    "X_train_flatten = X_train.reshape(X_train.shape[0], X_train.shape[1]*X_train.shape[2]) \n",
    "X_test_flatten  = X_test.reshape(X_test.shape[0], X_test.shape[1]*X_test.shape[2]) \n",
    "\n",
    "pca = PCA(n_components=2, random_state=0)   # 2次元に圧縮\n",
    "pca.fit(X_train_flatten)                    # 主成分の取得\n",
    "Xpca_train = pca.transform(X_train_flatten) # PCAによる次元圧縮\n",
    "Xpca_test = pca.transform(X_test_flatten)"
   ]
  },
  {
   "cell_type": "code",
   "execution_count": 25,
   "metadata": {
    "colab": {
     "base_uri": "https://localhost:8080/",
     "height": 34
    },
    "colab_type": "code",
    "executionInfo": {
     "elapsed": 316045,
     "status": "ok",
     "timestamp": 1581566938029,
     "user": {
      "displayName": "青山裕良",
      "photoUrl": "",
      "userId": "08766073615901039264"
     },
     "user_tz": -540
    },
    "id": "BhBq-EMvUrUS",
    "outputId": "3aba7a45-23df-4479-faa8-b1d28a8c7cad"
   },
   "outputs": [
    {
     "name": "stdout",
     "output_type": "stream",
     "text": [
      "テストデータの予測正解率 :  0.4794293047482449\n"
     ]
    }
   ],
   "source": [
    "RF = ensemble.RandomForestClassifier(max_depth=5, min_samples_leaf=3, n_estimators=1000, random_state=0, n_jobs=-1)\n",
    "RF.fit(Xpca_train, y_train)            # フィッティング\n",
    "pred_y_test = RF.predict(Xpca_test)    # 予測\n",
    "print(\"テストデータの予測正解率 : \", metrics.accuracy_score(pred_y_test, y_test)) # test accuracy"
   ]
  },
  {
   "cell_type": "code",
   "execution_count": 26,
   "metadata": {
    "colab": {
     "base_uri": "https://localhost:8080/",
     "height": 370
    },
    "colab_type": "code",
    "executionInfo": {
     "elapsed": 316039,
     "status": "ok",
     "timestamp": 1581566938031,
     "user": {
      "displayName": "青山裕良",
      "photoUrl": "",
      "userId": "08766073615901039264"
     },
     "user_tz": -540
    },
    "id": "in52R8l0VDvb",
    "outputId": "9d9660df-3ec2-4b1b-e9a8-05b0f2e194d7"
   },
   "outputs": [
    {
     "name": "stdout",
     "output_type": "stream",
     "text": [
      "各ラベルの正解数 [107, 120, 383, 463, 2617, 1254]\n",
      "各ラベルの不正解数 [560, 760, 1994, 496, 1309, 1777]\n"
     ]
    },
    {
     "data": {
      "image/png": "[encoded data removed]",
      "text/plain": [
       "<Figure size 1008x360 with 2 Axes>"
      ]
     },
     "metadata": {
      "tags": []
     },
     "output_type": "display_data"
    }
   ],
   "source": [
    "# 各ラベルについて正解/不正解のサンプル数を描画\n",
    "result_bool = (pred_y_test == y_test)   # 予測が正解なら1, 間違いなら0\n",
    "\n",
    "true_result = result_bool * y_test\n",
    "false_result = np.logical_not(result_bool) * y_test\n",
    "\n",
    "def count_label(list, label):\n",
    "  return np.count_nonzero(list==label)\n",
    "\n",
    "plt.rcParams['figure.figsize'] = (14.0, 5.0)\n",
    "left = np.array([1, 2, 3, 4, 5, 6])\n",
    "tick_label = [\"dws\", \"ups\", \"wlk\", \"jog\", \"sit\", \"std\"]\n",
    "\n",
    "# 各ラベルにおける正解したサンプル数の描画\n",
    "counts = [count_label(true_result, i) for i in range(1,7)]\n",
    "print(\"各ラベルの正解数\", counts)     # {\"dws\":1, \"ups\":2, \"wlk\":3, \"jog\":4, \"sit\":5, \"std\":6}\n",
    "plt.subplot(1, 2, 1)\n",
    "plt.bar(left, counts, tick_label=tick_label, align=\"center\")\n",
    "plt.title(\"Number of correctly answered samples\")\n",
    "\n",
    "# 各ラベルにおける不正解したサンプル数の描画\n",
    "counts = [count_label(false_result, i) for i in range(1,7)]\n",
    "print(\"各ラベルの不正解数\", counts)     # {\"dws\":1, \"ups\":2, \"wlk\":3, \"jog\":4, \"sit\":5, \"std\":6}\n",
    "plt.subplot(1, 2, 2)\n",
    "plt.bar(left, counts, tick_label=tick_label, align=\"center\")\n",
    "plt.title(\"Number of incorrectly answered samples\")\n",
    "\n",
    "plt.show()\n"
   ]
  },
  {
   "cell_type": "code",
   "execution_count": 27,
   "metadata": {
    "colab": {
     "base_uri": "https://localhost:8080/",
     "height": 499
    },
    "colab_type": "code",
    "executionInfo": {
     "elapsed": 316580,
     "status": "ok",
     "timestamp": 1581566938585,
     "user": {
      "displayName": "青山裕良",
      "photoUrl": "",
      "userId": "08766073615901039264"
     },
     "user_tz": -540
    },
    "id": "6K7MEMvpVDyd",
    "outputId": "83e5dfe0-af57-4ab2-dad7-76abd0df9256"
   },
   "outputs": [
    {
     "data": {
      "image/png": "[encoded data removed]",
      "text/plain": [
       "<Figure size 1008x576 with 6 Axes>"
      ]
     },
     "metadata": {
      "tags": []
     },
     "output_type": "display_data"
    }
   ],
   "source": [
    "# 各正解ラベルを間違えた際に選択したラベルの数を描画\n",
    "plt.rcParams['figure.figsize'] = (14.0, 8.0)\n",
    "act_labels = {\"dws\":1, \"ups\":2, \"wlk\":3, \"jog\":4, \"sit\":5, \"std\":6}\n",
    "\n",
    "for act_label in act_labels:\n",
    "  false_label = (false_result==act_labels[act_label]) * pred_y_test\n",
    "  counts = [count_label(false_label, i) for i in range(1,7)]\n",
    "  plt.subplot(2, 3, act_labels[act_label])\n",
    "  plt.title(\"Number of labels wrong in [\"+str(act_label)+\"] prediction\")\n",
    "  plt.bar(left, counts, tick_label=tick_label, align=\"center\")\n",
    "\n",
    "plt.show()"
   ]
  },
  {
   "cell_type": "markdown",
   "metadata": {
    "colab_type": "text",
    "id": "imbWefsIVD1U"
   },
   "source": [
    "　むしろ予測正解率は下がってしまったが，不正解時に選択したラベルの偏りはなくなった．予測正解率の低下はデータの不足が原因と考えられる．データを1/5に削減した影響が大きかったように見える．"
   ]
  },
  {
   "cell_type": "code",
   "execution_count": null,
   "metadata": {},
   "outputs": [],
   "source": []
  }
 ],
 "metadata": {
  "accelerator": "GPU",
  "colab": {
   "collapsed_sections": [],
   "machine_shape": "hm",
   "name": "基盤DS演習_期末課題.ipynb",
   "provenance": [],
   "toc_visible": true
  },
  "kernelspec": {
   "display_name": "Python 3",
   "language": "python",
   "name": "python3"
  },
  "language_info": {
   "codemirror_mode": {
    "name": "ipython",
    "version": 3
   },
   "file_extension": ".py",
   "mimetype": "text/x-python",
   "name": "python",
   "nbconvert_exporter": "python",
   "pygments_lexer": "ipython3",
   "version": "3.7.4"
  }
 },
 "nbformat": 4,
 "nbformat_minor": 1
}
