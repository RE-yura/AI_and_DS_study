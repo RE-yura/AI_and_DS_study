{
 "cells": [
  {
   "cell_type": "markdown",
   "metadata": {
    "colab_type": "text",
    "id": "9Q6G6UYKGaTs"
   },
   "source": [
    "# HAR ( Human Activity Recognition : 人間行動認識 )\n",
    "\n",
    "　人間行動認識とは，カメラやセンサなどの様々な機器から得られた情報をもとに，人間の行動を学習･推定する認識技術分野のことである．今回は，スマホのIMU情報(姿勢･重力･角速度･ユーザの加速度)をもとに，ユーザの行動を下記の行動1～6の中から予測する．\n",
    "\n",
    "1.\t階段を降りている\n",
    "1.\t階段を登っている\n",
    "1.\t歩いている\n",
    "1.\tジョギングしている\n",
    "1.\t座っている\n",
    "1.\t立っている  \n",
    "\n"
   ]
  },
  {
   "cell_type": "markdown",
   "metadata": {
    "colab_type": "text",
    "id": "LuM6g-vqqG6L"
   },
   "source": [
    "## 1) データセットの準備\n",
    "\n",
    "\n",
    "---\n",
    "\n",
    "　まず，https://www.kaggle.com/malekzadeh/motionsense-dataset/ からダウンロードできるデータセットのzipファイルをこのipynbファイルと同じディレクトリに保存して下さい．\n"
   ]
  },
  {
   "cell_type": "code",
   "execution_count": 1,
   "metadata": {
    "colab": {
     "base_uri": "https://localhost:8080/",
     "height": 51
    },
    "colab_type": "code",
    "executionInfo": {
     "elapsed": 22135,
     "status": "ok",
     "timestamp": 1581565818077,
     "user": {
      "displayName": "青山裕良",
      "photoUrl": "",
      "userId": "08766073615901039264"
     },
     "user_tz": -540
    },
    "id": "g_Vn_LQouiCe",
    "outputId": "ec6eed33-7a72-49f9-c232-e676b60931c7"
   },
   "outputs": [
    {
     "name": "stdout",
     "output_type": "stream",
     "text": [
      "Archive:  motionsense-dataset.zip\n",
      "replace A_DeviceMotion_data/A_DeviceMotion_data/dws_1/sub_1.csv? [y]es, [n]o, [A]ll, [N]one, [r]ename: "
     ]
    }
   ],
   "source": [
    "# zipを解凍\n",
    "!unzip motionsense-dataset.zip"
   ]
  },
  {
   "cell_type": "markdown",
   "metadata": {
    "colab_type": "text",
    "id": "9YGfe9cYAfHE"
   },
   "source": [
    "　解凍したデータセットには，24人の被験者の情報および，被験者が上記の6つの行動をとっている時のIMU情報(姿勢･重力･角速度･ユーザの加速度)が含まれている．\n",
    "\n",
    "　ただし，各被験者が行動1～3は3回ずつ，行動4～6は2回ずつ測定を行っているため，合計24人×(3回×3 + 2回×3) = 360個のCSVファイルが含まれる．また，IMUのサンプリング周波数は50Hzであった．  \n",
    "　360個のCSVファイルからトレーニングデータとテストデータを作成する．今回は，行動1～6それぞれ1回の試行をテストデータとし，残りをトレーニングデータとする．つまり，24人×6回 = 144個のCSVをテストデータに，24人×9回 = 216個のCSVをトレーニングデータとして扱う．"
   ]
  },
  {
   "cell_type": "code",
   "execution_count": 2,
   "metadata": {
    "colab": {
     "base_uri": "https://localhost:8080/",
     "height": 51
    },
    "colab_type": "code",
    "executionInfo": {
     "elapsed": 30349,
     "status": "ok",
     "timestamp": 1581565826307,
     "user": {
      "displayName": "青山裕良",
      "photoUrl": "",
      "userId": "08766073615901039264"
     },
     "user_tz": -540
    },
    "id": "UMbp43acdvE9",
    "outputId": "74ae3c6d-c0a3-4692-a5e2-9acdf319e846"
   },
   "outputs": [
    {
     "name": "stdout",
     "output_type": "stream",
     "text": [
      "トレーニングデータ形状: (1081446, 14)\n",
      "テストデータ形状: (331419, 14)\n"
     ]
    }
   ],
   "source": [
    "# 360個のCSVファイルからトレーニングデータとテストデータを作成\n",
    "import numpy as np\n",
    "import pandas as pd\n",
    "\n",
    "# ==== data_subjects_info.csvに記載されている24人の被験者の情報を取り出す ===========================\n",
    "def get_ds_infos():\n",
    "  dss = np.genfromtxt(\"data_subjects_info.csv\",delimiter=',')\n",
    "  dss = dss[1:]   # 1行目を除く\n",
    "  return dss      # 0:被験者ID, 1:体重, 2:身長, 3:年齢, 4:性別\n",
    "\n",
    "# ==== 各被験者ごとに分かれているcsvファイルを1つにまとめ，時系列データを作成 ========================\n",
    "def create_time_series_data(num_features, num_act_labels, num_gen_labels, act_labels, trial_id):\n",
    "  ds_list = get_ds_infos()                                              # 被験者情報を取得\n",
    "  dataset_columns = num_features + num_gen_labels + num_act_labels      # データセットの列数 = センサデータ数 + 性別ラベル数 + 行動ラベル数\n",
    "  \n",
    "  # 訓練データとテストデータを初期化(これを最後に返す)\n",
    "  train_data = np.zeros((0, dataset_columns))\n",
    "  test_data = np.zeros((0, dataset_columns))\n",
    "  \n",
    "  for i, sub_id in enumerate(ds_list[:, 0]):      # 被験者IDでループ\n",
    "    for j, act in enumerate(act_labels):          # 行動ラベルでループ\n",
    "      for trial in trial_id[act]:                 # 試行回数でループ\n",
    "        fname = 'A_DeviceMotion_data/'+'A_DeviceMotion_data/'+act+'_'+str(trial)+'/sub_'+str(int(sub_id))+'.csv'\n",
    "        raw_data = pd.read_csv(fname)                                     # csvから生データを取得\n",
    "        raw_data = raw_data.drop(['Unnamed: 0'], axis=1)                  # ゴミデータ(1列目)を除く\n",
    "        unlabel_data = raw_data.values  \n",
    "        label_data = np.zeros((len(unlabel_data), dataset_columns))\n",
    "        label_data[:,:-(num_act_labels + num_gen_labels)] = unlabel_data\n",
    "        label_data[:,-1] = act_labels[act]\n",
    "        label_data[:,-2] = int(ds_list[i,4])\n",
    "\n",
    "        if trial < 11:          # 10回目以下の試行はトレーニングデータ\n",
    "          train_data = np.append(train_data, label_data, axis = 0)\n",
    "        else:                   # 11回目以上の試行はテストデータ\n",
    "          test_data = np.append(test_data, label_data, axis = 0)\n",
    "\n",
    "  return train_data , test_data\n",
    "\n",
    "# ==== 訓練データとテストデータの作成 ===================================================================\n",
    "num_features = 12       #    IMU情報   : 姿勢(ロール, ピッチ, ヨー), 重力(x, y, z), 角速度(x, y, z), ユーザ加速度(x,y,z)\n",
    "num_act_labels = 1      # 行動ラベル数 : dws, ups, wlk, jog, sit, std\n",
    "num_gen_labels = 1      #     性別     : 0/1(female/male)\n",
    "\n",
    "act_labels = {\"dws\":1, \"ups\":2, \"wlk\":3, \"jog\":4, \"sit\":5, \"std\":6}\n",
    "trial_id = {\"dws\":[1,2,11], \"ups\":[3,4,12], \"wlk\":[7,8,15], \"jog\":[9,16], \"sit\":[5,13], \"std\":[6,14]}    \n",
    "\n",
    "# データ作成\n",
    "train_ts, test_ts = create_time_series_data(num_features, num_act_labels, num_gen_labels, act_labels, trial_id)\n",
    "\n",
    "print(\"トレーニングデータ形状:\", train_ts.shape)\n",
    "print(\"テストデータ形状:\", test_ts.shape)"
   ]
  },
  {
   "cell_type": "code",
   "execution_count": 3,
   "metadata": {
    "colab": {
     "base_uri": "https://localhost:8080/",
     "height": 34
    },
    "colab_type": "code",
    "executionInfo": {
     "elapsed": 39714,
     "status": "ok",
     "timestamp": 1581565835688,
     "user": {
      "displayName": "青山裕良",
      "photoUrl": "",
      "userId": "08766073615901039264"
     },
     "user_tz": -540
    },
    "id": "oVwfzcOq2bAT",
    "outputId": "b8b978f1-16fe-4e7a-b077-b52e68210fc9"
   },
   "outputs": [
    {
     "name": "stdout",
     "output_type": "stream",
     "text": [
      "CSV saved successfully\n"
     ]
    }
   ],
   "source": [
    "# CSVの保存\n",
    "header = \"attitude.roll,attitude.pitch,attitude.yaw,gravity.x,gravity.y,gravity.z,rotationRate.x,rotationRate.y,rotationRate.z,userAcceleration.x,userAcceleration.y,userAcceleration.z,Gender,CorrectAnserLabel\"\n",
    "fmt = \"%.6f, %.6f, %.6f, %.6f, %.6f, %.6f, %.6f, %.6f, %.6f, %.6f, %.6f, %.6f, %d, %d\"\n",
    "np.savetxt('train_raw.csv', train_ts, fmt=fmt, delimiter=',', header=header, comments=\"\")\n",
    "np.savetxt('test_raw.csv', test_ts, fmt=fmt, delimiter=',', header=header, comments=\"\")\n",
    "print(\"CSV saved successfully\")"
   ]
  },
  {
   "cell_type": "markdown",
   "metadata": {
    "colab_type": "text",
    "id": "GRnbgCh4D-nN"
   },
   "source": [
    "　ひとまずCSVの保存まで完了したが，今回は重い計算したくないので，データの削減を行う．"
   ]
  },
  {
   "cell_type": "code",
   "execution_count": 4,
   "metadata": {
    "colab": {
     "base_uri": "https://localhost:8080/",
     "height": 34
    },
    "colab_type": "code",
    "executionInfo": {
     "elapsed": 46364,
     "status": "ok",
     "timestamp": 1581565842356,
     "user": {
      "displayName": "青山裕良",
      "photoUrl": "",
      "userId": "08766073615901039264"
     },
     "user_tz": -540
    },
    "id": "15Le2OgRtQ11",
    "outputId": "f9927bb7-36ac-4950-f8c1-df4c9b96fa80"
   },
   "outputs": [
    {
     "name": "stdout",
     "output_type": "stream",
     "text": [
      "CSV saved successfully\n"
     ]
    }
   ],
   "source": [
    "# データセットが150MB程度あるので，5行に1行だけ使うことでデータを削減\n",
    "import pandas as pd\n",
    "\n",
    "# CSVファイルの読み込み\n",
    "def load_data():\n",
    "  return pd.read_csv(\"train_raw.csv\"), pd.read_csv(\"test_raw.csv\")\n",
    "\n",
    "train_data_raw, test_data_raw = load_data()\n",
    "\n",
    "# 5行に1行取り出し\n",
    "train_data_reduction = train_data_raw.query('index % 5 == 0')\n",
    "test_data_reduction = test_data_raw.query('index % 5 == 0')\n",
    "\n",
    "# CSVの保存\n",
    "train_data_reduction.to_csv(\"train.csv\")\n",
    "test_data_reduction.to_csv(\"test.csv\")\n",
    "print(\"CSV saved successfully\")"
   ]
  },
  {
   "cell_type": "markdown",
   "metadata": {
    "colab_type": "text",
    "id": "HwXbmk3EQJ9V"
   },
   "source": [
    "## 2) データの読み込みと加工\n",
    "\n",
    "\n",
    "---\n",
    "\n"
   ]
  },
  {
   "cell_type": "code",
   "execution_count": 5,
   "metadata": {
    "colab": {
     "base_uri": "https://localhost:8080/",
     "height": 544
    },
    "colab_type": "code",
    "executionInfo": {
     "elapsed": 46906,
     "status": "ok",
     "timestamp": 1581565842911,
     "user": {
      "displayName": "青山裕良",
      "photoUrl": "",
      "userId": "08766073615901039264"
     },
     "user_tz": -540
    },
    "id": "awJArm9no2F3",
    "outputId": "915e320c-8f7d-4135-b731-e01de6df52a5"
   },
   "outputs": [
    {
     "name": "stdout",
     "output_type": "stream",
     "text": [
      "========= トレーニングデータ =============================================\n",
      "        attitude.roll  attitude.pitch  ...  Gender  CorrectAnserLabel\n",
      "0            1.528132       -0.733896  ...       1                  1\n",
      "1            1.476302       -0.700807  ...       1                  1\n",
      "2            1.434186       -0.693527  ...       1                  1\n",
      "3            1.137867       -0.639672  ...       1                  1\n",
      "4            0.916433       -0.655642  ...       1                  1\n",
      "...               ...             ...  ...     ...                ...\n",
      "216285      -0.245861       -1.449192  ...       0                  6\n",
      "216286      -0.144484       -1.447449  ...       0                  6\n",
      "216287      -0.054519       -1.450084  ...       0                  6\n",
      "216288       0.014894       -1.445758  ...       0                  6\n",
      "216289       0.068046       -1.445550  ...       0                  6\n",
      "\n",
      "[216290 rows x 14 columns] \n",
      "\n",
      "============= テストデータ ===============================================\n",
      "       attitude.roll  attitude.pitch  ...  Gender  CorrectAnserLabel\n",
      "0           0.086504       -1.172129  ...       1                  1\n",
      "1          -0.076909       -1.124464  ...       1                  1\n",
      "2          -0.288029       -1.256848  ...       1                  1\n",
      "3          -0.170030       -1.238264  ...       1                  1\n",
      "4          -0.325727       -1.215860  ...       1                  1\n",
      "...              ...             ...  ...     ...                ...\n",
      "66279      -2.228347       -1.490832  ...       0                  6\n",
      "66280      -2.353866       -1.480216  ...       0                  6\n",
      "66281      -2.426975       -1.476196  ...       0                  6\n",
      "66282      -2.476378       -1.477116  ...       0                  6\n",
      "66283      -2.514569       -1.474699  ...       0                  6\n",
      "\n",
      "[66284 rows x 14 columns]\n"
     ]
    }
   ],
   "source": [
    "# まずは，CSVを読み込んで中身を確認\n",
    "import numpy as np\n",
    "import pandas as pd\n",
    "\n",
    "# CSVファイルの読み込み\n",
    "def load_data():\n",
    "  return pd.read_csv(\"train.csv\"), pd.read_csv(\"test.csv\")\n",
    "\n",
    "train_data, test_data = load_data()\n",
    "\n",
    "# ゴミデータ(1列目)を削除\n",
    "train_data = train_data.drop(['Unnamed: 0'], axis=1)\n",
    "test_data = test_data.drop(['Unnamed: 0'], axis=1)\n",
    "\n",
    "print(\"========= トレーニングデータ =============================================\")\n",
    "print(train_data,\"\\n\")\n",
    "print(\"============= テストデータ ===============================================\")\n",
    "print(test_data)"
   ]
  },
  {
   "cell_type": "code",
   "execution_count": 6,
   "metadata": {
    "colab": {
     "base_uri": "https://localhost:8080/",
     "height": 680
    },
    "colab_type": "code",
    "executionInfo": {
     "elapsed": 46881,
     "status": "ok",
     "timestamp": 1581565842912,
     "user": {
      "displayName": "青山裕良",
      "photoUrl": "",
      "userId": "08766073615901039264"
     },
     "user_tz": -540
    },
    "id": "tHFo5qq5FKNb",
    "outputId": "4e62fc64-2883-45a0-bffc-2cb840423bba"
   },
   "outputs": [
    {
     "name": "stdout",
     "output_type": "stream",
     "text": [
      "       attitude.roll  attitude.pitch   attitude.yaw      gravity.x  \\\n",
      "count  216290.000000   216290.000000  216290.000000  216290.000000   \n",
      "mean       -0.180388       -1.027508      -0.126891       0.037576   \n",
      "std         1.588032        0.450585       1.541152       0.332303   \n",
      "min        -3.141551       -1.567685      -3.141588      -0.999612   \n",
      "25%        -1.537733       -1.364888      -1.242785      -0.169055   \n",
      "50%         0.101366       -1.193118      -0.138958       0.018564   \n",
      "75%         0.901633       -0.781504       0.847209       0.250680   \n",
      "max         3.141565        1.567175       3.141574       0.999901   \n",
      "\n",
      "           gravity.y      gravity.z  rotationRate.x  rotationRate.y  \\\n",
      "count  216290.000000  216290.000000   216290.000000   216290.000000   \n",
      "mean        0.784542      -0.124646        0.004909        0.014150   \n",
      "std         0.297075       0.410916        1.320371        1.245072   \n",
      "min        -0.999993      -0.999999      -16.020784      -17.232466   \n",
      "25%         0.704348      -0.370828       -0.370029       -0.213028   \n",
      "50%         0.929523      -0.093192       -0.000572        0.000320   \n",
      "75%         0.978876       0.091003        0.172148        0.277600   \n",
      "max         0.999995       0.977251        9.944287       13.542882   \n",
      "\n",
      "       rotationRate.z  userAcceleration.x  userAcceleration.y  \\\n",
      "count   216290.000000       216290.000000       216290.000000   \n",
      "mean         0.013293           -0.005624            0.047037   \n",
      "std          0.823923            0.329618            0.535456   \n",
      "min        -10.829004           -5.805335           -3.325982   \n",
      "25%         -0.130471           -0.059578           -0.079322   \n",
      "50%          0.000156            0.000958            0.004075   \n",
      "75%          0.147765            0.051084            0.076055   \n",
      "max          9.621073            5.287045            7.067639   \n",
      "\n",
      "       userAcceleration.z         Gender  CorrectAnserLabel  \n",
      "count       216290.000000  216290.000000      216290.000000  \n",
      "mean             0.038143       0.571298           3.832304  \n",
      "std              0.380139       0.494892           1.632987  \n",
      "min             -7.743481       0.000000           1.000000  \n",
      "25%             -0.030807       0.000000           3.000000  \n",
      "50%              0.004977       1.000000           4.000000  \n",
      "75%              0.115237       1.000000           5.000000  \n",
      "max              5.240689       1.000000           6.000000  \n"
     ]
    }
   ],
   "source": [
    "# データの欠損がないか確認\n",
    "pd.set_option('display.max_columns', 14)\n",
    "print(train_data.describe())\n",
    "pd.reset_option('display.max_columns')"
   ]
  },
  {
   "cell_type": "code",
   "execution_count": 0,
   "metadata": {
    "colab": {},
    "colab_type": "code",
    "id": "r46xXqVxXSlw"
   },
   "outputs": [],
   "source": [
    "# 各種定数の定義\n",
    "num_features = 12       #    IMU情報   : 姿勢(ロール, ピッチ, ヨー), 重力(x, y, z), 角速度(x, y, z), ユーザ加速度(x,y,z)\n",
    "num_act_labels = 1      # 行動ラベル数 : dws, ups, wlk, jog, sit, std\n",
    "num_gen_labels = 1      #     性別     : 0/1(female/male)\n",
    "\n",
    "act_labels = {\"dws\":1, \"ups\":2, \"wlk\":3, \"jog\":4, \"sit\":5, \"std\":6}"
   ]
  },
  {
   "cell_type": "code",
   "execution_count": 8,
   "metadata": {
    "colab": {
     "base_uri": "https://localhost:8080/",
     "height": 499
    },
    "colab_type": "code",
    "executionInfo": {
     "elapsed": 49062,
     "status": "ok",
     "timestamp": 1581565845117,
     "user": {
      "displayName": "青山裕良",
      "photoUrl": "",
      "userId": "08766073615901039264"
     },
     "user_tz": -540
    },
    "id": "fRDhjWzszBCe",
    "outputId": "012af612-a4d8-44d2-9edf-444e050afe42"
   },
   "outputs": [
    {
     "data": {
      "image/png": "[encoded data removed]",
      "text/plain": [
       "<Figure size 864x576 with 12 Axes>"
      ]
     },
     "metadata": {
      "tags": []
     },
     "output_type": "display_data"
    }
   ],
   "source": [
    "# データの中身を描画\n",
    "import matplotlib.pyplot as plt\n",
    "\n",
    "plt.rcParams['figure.figsize'] = (12.0, 8.0)\n",
    "\n",
    "def get_column(act, type):\n",
    "  data = train_data[train_data[\"CorrectAnserLabel\"]==act_labels[act]][type].values\n",
    "  length = len(train_data[train_data[\"CorrectAnserLabel\"]==act_labels[act]][type].values)\n",
    "  return length, data\n",
    "\n",
    "act = \"ups\"    # {\"dws\", \"ups\", \"wlk\", \"jog\", \"sit\", \"std\"} から選択\n",
    "num_rows = 3\n",
    "num_columns = 4\n",
    "types = [\"attitude.roll\",\"gravity.x\",\"rotationRate.x\",\"userAcceleration.x\",\"attitude.pitch\",\"gravity.y\",\"rotationRate.y\",\"userAcceleration.y\",\"attitude.yaw\",\"gravity.z\",\"rotationRate.z\",\"userAcceleration.z\"]\n",
    "\n",
    "for i, type in enumerate(types):\n",
    "  data = get_column(\"ups\", type)\n",
    "  plt.subplot(num_rows, num_columns, i+1)\n",
    "  plt.plot(range(data[0]), data[1])\n",
    "  \n",
    "  if i+1==1:\n",
    "    plt.title(\"Attitude\")\n",
    "    plt.ylabel(\"x\")\n",
    "  elif i+1==2:\n",
    "    plt.title(\"Gravity\")\n",
    "  elif i+1==3:\n",
    "    plt.title(\"Rotation Rate\")\n",
    "  elif i+1==4:\n",
    "    plt.title(\"User Acceleration\")\n",
    "  elif i+1==5:\n",
    "    plt.ylabel(\"y\")\n",
    "  elif i+1==9:\n",
    "    plt.ylabel(\"z\")\n"
   ]
  },
  {
   "cell_type": "markdown",
   "metadata": {
    "colab_type": "text",
    "id": "caf5tHr_FRES"
   },
   "source": [
    "　上のコードセルで描画したグラフは，被験者が階段を登っている時のスマホIMU情報である．センサの値を目で確認しても，ノイズが大きく，被験者がどんな行動を取っているのかよく分からないが，以下ではこのセンサの値から行動ラベルを予測していく．"
   ]
  },
  {
   "cell_type": "code",
   "execution_count": 0,
   "metadata": {
    "colab": {},
    "colab_type": "code",
    "id": "od_aZ35By--_"
   },
   "outputs": [],
   "source": [
    "# NumPy配列に変換\n",
    "train_data = train_data.values\n",
    "test_data = test_data.values"
   ]
  },
  {
   "cell_type": "markdown",
   "metadata": {
    "colab_type": "text",
    "id": "l1rWIOwYOShD"
   },
   "source": [
    "　では，CSVから取得したトレーニングデータとテストデータを，学習に用いる形状に加工する．IMU情報は時系列データであり，ある時刻でのデータとラベルだけでは意味を持たない．そこで，一定時間分のデータを1つのセクションとして扱い，セクションの集合を学習に用いるトレーニングデータとする．  \n",
    "　セクションに分割する際に必要となるパラメータはセクションのサイズと，スライドサイズである．セクションサイズは1セクションに何サンプル含めるかを決めるパラメータで，サンプリング周波数が50Hzであることから，セクションサイズが50の場合は1セクションに1分間のデータが含まれる．(ただし，今回はデータを1/5に削減しているので，1セクション12秒間に相当する．) また，スライドサイズは1つ後のセクションをどれだけずらして開始するかを決めるパラメータであり，小さすぎると計算コストが高くなる可能性がある．   \n",
    "　セクションサイズを50，スライドサイズを10として，セクションに分割するコードを以下に示す．"
   ]
  },
  {
   "cell_type": "code",
   "execution_count": 0,
   "metadata": {
    "colab": {},
    "colab_type": "code",
    "id": "MLIhyMjR9Zgm"
   },
   "outputs": [],
   "source": [
    "# 時系列データをセクションに分割する関数\n",
    "def time_series_to_section(dataset, num_act_labels, num_gen_labels, size_sections, size_slide, standardize = False, **options):\n",
    "  data = dataset[: , 0:-num_act_labels]           # IMUデータ+性別ラベルを取得\n",
    "  act_labels = dataset[: , -(num_act_labels)]     # 行動ラベルを取得\n",
    " \n",
    "  # === 標準化 =============================\n",
    "  if standardize:\n",
    "    if options:             # 引数で平均･分散を指定した場合\n",
    "      mean = options.get(\"mean\")\n",
    "      std = options.get(\"std\")\n",
    "      print(\"トレーニングデータの平均と分散を用いてテストデータを標準化しました．\")\n",
    "    else:                   # 指定のない場合は標準化\n",
    "      mean = data.mean(axis=0)\n",
    "      std = data.std(axis=0)\n",
    "      print(\"平均:\",str(mean.mean()),\", 分散:\",str(std.mean()), \"---> 標準化しました．\")           \n",
    "    data = (data - mean) / std\n",
    "  else:\n",
    "    print(\"標準化していません．\")\n",
    "\n",
    "  # あとで3次元配列に格納するために，一旦転置しておく\n",
    "  data = data.T\n",
    "          \n",
    "  size_features = data.shape[0]\n",
    "  size_data = data.shape[1]\n",
    "  num_sections = 1 + ( (size_data - size_sections) // size_slide ) \n",
    "          \n",
    "  # 1セクションのデータ形状を定義\n",
    "  data_sections = np.zeros((num_sections, size_features, size_sections))\n",
    "  act_secs_labels = np.zeros(num_sections)\n",
    "   \n",
    "  section_first_index = 0\n",
    "  for count_section in range(num_sections):   # 各セクションの第1要素のindex\n",
    "    section_first_index += size_slide     # セクションカウント\n",
    "    if(section_first_index+size_sections > size_data):    # セクション数を超えたら終了     \n",
    "      break\n",
    "    if act_labels[section_first_index] != act_labels[section_first_index+size_sections-1]:    # セクション内で行動ラベルが全て一緒でない時は無視\n",
    "      continue\n",
    "    # data_sections = np.append(data_sections, data[0:size_features, section_first_index:section_first_index+size_sections].reshape(1,size_features,size_sections), axis=0)   # セクションデータのcount_section要素目に代入\n",
    "    # act_secs_labels = np.append(act_secs_labels, act_labels[section_first_index].astype(int))\n",
    "    data_sections[count_section] = data[0:size_features, section_first_index:section_first_index+size_sections]   # セクションデータのcount_section要素目に代入\n",
    "    act_secs_labels[count_section] = act_labels[section_first_index].astype(int)\n",
    "  \n",
    "  return data_sections, act_secs_labels, mean, std"
   ]
  },
  {
   "cell_type": "code",
   "execution_count": 11,
   "metadata": {
    "colab": {
     "base_uri": "https://localhost:8080/",
     "height": 102
    },
    "colab_type": "code",
    "executionInfo": {
     "elapsed": 49215,
     "status": "ok",
     "timestamp": 1581565845324,
     "user": {
      "displayName": "青山裕良",
      "photoUrl": "",
      "userId": "08766073615901039264"
     },
     "user_tz": -540
    },
    "id": "p6qwsWWc_vu0",
    "outputId": "37ab367f-5237-4740-d542-67ead8f08d15"
   },
   "outputs": [
    {
     "name": "stdout",
     "output_type": "stream",
     "text": [
      "分割後のセクション形状: ( 13 x 50 )\n",
      "平均: 0.0035300797597241063 , 分散: 0.749962379300086 ---> 標準化しました．\n",
      "トレーニングデータの平均と分散を用いてテストデータを標準化しました．\n",
      "トレーニングデータ形状: (20918, 13, 50)\n",
      "テストデータ形状: (5922, 13, 50)\n"
     ]
    }
   ],
   "source": [
    "size_sections = 50   # セクションサイズ\n",
    "size_slide = 10      # スライドサイズ\n",
    "\n",
    "# 時系列データをセクション分割\n",
    "print(\"分割後のセクション形状: (\",num_features+num_gen_labels,\"x\",size_sections,\")\")\n",
    "_X_train, _y_train, train_mean, train_std = time_series_to_section( train_data.copy(),\n",
    "                                                                  num_act_labels,\n",
    "                                                                  num_gen_labels,\n",
    "                                                                  size_sections,\n",
    "                                                                  size_slide,\n",
    "                                                                  standardize = True )\n",
    "\n",
    "_X_test, _y_test, test_mean, test_std = time_series_to_section( test_data.copy(),\n",
    "                                                              num_act_labels,\n",
    "                                                              num_gen_labels,\n",
    "                                                              size_sections,\n",
    "                                                              size_slide,\n",
    "                                                              standardize = True,\n",
    "                                                              mean = train_mean, \n",
    "                                                              std = train_std  )\n",
    "\n",
    "y_train = np.delete(_y_train, np.where(_y_train==0))\n",
    "X_train = np.delete(_X_train, np.where(_y_train==0), axis=0)\n",
    "y_test = np.delete(_y_test, np.where(_y_test==0))\n",
    "X_test = np.delete(_X_test, np.where(_y_test==0), axis=0)\n",
    "\n",
    "print(\"トレーニングデータ形状:\", X_train.shape)\n",
    "print(\"テストデータ形状:\", X_test.shape)"
   ]
  },
  {
   "cell_type": "markdown",
   "metadata": {
    "colab_type": "text",
    "id": "EqhrZ-5-ZdtS"
   },
   "source": [
    "　セクションに分割できたので，トレーニングデータの一部をバリデーションデータに分割し，DatasetとDataLoaderを準備する．"
   ]
  },
  {
   "cell_type": "code",
   "execution_count": 12,
   "metadata": {
    "colab": {
     "base_uri": "https://localhost:8080/",
     "height": 85
    },
    "colab_type": "code",
    "executionInfo": {
     "elapsed": 49971,
     "status": "ok",
     "timestamp": 1581565846110,
     "user": {
      "displayName": "青山裕良",
      "photoUrl": "",
      "userId": "08766073615901039264"
     },
     "user_tz": -540
    },
    "id": "CHxpu2stn6Od",
    "outputId": "542a2f11-9631-477a-da9d-3f9c8ae85082"
   },
   "outputs": [
    {
     "name": "stdout",
     "output_type": "stream",
     "text": [
      "(17000, 13, 50)\n",
      "(17000,)\n",
      "(3918, 13, 50)\n",
      "(3918,)\n"
     ]
    }
   ],
   "source": [
    "# X_trainをトレーニングデータ･バリデーションデータに分割\n",
    "import torch\n",
    "from sklearn.model_selection import train_test_split\n",
    "\n",
    "# trainを17000件のtrainingデータと3918件のvalidationデータに分割する\n",
    "X_train, X_valid, y_train, y_valid = train_test_split(X_train, y_train, train_size=17000, random_state=0)\n",
    "\n",
    "print(X_train.shape)\n",
    "print(y_train.shape)\n",
    "print(X_valid.shape)\n",
    "print(y_valid.shape)"
   ]
  },
  {
   "cell_type": "code",
   "execution_count": 0,
   "metadata": {
    "colab": {},
    "colab_type": "code",
    "id": "O4xIrYGUHMC6"
   },
   "outputs": [],
   "source": [
    "# 通常のNNは2次元形式で与えられても処理できないため，28x28の要素がある1次元配列に変換してからPyTorch形式に変換する\n",
    "X_train_flatten = X_train.reshape(X_train.shape[0], X_train.shape[1]*X_train.shape[2]) # 17000件の2次元データ（12×50）を17000件の1次元データ(600)に変換\n",
    "X_valid_flatten  = X_valid.reshape(X_valid.shape[0], X_valid.shape[1]*X_valid.shape[2]) \n",
    "X_test_flatten  = X_test.reshape(X_test.shape[0], X_test.shape[1]*X_test.shape[2]) \n",
    "\n",
    "X_train_torch = torch.tensor(X_train_flatten, dtype=torch.float) # dtype=torch.floatを忘れずに\n",
    "X_valid_torch = torch.tensor(X_valid_flatten, dtype=torch.float) \n",
    "X_test_torch  = torch.tensor(X_test_flatten,  dtype=torch.float) \n",
    "\n",
    "# yについてもPyTorch形式に変換する\n",
    "y_train_torch = torch.tensor(y_train, dtype=torch.long) # dtype=torch.longを忘れずに\n",
    "y_valid_torch = torch.tensor(y_valid, dtype=torch.long) \n",
    "y_test_torch  = torch.tensor(y_test,  dtype=torch.long)"
   ]
  },
  {
   "cell_type": "code",
   "execution_count": 14,
   "metadata": {
    "colab": {
     "base_uri": "https://localhost:8080/",
     "height": 323
    },
    "colab_type": "code",
    "executionInfo": {
     "elapsed": 49908,
     "status": "ok",
     "timestamp": 1581565846111,
     "user": {
      "displayName": "青山裕良",
      "photoUrl": "",
      "userId": "08766073615901039264"
     },
     "user_tz": -540
    },
    "id": "6aI8FcD8o6rU",
    "outputId": "46ffdb3a-014e-4639-ae5d-bfa9fc40ea9c"
   },
   "outputs": [
    {
     "name": "stdout",
     "output_type": "stream",
     "text": [
      "tensor([[-0.3279, -0.2462, -0.2577,  ...,  0.8663,  0.8663,  0.8663],\n",
      "        [ 1.1728,  1.2717,  1.3469,  ..., -1.1544, -1.1544, -1.1544],\n",
      "        [ 0.6108,  0.3398,  0.2401,  ...,  0.8663,  0.8663,  0.8663],\n",
      "        ...,\n",
      "        [ 0.0903,  0.2408,  0.0995,  ..., -1.1544, -1.1544, -1.1544],\n",
      "        [-1.1895, -1.1894, -1.1895,  ...,  0.8663,  0.8663,  0.8663],\n",
      "        [ 1.0007,  1.1063,  1.1099,  ..., -1.1544, -1.1544, -1.1544]])\n",
      "tensor([2, 4, 3, 6, 5, 6, 3, 5, 2, 3, 6, 5, 2, 5, 6, 5, 3, 5, 6, 1, 3, 4, 3, 3,\n",
      "        2, 3, 4, 3, 6, 5, 5, 2, 2, 4, 3, 6, 3, 4, 6, 5, 2, 2, 5, 5, 3, 3, 6, 3,\n",
      "        4, 2, 4, 6, 6, 3, 1, 3, 3, 4, 6, 5, 3, 3, 2, 3, 1, 5, 1, 5, 5, 6, 6, 5,\n",
      "        5, 6, 5, 1, 3, 6, 6, 4, 2, 3, 6, 3, 2, 5, 3, 2, 2, 2, 1, 4, 5, 5, 3, 4,\n",
      "        1, 5, 5, 3, 3, 3, 2, 2, 6, 6, 5, 5, 3, 3, 3, 1, 6, 2, 3, 1, 5, 3, 6, 2,\n",
      "        2, 5, 3, 3, 5, 4, 2, 3, 5, 1, 5, 2, 6, 2, 3, 5, 3, 2, 3, 6, 3, 5, 5, 3,\n",
      "        2, 2, 6, 4, 2, 3, 1, 5, 2, 6, 3, 2, 3, 2, 4, 6, 1, 5, 6, 3, 5, 1, 3, 4,\n",
      "        2, 5, 2, 3, 5, 2, 3, 5, 1, 1, 4, 4, 5, 4, 3, 5, 3, 2, 5, 6, 6, 3, 3, 2,\n",
      "        5, 5, 1, 6, 2, 6, 1, 6, 5, 6, 5, 1, 2, 3, 6, 5, 4, 6, 3, 3, 2, 6, 5, 1,\n",
      "        2, 2, 6, 2, 6, 3, 5, 2, 6, 3, 1, 6, 5, 4, 3, 6, 3, 6, 6, 3, 2, 3, 3, 6,\n",
      "        1, 5, 2, 1, 5, 5, 4, 5, 2, 5, 6, 6, 1, 4, 5, 3])\n"
     ]
    }
   ],
   "source": [
    "# datasetとdataloaderを用意\n",
    "\n",
    "# XとYの組み合わせを保持してくれる便利なモノ\n",
    "train_dataset = torch.utils.data.TensorDataset(X_train_torch, y_train_torch)\n",
    "valid_dataset = torch.utils.data.TensorDataset(X_valid_torch, y_valid_torch)\n",
    "test_dataset  = torch.utils.data.TensorDataset(X_test_torch,  y_test_torch)\n",
    "\n",
    "batch_size = 256 # 今回は256件のデータごとに学習を行う\n",
    "\n",
    "# XとYの組み合わせを(batch_size)個ずつ出力する便利なモノ\n",
    "train_loader = torch.utils.data.DataLoader(train_dataset, batch_size=batch_size)\n",
    "valid_loader = torch.utils.data.DataLoader(valid_dataset, batch_size=batch_size)\n",
    "test_loader  = torch.utils.data.DataLoader(test_dataset,  batch_size=batch_size)\n",
    "\n",
    "for X, y in train_loader:\n",
    "  print(X)\n",
    "  print(y)\n",
    "  break"
   ]
  },
  {
   "cell_type": "markdown",
   "metadata": {
    "colab_type": "text",
    "id": "Ma367Txpp65J"
   },
   "source": [
    "## 3) 多層NNによる予測\n",
    "\n",
    "\n",
    "---\n",
    "\n",
    " まずは，多層ニューラルネットワークを用いて，IMU情報と性別から行動ラベルを予測する．\n",
    "\n"
   ]
  },
  {
   "cell_type": "code",
   "execution_count": 15,
   "metadata": {
    "colab": {
     "base_uri": "https://localhost:8080/",
     "height": 680
    },
    "colab_type": "code",
    "executionInfo": {
     "elapsed": 53208,
     "status": "ok",
     "timestamp": 1581565849428,
     "user": {
      "displayName": "青山裕良",
      "photoUrl": "",
      "userId": "08766073615901039264"
     },
     "user_tz": -540
    },
    "id": "-B9SHNUSHaFI",
    "outputId": "66ea8066-2bed-405d-f030-9694b03ae7ba"
   },
   "outputs": [
    {
     "name": "stdout",
     "output_type": "stream",
     "text": [
      "Requirement already satisfied: livelossplot in /usr/local/lib/python3.6/dist-packages (0.4.1)\n",
      "Requirement already satisfied: notebook in /usr/local/lib/python3.6/dist-packages (from livelossplot) (5.2.2)\n",
      "Requirement already satisfied: matplotlib in /usr/local/lib/python3.6/dist-packages (from livelossplot) (3.1.3)\n",
      "Requirement already satisfied: terminado>=0.3.3; sys_platform != \"win32\" in /usr/local/lib/python3.6/dist-packages (from notebook->livelossplot) (0.8.3)\n",
      "Requirement already satisfied: jupyter-client in /usr/local/lib/python3.6/dist-packages (from notebook->livelossplot) (5.3.4)\n",
      "Requirement already satisfied: nbconvert in /usr/local/lib/python3.6/dist-packages (from notebook->livelossplot) (5.6.1)\n",
      "Requirement already satisfied: nbformat in /usr/local/lib/python3.6/dist-packages (from notebook->livelossplot) (5.0.4)\n",
      "Requirement already satisfied: tornado>=4 in /usr/local/lib/python3.6/dist-packages (from notebook->livelossplot) (4.5.3)\n",
      "Requirement already satisfied: jupyter-core in /usr/local/lib/python3.6/dist-packages (from notebook->livelossplot) (4.6.1)\n",
      "Requirement already satisfied: ipykernel in /usr/local/lib/python3.6/dist-packages (from notebook->livelossplot) (4.6.1)\n",
      "Requirement already satisfied: traitlets>=4.2.1 in /usr/local/lib/python3.6/dist-packages (from notebook->livelossplot) (4.3.3)\n",
      "Requirement already satisfied: jinja2 in /usr/local/lib/python3.6/dist-packages (from notebook->livelossplot) (2.11.1)\n",
      "Requirement already satisfied: ipython-genutils in /usr/local/lib/python3.6/dist-packages (from notebook->livelossplot) (0.2.0)\n",
      "Requirement already satisfied: pyparsing!=2.0.4,!=2.1.2,!=2.1.6,>=2.0.1 in /usr/local/lib/python3.6/dist-packages (from matplotlib->livelossplot) (2.4.6)\n",
      "Requirement already satisfied: kiwisolver>=1.0.1 in /usr/local/lib/python3.6/dist-packages (from matplotlib->livelossplot) (1.1.0)\n",
      "Requirement already satisfied: python-dateutil>=2.1 in /usr/local/lib/python3.6/dist-packages (from matplotlib->livelossplot) (2.6.1)\n",
      "Requirement already satisfied: numpy>=1.11 in /usr/local/lib/python3.6/dist-packages (from matplotlib->livelossplot) (1.17.5)\n",
      "Requirement already satisfied: cycler>=0.10 in /usr/local/lib/python3.6/dist-packages (from matplotlib->livelossplot) (0.10.0)\n",
      "Requirement already satisfied: ptyprocess; os_name != \"nt\" in /usr/local/lib/python3.6/dist-packages (from terminado>=0.3.3; sys_platform != \"win32\"->notebook->livelossplot) (0.6.0)\n",
      "Requirement already satisfied: pyzmq>=13 in /usr/local/lib/python3.6/dist-packages (from jupyter-client->notebook->livelossplot) (17.0.0)\n",
      "Requirement already satisfied: testpath in /usr/local/lib/python3.6/dist-packages (from nbconvert->notebook->livelossplot) (0.4.4)\n",
      "Requirement already satisfied: mistune<2,>=0.8.1 in /usr/local/lib/python3.6/dist-packages (from nbconvert->notebook->livelossplot) (0.8.4)\n",
      "Requirement already satisfied: pandocfilters>=1.4.1 in /usr/local/lib/python3.6/dist-packages (from nbconvert->notebook->livelossplot) (1.4.2)\n",
      "Requirement already satisfied: bleach in /usr/local/lib/python3.6/dist-packages (from nbconvert->notebook->livelossplot) (3.1.0)\n",
      "Requirement already satisfied: pygments in /usr/local/lib/python3.6/dist-packages (from nbconvert->notebook->livelossplot) (2.1.3)\n",
      "Requirement already satisfied: defusedxml in /usr/local/lib/python3.6/dist-packages (from nbconvert->notebook->livelossplot) (0.6.0)\n",
      "Requirement already satisfied: entrypoints>=0.2.2 in /usr/local/lib/python3.6/dist-packages (from nbconvert->notebook->livelossplot) (0.3)\n",
      "Requirement already satisfied: jsonschema!=2.5.0,>=2.4 in /usr/local/lib/python3.6/dist-packages (from nbformat->notebook->livelossplot) (2.6.0)\n",
      "Requirement already satisfied: ipython>=4.0.0 in /usr/local/lib/python3.6/dist-packages (from ipykernel->notebook->livelossplot) (5.5.0)\n",
      "Requirement already satisfied: six in /usr/local/lib/python3.6/dist-packages (from traitlets>=4.2.1->notebook->livelossplot) (1.12.0)\n",
      "Requirement already satisfied: decorator in /usr/local/lib/python3.6/dist-packages (from traitlets>=4.2.1->notebook->livelossplot) (4.4.1)\n",
      "Requirement already satisfied: MarkupSafe>=0.23 in /usr/local/lib/python3.6/dist-packages (from jinja2->notebook->livelossplot) (1.1.1)\n",
      "Requirement already satisfied: setuptools in /usr/local/lib/python3.6/dist-packages (from kiwisolver>=1.0.1->matplotlib->livelossplot) (45.1.0)\n",
      "Requirement already satisfied: webencodings in /usr/local/lib/python3.6/dist-packages (from bleach->nbconvert->notebook->livelossplot) (0.5.1)\n",
      "Requirement already satisfied: pexpect; sys_platform != \"win32\" in /usr/local/lib/python3.6/dist-packages (from ipython>=4.0.0->ipykernel->notebook->livelossplot) (4.8.0)\n",
      "Requirement already satisfied: prompt-toolkit<2.0.0,>=1.0.4 in /usr/local/lib/python3.6/dist-packages (from ipython>=4.0.0->ipykernel->notebook->livelossplot) (1.0.18)\n",
      "Requirement already satisfied: simplegeneric>0.8 in /usr/local/lib/python3.6/dist-packages (from ipython>=4.0.0->ipykernel->notebook->livelossplot) (0.8.1)\n",
      "Requirement already satisfied: pickleshare in /usr/local/lib/python3.6/dist-packages (from ipython>=4.0.0->ipykernel->notebook->livelossplot) (0.7.5)\n",
      "Requirement already satisfied: wcwidth in /usr/local/lib/python3.6/dist-packages (from prompt-toolkit<2.0.0,>=1.0.4->ipython>=4.0.0->ipykernel->notebook->livelossplot) (0.1.8)\n"
     ]
    }
   ],
   "source": [
    "# リアルタイムで学習の状況を見る1つの方法として，livelossplotを用いる\n",
    "!pip install livelossplot"
   ]
  },
  {
   "cell_type": "code",
   "execution_count": 0,
   "metadata": {
    "colab": {},
    "colab_type": "code",
    "id": "-4zKvKW9o6um"
   },
   "outputs": [],
   "source": [
    "# モデル model 、誤差関数 loss_fn、および最適化手法 opt を引数とすることで、汎用的に学習や予測を行えるコードを作成\n",
    "import torch\n",
    "from livelossplot import PlotLosses\n",
    "\n",
    "device_GPU = torch.device(\"cuda:0\") \n",
    "\n",
    "def calculate_model(model, loss_fn, opt, dataloader, device, mode=\"evaluate\"):\n",
    "  if mode == 'evaluate':\n",
    "    model.eval() # 学習を行わない時は evaluate 状態にする\n",
    "\n",
    "  sum_loss = 0\n",
    "  correct = 0\n",
    "  count = len(dataloader.dataset)\n",
    "  \n",
    "  for X, y in dataloader:\n",
    "    y-=1\n",
    "    X = X.to(device) # GPUへデータを転送\n",
    "    y = y.to(device) # GPUへデータを転送\n",
    "    y_pred = model(X) # Xからyを予測（softmaxを行う前の値が出力される）\n",
    "    \n",
    "    _, predicted = torch.max(y_pred.data, 1) # 6クラスのうち、予測確率最大のクラス番号を取得\n",
    "    correct += (predicted == y).sum().item() # 予測に成功した件数をカウント（accuracy計算用）\n",
    "    \n",
    "    loss = loss_fn(y_pred, y)        # ミニバッチ内の訓練誤差の 平均 を計算\n",
    "    sum_loss += loss.item()*len(y) # エポック全体の訓練誤差の 合計 を計算しておく\n",
    "    \n",
    "    if mode == 'update':\n",
    "      # 重みの更新\n",
    "      opt.zero_grad()\n",
    "      loss.backward()\n",
    "      opt.step()\n",
    "    \n",
    "  # エポック内の訓練誤差の平均値と予測精度を計算\n",
    "  mean_train_loss = sum_loss / count\n",
    "  train_accuracy = correct / count\n",
    "  \n",
    "  if mode == 'evaluate':\n",
    "    model.train() # evaluate状態からtrain状態に戻しておく\n",
    "\n",
    "  return mean_train_loss, train_accuracy    \n",
    "\n",
    "def train(model, loss_fn, opt, train_loader, valid_loader, device, epoch=50):\n",
    "  liveloss = PlotLosses() # 描画の初期化\n",
    "  for i in range(epoch):\n",
    "    train_loss, train_accuracy = calculate_model(model, loss_fn, opt, train_loader, device, mode='update')\n",
    "    valid_loss, valid_accuracy = calculate_model(model, loss_fn,   _, valid_loader, device, mode='evaluate')\n",
    "  \n",
    "    # Visualize the loss and accuracy values.\n",
    "    liveloss.update({\n",
    "      'log loss': train_loss,\n",
    "      'val_log loss': valid_loss,\n",
    "      'accuracy': train_accuracy,\n",
    "      'val_accuracy': valid_accuracy,\n",
    "    })\n",
    "    liveloss.draw()  \n",
    "  print('Accuracy: {:.4f} (valid), {:.4f} (train)'.format(valid_accuracy, train_accuracy))\n",
    "  return model # 学習したモデルを返す"
   ]
  },
  {
   "cell_type": "code",
   "execution_count": 17,
   "metadata": {
    "colab": {
     "base_uri": "https://localhost:8080/",
     "height": 462
    },
    "colab_type": "code",
    "executionInfo": {
     "elapsed": 15,
     "status": "ok",
     "timestamp": 1581565898040,
     "user": {
      "displayName": "青山裕良",
      "photoUrl": "",
      "userId": "08766073615901039264"
     },
     "user_tz": -540
    },
    "id": "ipSTReCKpQT8",
    "outputId": "9a5b06a3-ea71-4d8e-8891-fc5f0120b47e"
   },
   "outputs": [
    {
     "data": {
      "image/png": "[encoded data removed]",
      "text/plain": [
       "<Figure size 864x576 with 2 Axes>"
      ]
     },
     "metadata": {
      "tags": []
     },
     "output_type": "display_data"
    },
    {
     "name": "stdout",
     "output_type": "stream",
     "text": [
      "log loss:\n",
      "training   (min:    0.012, max:    0.947, cur:    0.013)\n",
      "validation (min:    0.113, max:    0.499, cur:    0.149)\n",
      "\n",
      "accuracy:\n",
      "training   (min:    0.662, max:    0.996, cur:    0.996)\n",
      "validation (min:    0.859, max:    0.974, cur:    0.971)\n",
      "Accuracy: 0.9709 (valid), 0.9961 (train)\n"
     ]
    }
   ],
   "source": [
    "# モデルの作成と学習の実行\n",
    "torch.manual_seed(0)\n",
    "\n",
    "model = torch.nn.Sequential(\n",
    "  torch.nn.Linear(13*50, 512), \n",
    "  torch.nn.ReLU(),\n",
    "  torch.nn.Dropout(p=0.5),\n",
    "  torch.nn.Linear(512, 256), \n",
    "  torch.nn.ReLU(),\n",
    "  torch.nn.Dropout(p=0.5),\n",
    "  torch.nn.Linear(256, 6),    # 行動ラベル数は6 : dws, ups, wlk, jog, sit, std \n",
    ")\n",
    "model.to(device_GPU) # deviceへモデルを転送\n",
    "\n",
    "# 誤差関数と最適化手法を準備\n",
    "loss_fn = torch.nn.CrossEntropyLoss()\n",
    "optimizer = torch.optim.SGD(model.parameters(), lr=0.2)\n",
    "\n",
    "# 学習の実行\n",
    "trained_model = train(model, loss_fn, optimizer, train_loader, valid_loader, device_GPU)"
   ]
  },
  {
   "cell_type": "code",
   "execution_count": 18,
   "metadata": {
    "colab": {
     "base_uri": "https://localhost:8080/",
     "height": 34
    },
    "colab_type": "code",
    "executionInfo": {
     "elapsed": 101738,
     "status": "ok",
     "timestamp": 1581565898225,
     "user": {
      "displayName": "青山裕良",
      "photoUrl": "",
      "userId": "08766073615901039264"
     },
     "user_tz": -540
    },
    "id": "g14l-ZTKuS5L",
    "outputId": "64c03c8b-9bcd-42ed-c9a1-06c673e2edde"
   },
   "outputs": [
    {
     "name": "stdout",
     "output_type": "stream",
     "text": [
      "テストデータの予測正解率 :  0.9638635596082404\n"
     ]
    }
   ],
   "source": [
    "# 予測の実行\n",
    "test_loss, test_accuracy = calculate_model(model, loss_fn,   _, test_loader, device_GPU, mode='evaluate')\n",
    "# print(test_loss)\n",
    "print(\"テストデータの予測正解率 : \", test_accuracy)"
   ]
  },
  {
   "cell_type": "markdown",
   "metadata": {
    "colab_type": "text",
    "id": "LK8UIvQ17Upb"
   },
   "source": [
    "　以上より， 多層NNでは**96.39 %**で予測できることが分かった．"
   ]
  },
  {
   "cell_type": "markdown",
   "metadata": {
    "colab_type": "text",
    "id": "W8RBeq4rioPm"
   },
   "source": [
    "## 4) CVによるハイパーパラメータ探索\n",
    "\n",
    "\n",
    "---\n",
    "\n",
    "　多層ニューラルネットワークのハイパーパラメータ探索，特に今回はStochastic Gradient Decentの学習率`lr`の探索を行う．  \n",
    "【注意】ハイパーパラメータ探索には4分程度かかります．\n"
   ]
  },
  {
   "cell_type": "code",
   "execution_count": 19,
   "metadata": {
    "colab": {
     "base_uri": "https://localhost:8080/",
     "height": 153
    },
    "colab_type": "code",
    "executionInfo": {
     "elapsed": 105057,
     "status": "ok",
     "timestamp": 1581565901560,
     "user": {
      "displayName": "青山裕良",
      "photoUrl": "",
      "userId": "08766073615901039264"
     },
     "user_tz": -540
    },
    "id": "gcCC6PjgNgYM",
    "outputId": "9392db5d-2125-4a11-c744-6bd313afc69b"
   },
   "outputs": [
    {
     "name": "stdout",
     "output_type": "stream",
     "text": [
      "Requirement already satisfied: torch in /usr/local/lib/python3.6/dist-packages (1.4.0)\n",
      "Requirement already satisfied: skorch in /usr/local/lib/python3.6/dist-packages (0.7.0)\n",
      "Requirement already satisfied: numpy>=1.13.3 in /usr/local/lib/python3.6/dist-packages (from skorch) (1.17.5)\n",
      "Requirement already satisfied: scipy>=1.1.0 in /usr/local/lib/python3.6/dist-packages (from skorch) (1.4.1)\n",
      "Requirement already satisfied: scikit-learn>=0.19.1 in /usr/local/lib/python3.6/dist-packages (from skorch) (0.22.1)\n",
      "Requirement already satisfied: tabulate>=0.7.7 in /usr/local/lib/python3.6/dist-packages (from skorch) (0.8.6)\n",
      "Requirement already satisfied: tqdm>=4.14.0 in /usr/local/lib/python3.6/dist-packages (from skorch) (4.28.1)\n",
      "Requirement already satisfied: joblib>=0.11 in /usr/local/lib/python3.6/dist-packages (from scikit-learn>=0.19.1->skorch) (0.14.1)\n"
     ]
    }
   ],
   "source": [
    "! [ ! -z \"$COLAB_GPU\" ] && pip install torch skorch"
   ]
  },
  {
   "cell_type": "code",
   "execution_count": 20,
   "metadata": {
    "colab": {
     "base_uri": "https://localhost:8080/",
     "height": 1000
    },
    "colab_type": "code",
    "executionInfo": {
     "elapsed": 348907,
     "status": "ok",
     "timestamp": 1581566145425,
     "user": {
      "displayName": "青山裕良",
      "photoUrl": "",
      "userId": "08766073615901039264"
     },
     "user_tz": -540
    },
    "id": "gGu4Hj4D7mCB",
    "outputId": "e12a2db7-84ac-49ea-ddd4-4c4c925b288d"
   },
   "outputs": [
    {
     "name": "stderr",
     "output_type": "stream",
     "text": [
      "/usr/local/lib/python3.6/dist-packages/sklearn/utils/deprecation.py:144: FutureWarning: The sklearn.metrics.scorer module is  deprecated in version 0.22 and will be removed in version 0.24. The corresponding classes / functions should instead be imported from sklearn.metrics. Anything that cannot be imported from sklearn.metrics is now part of the private API.\n",
      "  warnings.warn(message, FutureWarning)\n",
      "[Parallel(n_jobs=1)]: Using backend SequentialBackend with 1 concurrent workers.\n"
     ]
    },
    {
     "name": "stdout",
     "output_type": "stream",
     "text": [
      "Fitting 4 folds for each of 4 candidates, totalling 16 fits\n",
      "[CV] lr=0.1 ..........................................................\n",
      "  epoch    train_loss    valid_acc    valid_loss     dur\n",
      "-------  ------------  -----------  ------------  ------\n",
      "      1        \u001b[36m1.1054\u001b[0m       \u001b[32m0.7686\u001b[0m        \u001b[35m0.6841\u001b[0m  0.7505\n",
      "      2        \u001b[36m0.5819\u001b[0m       \u001b[32m0.9165\u001b[0m        \u001b[35m0.3292\u001b[0m  0.6544\n",
      "      3        \u001b[36m0.3578\u001b[0m       \u001b[32m0.9361\u001b[0m        \u001b[35m0.2263\u001b[0m  0.6157\n",
      "      4        \u001b[36m0.2754\u001b[0m       \u001b[32m0.9435\u001b[0m        \u001b[35m0.1888\u001b[0m  0.6840\n",
      "      5        \u001b[36m0.2180\u001b[0m       \u001b[32m0.9506\u001b[0m        \u001b[35m0.1721\u001b[0m  0.6483\n",
      "      6        \u001b[36m0.1942\u001b[0m       0.9502        \u001b[35m0.1653\u001b[0m  0.7553\n",
      "      7        \u001b[36m0.1643\u001b[0m       \u001b[32m0.9525\u001b[0m        \u001b[35m0.1540\u001b[0m  0.6310\n",
      "      8        \u001b[36m0.1431\u001b[0m       \u001b[32m0.9545\u001b[0m        \u001b[35m0.1462\u001b[0m  0.6592\n",
      "      9        \u001b[36m0.1336\u001b[0m       \u001b[32m0.9592\u001b[0m        \u001b[35m0.1421\u001b[0m  0.7201\n",
      "     10        \u001b[36m0.1133\u001b[0m       0.9592        \u001b[35m0.1360\u001b[0m  0.5870\n",
      "     11        \u001b[36m0.1060\u001b[0m       0.9588        0.1367  0.6800\n",
      "     12        \u001b[36m0.0990\u001b[0m       \u001b[32m0.9620\u001b[0m        \u001b[35m0.1353\u001b[0m  0.6422\n",
      "     13        \u001b[36m0.0851\u001b[0m       0.9600        \u001b[35m0.1297\u001b[0m  0.6550\n",
      "     14        0.0859       0.9600        0.1380  0.6730\n",
      "     15        \u001b[36m0.0772\u001b[0m       0.9580        0.1310  0.6796\n",
      "     16        \u001b[36m0.0699\u001b[0m       0.9569        0.1421  0.7290\n",
      "     17        \u001b[36m0.0623\u001b[0m       0.9584        0.1366  0.6230\n",
      "     18        \u001b[36m0.0602\u001b[0m       0.9576        0.1364  0.6534\n",
      "     19        \u001b[36m0.0535\u001b[0m       0.9592        0.1418  0.7224\n",
      "     20        \u001b[36m0.0475\u001b[0m       0.9588        0.1389  0.7447\n",
      "[CV] ........................................... lr=0.1, total=  14.6s\n",
      "[CV] lr=0.1 ..........................................................\n"
     ]
    },
    {
     "name": "stderr",
     "output_type": "stream",
     "text": [
      "[Parallel(n_jobs=1)]: Done   1 out of   1 | elapsed:   14.6s remaining:    0.0s\n"
     ]
    },
    {
     "name": "stdout",
     "output_type": "stream",
     "text": [
      "  epoch    train_loss    valid_acc    valid_loss     dur\n",
      "-------  ------------  -----------  ------------  ------\n",
      "      1        \u001b[36m1.0993\u001b[0m       \u001b[32m0.7647\u001b[0m        \u001b[35m0.6879\u001b[0m  0.7035\n",
      "      2        \u001b[36m0.5814\u001b[0m       \u001b[32m0.9024\u001b[0m        \u001b[35m0.3420\u001b[0m  0.6593\n",
      "      3        \u001b[36m0.3640\u001b[0m       \u001b[32m0.9220\u001b[0m        \u001b[35m0.2394\u001b[0m  0.6140\n",
      "      4        \u001b[36m0.2763\u001b[0m       \u001b[32m0.9329\u001b[0m        \u001b[35m0.1984\u001b[0m  0.5936\n",
      "      5        \u001b[36m0.2294\u001b[0m       \u001b[32m0.9392\u001b[0m        \u001b[35m0.1745\u001b[0m  0.6450\n",
      "      6        \u001b[36m0.1932\u001b[0m       \u001b[32m0.9435\u001b[0m        \u001b[35m0.1576\u001b[0m  0.6269\n",
      "      7        \u001b[36m0.1648\u001b[0m       \u001b[32m0.9494\u001b[0m        \u001b[35m0.1505\u001b[0m  0.6499\n",
      "      8        \u001b[36m0.1513\u001b[0m       \u001b[32m0.9514\u001b[0m        \u001b[35m0.1475\u001b[0m  0.6687\n",
      "      9        \u001b[36m0.1317\u001b[0m       \u001b[32m0.9522\u001b[0m        \u001b[35m0.1410\u001b[0m  0.6149\n",
      "     10        \u001b[36m0.1195\u001b[0m       \u001b[32m0.9557\u001b[0m        \u001b[35m0.1350\u001b[0m  0.6450\n",
      "     11        \u001b[36m0.1163\u001b[0m       \u001b[32m0.9596\u001b[0m        \u001b[35m0.1329\u001b[0m  0.6098\n",
      "     12        \u001b[36m0.0960\u001b[0m       0.9565        0.1364  0.6103\n",
      "     13        \u001b[36m0.0873\u001b[0m       0.9557        \u001b[35m0.1309\u001b[0m  0.7278\n",
      "     14        \u001b[36m0.0790\u001b[0m       \u001b[32m0.9608\u001b[0m        \u001b[35m0.1288\u001b[0m  0.6154\n",
      "     15        \u001b[36m0.0762\u001b[0m       0.9604        \u001b[35m0.1272\u001b[0m  0.6376\n",
      "     16        \u001b[36m0.0663\u001b[0m       0.9588        0.1333  0.5868\n",
      "     17        \u001b[36m0.0592\u001b[0m       0.9600        0.1388  0.7018\n",
      "     18        0.0638       \u001b[32m0.9639\u001b[0m        0.1312  0.7067\n",
      "     19        \u001b[36m0.0508\u001b[0m       0.9616        \u001b[35m0.1249\u001b[0m  0.6121\n",
      "     20        \u001b[36m0.0434\u001b[0m       0.9604        0.1377  0.6942\n",
      "[CV] ........................................... lr=0.1, total=  13.9s\n",
      "[CV] lr=0.1 ..........................................................\n",
      "  epoch    train_loss    valid_acc    valid_loss     dur\n",
      "-------  ------------  -----------  ------------  ------\n",
      "      1        \u001b[36m1.0999\u001b[0m       \u001b[32m0.7671\u001b[0m        \u001b[35m0.6702\u001b[0m  0.6733\n",
      "      2        \u001b[36m0.5757\u001b[0m       \u001b[32m0.9110\u001b[0m        \u001b[35m0.3254\u001b[0m  0.6760\n",
      "      3        \u001b[36m0.3540\u001b[0m       \u001b[32m0.9271\u001b[0m        \u001b[35m0.2291\u001b[0m  0.6997\n",
      "      4        \u001b[36m0.2668\u001b[0m       \u001b[32m0.9373\u001b[0m        \u001b[35m0.1962\u001b[0m  0.6540\n",
      "      5        \u001b[36m0.2208\u001b[0m       \u001b[32m0.9451\u001b[0m        \u001b[35m0.1710\u001b[0m  0.6791\n",
      "      6        \u001b[36m0.1866\u001b[0m       \u001b[32m0.9475\u001b[0m        \u001b[35m0.1580\u001b[0m  0.6644\n",
      "      7        \u001b[36m0.1647\u001b[0m       \u001b[32m0.9518\u001b[0m        \u001b[35m0.1504\u001b[0m  0.6623\n",
      "      8        \u001b[36m0.1505\u001b[0m       \u001b[32m0.9545\u001b[0m        \u001b[35m0.1448\u001b[0m  0.6740\n",
      "      9        \u001b[36m0.1314\u001b[0m       \u001b[32m0.9549\u001b[0m        \u001b[35m0.1387\u001b[0m  0.6266\n",
      "     10        \u001b[36m0.1104\u001b[0m       0.9533        0.1512  0.6386\n",
      "     11        \u001b[36m0.1045\u001b[0m       \u001b[32m0.9569\u001b[0m        0.1437  0.6766\n",
      "     12        \u001b[36m0.0917\u001b[0m       \u001b[32m0.9580\u001b[0m        0.1412  0.6780\n",
      "     13        \u001b[36m0.0860\u001b[0m       0.9561        0.1486  0.6401\n",
      "     14        \u001b[36m0.0798\u001b[0m       \u001b[32m0.9604\u001b[0m        0.1465  0.6085\n",
      "     15        \u001b[36m0.0756\u001b[0m       \u001b[32m0.9631\u001b[0m        \u001b[35m0.1386\u001b[0m  0.6889\n",
      "     16        \u001b[36m0.0643\u001b[0m       0.9600        0.1478  0.6652\n",
      "     17        0.0648       0.9616        0.1472  0.6012\n",
      "     18        \u001b[36m0.0525\u001b[0m       0.9612        0.1428  0.5956\n",
      "     19        0.0559       0.9627        \u001b[35m0.1379\u001b[0m  0.6533\n",
      "     20        \u001b[36m0.0504\u001b[0m       0.9569        0.1560  0.6105\n",
      "[CV] ........................................... lr=0.1, total=  14.1s\n",
      "[CV] lr=0.1 ..........................................................\n",
      "  epoch    train_loss    valid_acc    valid_loss     dur\n",
      "-------  ------------  -----------  ------------  ------\n",
      "      1        \u001b[36m1.1100\u001b[0m       \u001b[32m0.6478\u001b[0m        \u001b[35m0.8914\u001b[0m  0.6956\n",
      "      2        \u001b[36m0.5871\u001b[0m       \u001b[32m0.7553\u001b[0m        \u001b[35m0.5373\u001b[0m  0.6335\n",
      "      3        \u001b[36m0.3720\u001b[0m       \u001b[32m0.8651\u001b[0m        \u001b[35m0.3319\u001b[0m  0.6299\n",
      "      4        \u001b[36m0.2796\u001b[0m       \u001b[32m0.8992\u001b[0m        \u001b[35m0.2660\u001b[0m  0.7216\n",
      "      5        \u001b[36m0.2273\u001b[0m       \u001b[32m0.9220\u001b[0m        \u001b[35m0.2370\u001b[0m  0.6663\n",
      "      6        \u001b[36m0.1841\u001b[0m       \u001b[32m0.9357\u001b[0m        \u001b[35m0.2027\u001b[0m  0.6340\n",
      "      7        \u001b[36m0.1711\u001b[0m       \u001b[32m0.9498\u001b[0m        \u001b[35m0.1589\u001b[0m  0.6283\n",
      "      8        \u001b[36m0.1436\u001b[0m       \u001b[32m0.9502\u001b[0m        \u001b[35m0.1521\u001b[0m  0.6259\n",
      "      9        \u001b[36m0.1356\u001b[0m       \u001b[32m0.9510\u001b[0m        \u001b[35m0.1498\u001b[0m  0.6545\n",
      "     10        \u001b[36m0.1217\u001b[0m       \u001b[32m0.9580\u001b[0m        \u001b[35m0.1350\u001b[0m  0.6342\n",
      "     11        \u001b[36m0.1133\u001b[0m       0.9569        \u001b[35m0.1328\u001b[0m  0.6115\n",
      "     12        \u001b[36m0.0882\u001b[0m       0.9525        0.1394  0.6270\n",
      "     13        \u001b[36m0.0852\u001b[0m       \u001b[32m0.9616\u001b[0m        \u001b[35m0.1293\u001b[0m  0.6835\n",
      "     14        \u001b[36m0.0754\u001b[0m       \u001b[32m0.9627\u001b[0m        0.1313  0.6114\n",
      "     15        \u001b[36m0.0739\u001b[0m       0.9612        0.1301  0.7884\n",
      "     16        \u001b[36m0.0704\u001b[0m       \u001b[32m0.9639\u001b[0m        0.1320  0.6888\n",
      "     17        \u001b[36m0.0569\u001b[0m       0.9624        0.1319  0.6372\n",
      "     18        \u001b[36m0.0568\u001b[0m       \u001b[32m0.9651\u001b[0m        0.1324  0.6082\n",
      "     19        \u001b[36m0.0485\u001b[0m       \u001b[32m0.9667\u001b[0m        0.1361  0.6745\n",
      "     20        0.0506       0.9635        0.1344  0.6796\n",
      "[CV] ........................................... lr=0.1, total=  14.1s\n",
      "[CV] lr=0.15 .........................................................\n",
      "  epoch    train_loss    valid_acc    valid_loss     dur\n",
      "-------  ------------  -----------  ------------  ------\n",
      "      1        \u001b[36m0.9804\u001b[0m       \u001b[32m0.8451\u001b[0m        \u001b[35m0.5356\u001b[0m  0.6678\n",
      "      2        \u001b[36m0.4423\u001b[0m       \u001b[32m0.9255\u001b[0m        \u001b[35m0.2555\u001b[0m  0.6802\n",
      "      3        \u001b[36m0.2890\u001b[0m       \u001b[32m0.9467\u001b[0m        \u001b[35m0.1951\u001b[0m  0.5775\n",
      "      4        \u001b[36m0.2242\u001b[0m       0.9467        \u001b[35m0.1726\u001b[0m  0.6527\n",
      "      5        \u001b[36m0.1879\u001b[0m       \u001b[32m0.9502\u001b[0m        \u001b[35m0.1606\u001b[0m  0.5860\n",
      "      6        \u001b[36m0.1537\u001b[0m       \u001b[32m0.9525\u001b[0m        \u001b[35m0.1510\u001b[0m  0.6609\n",
      "      7        \u001b[36m0.1353\u001b[0m       \u001b[32m0.9576\u001b[0m        \u001b[35m0.1417\u001b[0m  0.5881\n",
      "      8        \u001b[36m0.1154\u001b[0m       0.9573        \u001b[35m0.1406\u001b[0m  0.5953\n",
      "      9        \u001b[36m0.1053\u001b[0m       \u001b[32m0.9580\u001b[0m        \u001b[35m0.1346\u001b[0m  0.6419\n",
      "     10        \u001b[36m0.1005\u001b[0m       0.9545        0.1361  0.6364\n",
      "     11        \u001b[36m0.0889\u001b[0m       \u001b[32m0.9592\u001b[0m        \u001b[35m0.1289\u001b[0m  0.6169\n",
      "     12        \u001b[36m0.0706\u001b[0m       \u001b[32m0.9631\u001b[0m        \u001b[35m0.1267\u001b[0m  0.6320\n",
      "     13        0.0732       \u001b[32m0.9639\u001b[0m        0.1312  0.6672\n",
      "     14        \u001b[36m0.0594\u001b[0m       0.9620        0.1365  0.6379\n",
      "     15        0.0644       0.9596        0.1391  0.6295\n",
      "     16        \u001b[36m0.0518\u001b[0m       0.9608        0.1381  0.6711\n",
      "     17        0.0524       0.9616        0.1382  0.5864\n",
      "     18        \u001b[36m0.0508\u001b[0m       0.9604        0.1504  0.6098\n",
      "     19        \u001b[36m0.0443\u001b[0m       0.9635        0.1380  0.6761\n",
      "     20        \u001b[36m0.0442\u001b[0m       0.9631        0.1528  0.6441\n",
      "[CV] .......................................... lr=0.15, total=  13.7s\n",
      "[CV] lr=0.15 .........................................................\n",
      "  epoch    train_loss    valid_acc    valid_loss     dur\n",
      "-------  ------------  -----------  ------------  ------\n",
      "      1        \u001b[36m0.9817\u001b[0m       \u001b[32m0.8651\u001b[0m        \u001b[35m0.5073\u001b[0m  0.6781\n",
      "      2        \u001b[36m0.4368\u001b[0m       \u001b[32m0.9235\u001b[0m        \u001b[35m0.2442\u001b[0m  0.7285\n",
      "      3        \u001b[36m0.2935\u001b[0m       \u001b[32m0.9318\u001b[0m        \u001b[35m0.2021\u001b[0m  0.5872\n",
      "      4        \u001b[36m0.2331\u001b[0m       \u001b[32m0.9404\u001b[0m        \u001b[35m0.1695\u001b[0m  0.6640\n",
      "      5        \u001b[36m0.1912\u001b[0m       \u001b[32m0.9416\u001b[0m        \u001b[35m0.1619\u001b[0m  0.7217\n",
      "      6        \u001b[36m0.1581\u001b[0m       \u001b[32m0.9471\u001b[0m        \u001b[35m0.1491\u001b[0m  0.6516\n",
      "      7        \u001b[36m0.1449\u001b[0m       \u001b[32m0.9565\u001b[0m        \u001b[35m0.1394\u001b[0m  0.6461\n",
      "      8        \u001b[36m0.1128\u001b[0m       \u001b[32m0.9580\u001b[0m        \u001b[35m0.1308\u001b[0m  0.6557\n",
      "      9        \u001b[36m0.1072\u001b[0m       0.9557        0.1378  0.5970\n",
      "     10        \u001b[36m0.0997\u001b[0m       0.9553        0.1400  0.6286\n",
      "     11        \u001b[36m0.0835\u001b[0m       \u001b[32m0.9616\u001b[0m        \u001b[35m0.1256\u001b[0m  0.6620\n",
      "     12        \u001b[36m0.0757\u001b[0m       0.9600        0.1305  0.6008\n",
      "     13        \u001b[36m0.0709\u001b[0m       0.9596        0.1421  0.6747\n",
      "     14        \u001b[36m0.0642\u001b[0m       \u001b[32m0.9627\u001b[0m        0.1278  0.6952\n",
      "     15        \u001b[36m0.0585\u001b[0m       0.9565        0.1424  0.6890\n",
      "     16        \u001b[36m0.0526\u001b[0m       \u001b[32m0.9631\u001b[0m        \u001b[35m0.1251\u001b[0m  0.7019\n",
      "     17        \u001b[36m0.0493\u001b[0m       0.9576        0.1451  0.6255\n",
      "     18        \u001b[36m0.0471\u001b[0m       0.9627        0.1355  0.5952\n",
      "     19        \u001b[36m0.0448\u001b[0m       0.9620        0.1534  0.6719\n",
      "     20        \u001b[36m0.0430\u001b[0m       0.9627        0.1525  0.6620\n",
      "[CV] .......................................... lr=0.15, total=  14.1s\n",
      "[CV] lr=0.15 .........................................................\n",
      "  epoch    train_loss    valid_acc    valid_loss     dur\n",
      "-------  ------------  -----------  ------------  ------\n",
      "      1        \u001b[36m0.9804\u001b[0m       \u001b[32m0.8443\u001b[0m        \u001b[35m0.5279\u001b[0m  0.6718\n",
      "      2        \u001b[36m0.4431\u001b[0m       \u001b[32m0.9239\u001b[0m        \u001b[35m0.2480\u001b[0m  0.6728\n",
      "      3        \u001b[36m0.2883\u001b[0m       \u001b[32m0.9380\u001b[0m        \u001b[35m0.1992\u001b[0m  0.6936\n",
      "      4        \u001b[36m0.2205\u001b[0m       \u001b[32m0.9424\u001b[0m        \u001b[35m0.1778\u001b[0m  0.7066\n",
      "      5        \u001b[36m0.1821\u001b[0m       \u001b[32m0.9553\u001b[0m        \u001b[35m0.1517\u001b[0m  0.6381\n",
      "      6        \u001b[36m0.1525\u001b[0m       0.9533        \u001b[35m0.1499\u001b[0m  0.6325\n",
      "      7        \u001b[36m0.1315\u001b[0m       0.9553        \u001b[35m0.1456\u001b[0m  0.6045\n",
      "      8        \u001b[36m0.1148\u001b[0m       0.9537        0.1593  0.6294\n",
      "      9        \u001b[36m0.1114\u001b[0m       \u001b[32m0.9565\u001b[0m        0.1535  0.6674\n",
      "     10        \u001b[36m0.0929\u001b[0m       0.9565        0.1502  0.6857\n",
      "     11        \u001b[36m0.0810\u001b[0m       \u001b[32m0.9584\u001b[0m        0.1480  0.6381\n",
      "     12        \u001b[36m0.0742\u001b[0m       \u001b[32m0.9643\u001b[0m        \u001b[35m0.1314\u001b[0m  0.7223\n",
      "     13        \u001b[36m0.0732\u001b[0m       0.9596        0.1439  0.6933\n",
      "     14        \u001b[36m0.0590\u001b[0m       0.9576        0.1602  0.6549\n",
      "     15        \u001b[36m0.0559\u001b[0m       0.9643        0.1436  0.6887\n",
      "     16        \u001b[36m0.0504\u001b[0m       0.9588        0.1616  0.7122\n",
      "     17        0.0504       0.9588        0.1647  0.6597\n",
      "     18        \u001b[36m0.0466\u001b[0m       0.9569        0.1636  0.6633\n",
      "     19        \u001b[36m0.0412\u001b[0m       0.9643        0.1462  0.5920\n",
      "     20        \u001b[36m0.0371\u001b[0m       \u001b[32m0.9647\u001b[0m        0.1568  0.7497\n",
      "[CV] .......................................... lr=0.15, total=  14.4s\n",
      "[CV] lr=0.15 .........................................................\n",
      "  epoch    train_loss    valid_acc    valid_loss     dur\n",
      "-------  ------------  -----------  ------------  ------\n",
      "      1        \u001b[36m0.9854\u001b[0m       \u001b[32m0.6329\u001b[0m        \u001b[35m0.9256\u001b[0m  0.6760\n",
      "      2        \u001b[36m0.4446\u001b[0m       \u001b[32m0.7847\u001b[0m        \u001b[35m0.4765\u001b[0m  0.6754\n",
      "      3        \u001b[36m0.2869\u001b[0m       \u001b[32m0.8808\u001b[0m        \u001b[35m0.3100\u001b[0m  0.6670\n",
      "      4        \u001b[36m0.2312\u001b[0m       \u001b[32m0.9243\u001b[0m        \u001b[35m0.2168\u001b[0m  0.6775\n",
      "      5        \u001b[36m0.1851\u001b[0m       \u001b[32m0.9294\u001b[0m        \u001b[35m0.2110\u001b[0m  0.6477\n",
      "      6        \u001b[36m0.1568\u001b[0m       \u001b[32m0.9424\u001b[0m        \u001b[35m0.1777\u001b[0m  0.5816\n",
      "      7        \u001b[36m0.1350\u001b[0m       0.9392        0.1785  0.6536\n",
      "      8        \u001b[36m0.1239\u001b[0m       \u001b[32m0.9525\u001b[0m        \u001b[35m0.1495\u001b[0m  0.7216\n",
      "      9        \u001b[36m0.1065\u001b[0m       \u001b[32m0.9569\u001b[0m        \u001b[35m0.1367\u001b[0m  0.7122\n",
      "     10        \u001b[36m0.0935\u001b[0m       \u001b[32m0.9576\u001b[0m        0.1389  0.7934\n",
      "     11        \u001b[36m0.0786\u001b[0m       \u001b[32m0.9584\u001b[0m        0.1429  0.6041\n",
      "     12        \u001b[36m0.0733\u001b[0m       0.9584        \u001b[35m0.1359\u001b[0m  0.6935\n",
      "     13        \u001b[36m0.0683\u001b[0m       \u001b[32m0.9600\u001b[0m        \u001b[35m0.1292\u001b[0m  0.6352\n",
      "     14        \u001b[36m0.0609\u001b[0m       0.9600        0.1373  0.6113\n",
      "     15        \u001b[36m0.0559\u001b[0m       0.9580        0.1497  0.6276\n",
      "     16        0.0562       \u001b[32m0.9631\u001b[0m        0.1355  0.6590\n",
      "     17        \u001b[36m0.0492\u001b[0m       \u001b[32m0.9635\u001b[0m        0.1344  0.6771\n",
      "     18        \u001b[36m0.0483\u001b[0m       0.9612        0.1453  0.6584\n",
      "     19        \u001b[36m0.0436\u001b[0m       0.9631        0.1444  0.6664\n",
      "     20        \u001b[36m0.0424\u001b[0m       \u001b[32m0.9639\u001b[0m        0.1480  0.7081\n",
      "[CV] .......................................... lr=0.15, total=  14.4s\n",
      "[CV] lr=0.2 ..........................................................\n",
      "  epoch    train_loss    valid_acc    valid_loss     dur\n",
      "-------  ------------  -----------  ------------  ------\n",
      "      1        \u001b[36m0.9130\u001b[0m       \u001b[32m0.8800\u001b[0m        \u001b[35m0.4165\u001b[0m  0.6787\n",
      "      2        \u001b[36m0.3756\u001b[0m       \u001b[32m0.9235\u001b[0m        \u001b[35m0.2445\u001b[0m  0.7275\n",
      "      3        \u001b[36m0.2542\u001b[0m       \u001b[32m0.9443\u001b[0m        \u001b[35m0.1790\u001b[0m  0.5785\n",
      "      4        \u001b[36m0.2050\u001b[0m       \u001b[32m0.9529\u001b[0m        \u001b[35m0.1594\u001b[0m  0.6795\n",
      "      5        \u001b[36m0.1728\u001b[0m       0.9529        \u001b[35m0.1565\u001b[0m  0.6621\n",
      "      6        \u001b[36m0.1335\u001b[0m       \u001b[32m0.9553\u001b[0m        \u001b[35m0.1479\u001b[0m  0.6409\n",
      "      7        \u001b[36m0.1191\u001b[0m       \u001b[32m0.9580\u001b[0m        \u001b[35m0.1408\u001b[0m  0.6006\n",
      "      8        \u001b[36m0.1092\u001b[0m       0.9580        \u001b[35m0.1368\u001b[0m  0.6438\n",
      "      9        \u001b[36m0.0878\u001b[0m       \u001b[32m0.9616\u001b[0m        0.1385  0.6280\n",
      "     10        0.0879       0.9600        0.1470  0.6858\n",
      "     11        \u001b[36m0.0836\u001b[0m       \u001b[32m0.9624\u001b[0m        \u001b[35m0.1324\u001b[0m  0.6630\n",
      "     12        \u001b[36m0.0702\u001b[0m       \u001b[32m0.9659\u001b[0m        0.1330  0.5994\n",
      "     13        \u001b[36m0.0622\u001b[0m       0.9627        0.1448  0.6478\n",
      "     14        \u001b[36m0.0525\u001b[0m       0.9627        0.1513  0.6199\n",
      "     15        \u001b[36m0.0520\u001b[0m       0.9643        0.1517  0.6990\n",
      "     16        \u001b[36m0.0437\u001b[0m       0.9655        0.1403  0.6252\n",
      "     17        0.0451       0.9647        0.1613  0.6843\n",
      "     18        0.0464       0.9631        0.1585  0.6699\n",
      "     19        \u001b[36m0.0382\u001b[0m       0.9604        0.1788  0.6299\n",
      "     20        \u001b[36m0.0378\u001b[0m       0.9620        0.1610  0.6553\n",
      "[CV] ........................................... lr=0.2, total=  14.0s\n",
      "[CV] lr=0.2 ..........................................................\n",
      "  epoch    train_loss    valid_acc    valid_loss     dur\n",
      "-------  ------------  -----------  ------------  ------\n",
      "      1        \u001b[36m0.9001\u001b[0m       \u001b[32m0.8780\u001b[0m        \u001b[35m0.4085\u001b[0m  0.6572\n",
      "      2        \u001b[36m0.3696\u001b[0m       \u001b[32m0.9243\u001b[0m        \u001b[35m0.2353\u001b[0m  0.6513\n",
      "      3        \u001b[36m0.2630\u001b[0m       \u001b[32m0.9290\u001b[0m        \u001b[35m0.2073\u001b[0m  0.6822\n",
      "      4        \u001b[36m0.2094\u001b[0m       \u001b[32m0.9408\u001b[0m        \u001b[35m0.1677\u001b[0m  0.6071\n",
      "      5        \u001b[36m0.1752\u001b[0m       \u001b[32m0.9439\u001b[0m        \u001b[35m0.1581\u001b[0m  0.6084\n",
      "      6        \u001b[36m0.1458\u001b[0m       \u001b[32m0.9482\u001b[0m        \u001b[35m0.1535\u001b[0m  0.6367\n",
      "      7        \u001b[36m0.1286\u001b[0m       0.9459        0.1601  0.6341\n",
      "      8        \u001b[36m0.1099\u001b[0m       \u001b[32m0.9584\u001b[0m        \u001b[35m0.1322\u001b[0m  0.6807\n",
      "      9        \u001b[36m0.0953\u001b[0m       0.9553        0.1361  0.6503\n",
      "     10        \u001b[36m0.0882\u001b[0m       0.9573        0.1463  0.7709\n",
      "     11        \u001b[36m0.0812\u001b[0m       0.9557        0.1473  0.6660\n",
      "     12        \u001b[36m0.0737\u001b[0m       0.9573        0.1431  0.7122\n",
      "     13        \u001b[36m0.0634\u001b[0m       \u001b[32m0.9592\u001b[0m        0.1542  0.6552\n",
      "     14        0.0638       \u001b[32m0.9616\u001b[0m        0.1414  0.6733\n",
      "     15        \u001b[36m0.0552\u001b[0m       0.9596        0.1420  0.6513\n",
      "     16        \u001b[36m0.0519\u001b[0m       \u001b[32m0.9647\u001b[0m        0.1406  0.6326\n",
      "     17        \u001b[36m0.0417\u001b[0m       0.9604        0.1542  0.6866\n",
      "     18        \u001b[36m0.0406\u001b[0m       0.9639        0.1538  0.6578\n",
      "     19        \u001b[36m0.0391\u001b[0m       0.9584        0.1733  0.6171\n",
      "     20        \u001b[36m0.0373\u001b[0m       \u001b[32m0.9655\u001b[0m        0.1484  0.6352\n",
      "[CV] ........................................... lr=0.2, total=  14.2s\n",
      "[CV] lr=0.2 ..........................................................\n",
      "  epoch    train_loss    valid_acc    valid_loss     dur\n",
      "-------  ------------  -----------  ------------  ------\n",
      "      1        \u001b[36m0.8980\u001b[0m       \u001b[32m0.8788\u001b[0m        \u001b[35m0.3941\u001b[0m  0.7146\n",
      "      2        \u001b[36m0.3763\u001b[0m       \u001b[32m0.9251\u001b[0m        \u001b[35m0.2290\u001b[0m  0.6309\n",
      "      3        \u001b[36m0.2493\u001b[0m       \u001b[32m0.9384\u001b[0m        \u001b[35m0.1846\u001b[0m  0.7005\n",
      "      4        \u001b[36m0.1966\u001b[0m       \u001b[32m0.9412\u001b[0m        \u001b[35m0.1704\u001b[0m  0.6176\n",
      "      5        \u001b[36m0.1658\u001b[0m       \u001b[32m0.9439\u001b[0m        \u001b[35m0.1618\u001b[0m  0.6036\n",
      "      6        \u001b[36m0.1434\u001b[0m       \u001b[32m0.9557\u001b[0m        \u001b[35m0.1421\u001b[0m  0.6376\n",
      "      7        \u001b[36m0.1209\u001b[0m       \u001b[32m0.9565\u001b[0m        0.1441  0.6777\n",
      "      8        \u001b[36m0.1088\u001b[0m       0.9549        0.1483  0.7323\n",
      "      9        \u001b[36m0.1008\u001b[0m       0.9561        0.1518  0.6758\n",
      "     10        \u001b[36m0.0829\u001b[0m       0.9557        0.1493  0.6466\n",
      "     11        \u001b[36m0.0785\u001b[0m       \u001b[32m0.9608\u001b[0m        0.1421  0.6794\n",
      "     12        \u001b[36m0.0644\u001b[0m       \u001b[32m0.9616\u001b[0m        \u001b[35m0.1374\u001b[0m  0.6602\n",
      "     13        \u001b[36m0.0625\u001b[0m       0.9588        0.1437  0.6922\n",
      "     14        \u001b[36m0.0576\u001b[0m       0.9592        0.1434  0.5766\n",
      "     15        \u001b[36m0.0523\u001b[0m       0.9608        0.1557  0.6411\n",
      "     16        \u001b[36m0.0492\u001b[0m       0.9573        0.1665  0.7041\n",
      "     17        \u001b[36m0.0463\u001b[0m       \u001b[32m0.9647\u001b[0m        0.1509  0.6650\n",
      "     18        \u001b[36m0.0369\u001b[0m       \u001b[32m0.9659\u001b[0m        0.1542  0.6388\n",
      "     19        0.0403       0.9627        0.1627  0.6198\n",
      "     20        \u001b[36m0.0360\u001b[0m       0.9627        0.1749  0.6413\n",
      "[CV] ........................................... lr=0.2, total=  14.2s\n",
      "[CV] lr=0.2 ..........................................................\n",
      "  epoch    train_loss    valid_acc    valid_loss     dur\n",
      "-------  ------------  -----------  ------------  ------\n",
      "      1        \u001b[36m0.8999\u001b[0m       \u001b[32m0.6702\u001b[0m        \u001b[35m0.7751\u001b[0m  0.6776\n",
      "      2        \u001b[36m0.3883\u001b[0m       \u001b[32m0.8020\u001b[0m        \u001b[35m0.4644\u001b[0m  0.6930\n",
      "      3        \u001b[36m0.2665\u001b[0m       \u001b[32m0.8773\u001b[0m        \u001b[35m0.3124\u001b[0m  0.6214\n",
      "      4        \u001b[36m0.2079\u001b[0m       \u001b[32m0.8980\u001b[0m        \u001b[35m0.2732\u001b[0m  0.7514\n",
      "      5        \u001b[36m0.1698\u001b[0m       \u001b[32m0.9216\u001b[0m        \u001b[35m0.2224\u001b[0m  0.7148\n",
      "      6        \u001b[36m0.1407\u001b[0m       \u001b[32m0.9353\u001b[0m        \u001b[35m0.1963\u001b[0m  0.7311\n",
      "      7        \u001b[36m0.1247\u001b[0m       \u001b[32m0.9545\u001b[0m        \u001b[35m0.1490\u001b[0m  0.6090\n",
      "      8        \u001b[36m0.1079\u001b[0m       \u001b[32m0.9565\u001b[0m        \u001b[35m0.1388\u001b[0m  0.6384\n",
      "      9        \u001b[36m0.0955\u001b[0m       \u001b[32m0.9584\u001b[0m        \u001b[35m0.1351\u001b[0m  0.6813\n",
      "     10        \u001b[36m0.0867\u001b[0m       \u001b[32m0.9612\u001b[0m        \u001b[35m0.1317\u001b[0m  0.6884\n",
      "     11        0.1020       \u001b[32m0.9651\u001b[0m        0.1360  0.6475\n",
      "     12        \u001b[36m0.0714\u001b[0m       0.9580        0.1507  0.6466\n",
      "     13        \u001b[36m0.0604\u001b[0m       0.9604        0.1514  0.6440\n",
      "     14        \u001b[36m0.0516\u001b[0m       0.9627        0.1380  0.6262\n",
      "     15        \u001b[36m0.0507\u001b[0m       0.9631        0.1419  0.5749\n",
      "     16        \u001b[36m0.0492\u001b[0m       0.9596        0.1540  0.6165\n",
      "     17        \u001b[36m0.0441\u001b[0m       \u001b[32m0.9659\u001b[0m        0.1339  0.6941\n",
      "     18        0.0469       0.9588        0.1532  0.5874\n",
      "     19        \u001b[36m0.0394\u001b[0m       0.9624        0.1553  0.6004\n",
      "     20        \u001b[36m0.0373\u001b[0m       0.9639        0.1578  0.6295\n",
      "[CV] ........................................... lr=0.2, total=  14.0s\n",
      "[CV] lr=0.25 .........................................................\n",
      "  epoch    train_loss    valid_acc    valid_loss     dur\n",
      "-------  ------------  -----------  ------------  ------\n",
      "      1        \u001b[36m0.8434\u001b[0m       \u001b[32m0.9153\u001b[0m        \u001b[35m0.3083\u001b[0m  0.6981\n",
      "      2        \u001b[36m0.3626\u001b[0m       \u001b[32m0.9431\u001b[0m        \u001b[35m0.2024\u001b[0m  0.6375\n",
      "      3        \u001b[36m0.2406\u001b[0m       \u001b[32m0.9459\u001b[0m        \u001b[35m0.1650\u001b[0m  0.6851\n",
      "      4        \u001b[36m0.1882\u001b[0m       \u001b[32m0.9482\u001b[0m        \u001b[35m0.1540\u001b[0m  0.6357\n",
      "      5        \u001b[36m0.1553\u001b[0m       \u001b[32m0.9561\u001b[0m        \u001b[35m0.1431\u001b[0m  0.6290\n",
      "      6        \u001b[36m0.1375\u001b[0m       \u001b[32m0.9584\u001b[0m        \u001b[35m0.1305\u001b[0m  0.6934\n",
      "      7        \u001b[36m0.1241\u001b[0m       0.9565        0.1422  0.6686\n",
      "      8        \u001b[36m0.0963\u001b[0m       0.9569        0.1319  0.6958\n",
      "      9        \u001b[36m0.0888\u001b[0m       0.9565        0.1454  0.6040\n",
      "     10        0.0911       0.9580        0.1465  0.6179\n",
      "     11        \u001b[36m0.0692\u001b[0m       \u001b[32m0.9604\u001b[0m        0.1319  0.6312\n",
      "     12        \u001b[36m0.0648\u001b[0m       \u001b[32m0.9639\u001b[0m        0.1366  0.5933\n",
      "     13        0.0650       \u001b[32m0.9651\u001b[0m        0.1400  0.5852\n",
      "     14        \u001b[36m0.0543\u001b[0m       0.9635        0.1390  0.6599\n",
      "     15        0.0568       0.9620        0.1374  0.6061\n",
      "     16        \u001b[36m0.0506\u001b[0m       0.9616        0.1434  0.5616\n",
      "     17        \u001b[36m0.0470\u001b[0m       0.9643        0.1316  0.6226\n",
      "     18        \u001b[36m0.0333\u001b[0m       0.9643        0.1416  0.5801\n",
      "     19        0.0362       0.9624        0.1469  0.6357\n",
      "     20        0.0354       \u001b[32m0.9659\u001b[0m        0.1482  0.6298\n",
      "[CV] .......................................... lr=0.25, total=  13.7s\n",
      "[CV] lr=0.25 .........................................................\n",
      "  epoch    train_loss    valid_acc    valid_loss     dur\n",
      "-------  ------------  -----------  ------------  ------\n",
      "      1        \u001b[36m0.8432\u001b[0m       \u001b[32m0.8953\u001b[0m        \u001b[35m0.3436\u001b[0m  0.6492\n",
      "      2        \u001b[36m0.3624\u001b[0m       \u001b[32m0.9345\u001b[0m        \u001b[35m0.2087\u001b[0m  0.6321\n",
      "      3        \u001b[36m0.2443\u001b[0m       \u001b[32m0.9361\u001b[0m        \u001b[35m0.1799\u001b[0m  0.6797\n",
      "      4        \u001b[36m0.1989\u001b[0m       \u001b[32m0.9424\u001b[0m        \u001b[35m0.1769\u001b[0m  0.6368\n",
      "      5        \u001b[36m0.1574\u001b[0m       \u001b[32m0.9459\u001b[0m        \u001b[35m0.1580\u001b[0m  0.6521\n",
      "      6        \u001b[36m0.1355\u001b[0m       \u001b[32m0.9502\u001b[0m        \u001b[35m0.1534\u001b[0m  0.6836\n",
      "      7        \u001b[36m0.1195\u001b[0m       0.9502        \u001b[35m0.1529\u001b[0m  0.6423\n",
      "      8        \u001b[36m0.0989\u001b[0m       \u001b[32m0.9537\u001b[0m        \u001b[35m0.1471\u001b[0m  0.6236\n",
      "      9        \u001b[36m0.0953\u001b[0m       \u001b[32m0.9557\u001b[0m        \u001b[35m0.1391\u001b[0m  0.6174\n",
      "     10        \u001b[36m0.0870\u001b[0m       \u001b[32m0.9592\u001b[0m        \u001b[35m0.1335\u001b[0m  0.6421\n",
      "     11        \u001b[36m0.0744\u001b[0m       0.9588        \u001b[35m0.1329\u001b[0m  0.6532\n",
      "     12        \u001b[36m0.0681\u001b[0m       0.9584        0.1389  0.6814\n",
      "     13        \u001b[36m0.0617\u001b[0m       \u001b[32m0.9643\u001b[0m        0.1458  0.6160\n",
      "     14        \u001b[36m0.0584\u001b[0m       0.9635        0.1449  0.6439\n",
      "     15        \u001b[36m0.0513\u001b[0m       0.9576        0.1720  0.6853\n",
      "     16        0.0610       0.9600        0.1465  0.7064\n",
      "     17        \u001b[36m0.0492\u001b[0m       0.9612        0.1469  0.6600\n",
      "     18        \u001b[36m0.0359\u001b[0m       \u001b[32m0.9655\u001b[0m        0.1426  0.6177\n",
      "     19        0.0458       0.9608        0.1600  0.6136\n",
      "     20        0.0480       \u001b[32m0.9659\u001b[0m        0.1385  0.6374\n",
      "[CV] .......................................... lr=0.25, total=  14.0s\n",
      "[CV] lr=0.25 .........................................................\n",
      "  epoch    train_loss    valid_acc    valid_loss     dur\n",
      "-------  ------------  -----------  ------------  ------\n",
      "      1        \u001b[36m0.8377\u001b[0m       \u001b[32m0.9024\u001b[0m        \u001b[35m0.3244\u001b[0m  0.5928\n",
      "      2        \u001b[36m0.3856\u001b[0m       \u001b[32m0.9290\u001b[0m        \u001b[35m0.2253\u001b[0m  0.6403\n",
      "      3        \u001b[36m0.2464\u001b[0m       \u001b[32m0.9357\u001b[0m        \u001b[35m0.1874\u001b[0m  0.5952\n",
      "      4        \u001b[36m0.1926\u001b[0m       \u001b[32m0.9439\u001b[0m        \u001b[35m0.1619\u001b[0m  0.6686\n",
      "      5        \u001b[36m0.1634\u001b[0m       \u001b[32m0.9510\u001b[0m        \u001b[35m0.1496\u001b[0m  0.6765\n",
      "      6        \u001b[36m0.1390\u001b[0m       0.9498        0.1536  0.6558\n",
      "      7        \u001b[36m0.1216\u001b[0m       \u001b[32m0.9514\u001b[0m        0.1564  0.6683\n",
      "      8        \u001b[36m0.1054\u001b[0m       \u001b[32m0.9561\u001b[0m        \u001b[35m0.1401\u001b[0m  0.6701\n",
      "      9        \u001b[36m0.0923\u001b[0m       0.9561        0.1487  0.6859\n",
      "     10        \u001b[36m0.0835\u001b[0m       \u001b[32m0.9569\u001b[0m        0.1633  0.6449\n",
      "     11        \u001b[36m0.0823\u001b[0m       \u001b[32m0.9592\u001b[0m        0.1457  0.6378\n",
      "     12        \u001b[36m0.0756\u001b[0m       0.9588        0.1569  0.6769\n",
      "     13        \u001b[36m0.0709\u001b[0m       \u001b[32m0.9612\u001b[0m        0.1453  0.6039\n",
      "     14        \u001b[36m0.0575\u001b[0m       0.9600        0.1547  0.7434\n",
      "     15        \u001b[36m0.0548\u001b[0m       0.9596        0.1642  0.6378\n",
      "     16        0.0919       0.9565        0.1665  0.6374\n",
      "     17        \u001b[36m0.0528\u001b[0m       0.9588        0.1555  0.6438\n",
      "     18        \u001b[36m0.0425\u001b[0m       \u001b[32m0.9616\u001b[0m        0.1675  0.6670\n",
      "     19        \u001b[36m0.0388\u001b[0m       \u001b[32m0.9647\u001b[0m        0.1633  0.6655\n",
      "     20        \u001b[36m0.0354\u001b[0m       0.9576        0.1897  0.6397\n",
      "[CV] .......................................... lr=0.25, total=  14.1s\n",
      "[CV] lr=0.25 .........................................................\n",
      "  epoch    train_loss    valid_acc    valid_loss     dur\n",
      "-------  ------------  -----------  ------------  ------\n",
      "      1        \u001b[36m0.8578\u001b[0m       \u001b[32m0.6624\u001b[0m        \u001b[35m0.8441\u001b[0m  0.6271\n",
      "      2        \u001b[36m0.3672\u001b[0m       \u001b[32m0.7694\u001b[0m        \u001b[35m0.5375\u001b[0m  0.7208\n",
      "      3        \u001b[36m0.2523\u001b[0m       \u001b[32m0.8792\u001b[0m        \u001b[35m0.3143\u001b[0m  0.6302\n",
      "      4        \u001b[36m0.1893\u001b[0m       \u001b[32m0.9110\u001b[0m        \u001b[35m0.2508\u001b[0m  0.6907\n",
      "      5        \u001b[36m0.1713\u001b[0m       \u001b[32m0.9290\u001b[0m        \u001b[35m0.2079\u001b[0m  0.5971\n",
      "      6        \u001b[36m0.1420\u001b[0m       0.9145        0.2404  0.6059\n",
      "      7        \u001b[36m0.1133\u001b[0m       \u001b[32m0.9412\u001b[0m        \u001b[35m0.1741\u001b[0m  0.6616\n",
      "      8        \u001b[36m0.1053\u001b[0m       \u001b[32m0.9486\u001b[0m        \u001b[35m0.1640\u001b[0m  0.5811\n",
      "      9        \u001b[36m0.0852\u001b[0m       \u001b[32m0.9522\u001b[0m        \u001b[35m0.1638\u001b[0m  0.6537\n",
      "     10        0.0915       0.9427        0.1834  0.6700\n",
      "     11        \u001b[36m0.0774\u001b[0m       \u001b[32m0.9569\u001b[0m        \u001b[35m0.1458\u001b[0m  0.6846\n",
      "     12        \u001b[36m0.0621\u001b[0m       \u001b[32m0.9635\u001b[0m        \u001b[35m0.1290\u001b[0m  0.6797\n",
      "     13        0.0660       0.9573        0.1515  0.6381\n",
      "     14        0.0637       0.9608        0.1523  0.6457\n",
      "     15        \u001b[36m0.0610\u001b[0m       0.9627        0.1543  0.7119\n",
      "     16        \u001b[36m0.0436\u001b[0m       \u001b[32m0.9655\u001b[0m        0.1423  0.6293\n",
      "     17        0.0475       \u001b[32m0.9671\u001b[0m        0.1449  0.5930\n",
      "     18        0.0498       0.9631        0.1497  0.6565\n",
      "     19        \u001b[36m0.0383\u001b[0m       0.9639        0.1572  0.6179\n",
      "     20        \u001b[36m0.0375\u001b[0m       0.9635        0.1521  0.6593\n",
      "[CV] .......................................... lr=0.25, total=  14.0s\n"
     ]
    },
    {
     "name": "stderr",
     "output_type": "stream",
     "text": [
      "[Parallel(n_jobs=1)]: Done  16 out of  16 | elapsed:  3.8min finished\n"
     ]
    },
    {
     "name": "stdout",
     "output_type": "stream",
     "text": [
      "  epoch    train_loss    valid_acc    valid_loss     dur\n",
      "-------  ------------  -----------  ------------  ------\n",
      "      1        \u001b[36m0.8711\u001b[0m       \u001b[32m0.8853\u001b[0m        \u001b[35m0.3697\u001b[0m  0.8630\n",
      "      2        \u001b[36m0.3569\u001b[0m       \u001b[32m0.9376\u001b[0m        \u001b[35m0.2150\u001b[0m  0.8862\n",
      "      3        \u001b[36m0.2406\u001b[0m       \u001b[32m0.9429\u001b[0m        \u001b[35m0.1826\u001b[0m  0.8474\n",
      "      4        \u001b[36m0.1918\u001b[0m       \u001b[32m0.9494\u001b[0m        \u001b[35m0.1607\u001b[0m  0.8753\n",
      "      5        \u001b[36m0.1603\u001b[0m       \u001b[32m0.9518\u001b[0m        \u001b[35m0.1569\u001b[0m  0.8080\n",
      "      6        \u001b[36m0.1388\u001b[0m       \u001b[32m0.9568\u001b[0m        \u001b[35m0.1422\u001b[0m  0.8400\n",
      "      7        \u001b[36m0.1166\u001b[0m       \u001b[32m0.9606\u001b[0m        \u001b[35m0.1318\u001b[0m  0.8164\n",
      "      8        \u001b[36m0.1048\u001b[0m       \u001b[32m0.9638\u001b[0m        \u001b[35m0.1252\u001b[0m  0.8472\n",
      "      9        \u001b[36m0.0874\u001b[0m       \u001b[32m0.9650\u001b[0m        0.1260  0.8107\n",
      "     10        \u001b[36m0.0785\u001b[0m       0.9629        0.1307  0.8742\n",
      "     11        \u001b[36m0.0752\u001b[0m       \u001b[32m0.9665\u001b[0m        \u001b[35m0.1245\u001b[0m  0.9179\n",
      "     12        \u001b[36m0.0674\u001b[0m       \u001b[32m0.9697\u001b[0m        \u001b[35m0.1173\u001b[0m  0.8561\n",
      "     13        \u001b[36m0.0602\u001b[0m       0.9665        0.1288  0.7895\n",
      "     14        \u001b[36m0.0516\u001b[0m       0.9668        0.1280  0.8029\n",
      "     15        0.0560       0.9591        0.1414  0.8569\n",
      "     16        \u001b[36m0.0498\u001b[0m       0.9668        0.1275  0.8599\n",
      "     17        \u001b[36m0.0414\u001b[0m       0.9665        0.1343  0.8730\n",
      "     18        \u001b[36m0.0380\u001b[0m       0.9679        0.1286  0.8297\n",
      "     19        0.0387       0.9641        0.1346  0.8865\n",
      "     20        \u001b[36m0.0328\u001b[0m       0.9668        0.1370  0.8423\n",
      "\n",
      " 最適ハイパーパラメータ :  {'lr': 0.15}\n"
     ]
    }
   ],
   "source": [
    "# クロスバリデーションからlrの最適な値を求める\n",
    "from sklearn.model_selection import GridSearchCV\n",
    "from skorch import NeuralNetClassifier\n",
    "import torch.nn.functional as F\n",
    "\n",
    "class Model(torch.nn.Module):\n",
    "  def __init__(self):\n",
    "    super(Model, self).__init__()\n",
    "    self.l1 = torch.nn.Linear(13*50, 512)\n",
    "    self.relu1 = torch.nn.ReLU()\n",
    "    self.drop1 = torch.nn.Dropout(0.5)\n",
    "    self.l2 = torch.nn.Linear(512, 256)\n",
    "    self.relu2 = torch.nn.ReLU()\n",
    "    self.drop2 = torch.nn.Dropout(0.5)\n",
    "    self.l3 = torch.nn.Linear(256, 6)\n",
    "\n",
    "  def forward(self, x):\n",
    "    y = self.l1(x)\n",
    "    y = self.relu1(y)\n",
    "    y = self.drop1(y)\n",
    "    y = self.l2(y)\n",
    "    y = self.relu2(y)\n",
    "    y = self.drop2(y)\n",
    "    y = self.l3(y)\n",
    "    return y\n",
    "    \n",
    "model2 = Model()\n",
    "\n",
    "net = NeuralNetClassifier(\n",
    "    module=model2,\n",
    "    max_epochs=20,\n",
    "    optimizer=torch.optim.SGD,\n",
    "    criterion= torch.nn.CrossEntropyLoss,\n",
    "    lr=0.1,\n",
    ")\n",
    "np.random.seed(0)\n",
    "\n",
    "# 辞書型が1つ入った配列\n",
    "param_grid = [  \n",
    "  { \n",
    "    \"lr\": [0.1, 0.15, 0.2, 0.25]\n",
    "  } \n",
    "] \n",
    "grid_search_dt = GridSearchCV(net, param_grid, cv=4, verbose=2)   # 4-fold CVをしながら最適なモデルを決定する\n",
    "grid_search_dt.fit(X_train_torch, y_train_torch-1)\n",
    "print(\"\\n\", \"最適ハイパーパラメータ : \", grid_search_dt.best_params_)\n",
    "# print(grid_search_dt.best_score_)\n"
   ]
  },
  {
   "cell_type": "markdown",
   "metadata": {
    "colab_type": "text",
    "id": "h2p16eNCke4m"
   },
   "source": [
    "　クロスバリデーションから最適な学習率 `lr` が0.15と求まったので，再度ハイパーパラメータを変更して学習する．"
   ]
  },
  {
   "cell_type": "code",
   "execution_count": 21,
   "metadata": {
    "colab": {
     "base_uri": "https://localhost:8080/",
     "height": 462
    },
    "colab_type": "code",
    "executionInfo": {
     "elapsed": 227,
     "status": "ok",
     "timestamp": 1581566189816,
     "user": {
      "displayName": "青山裕良",
      "photoUrl": "",
      "userId": "08766073615901039264"
     },
     "user_tz": -540
    },
    "id": "agKCos0uYb3S",
    "outputId": "cf5decb3-b1ff-490d-f28c-c1a5e8117f8b"
   },
   "outputs": [
    {
     "data": {
      "image/png": "[encoded data removed]",
      "text/plain": [
       "<Figure size 864x576 with 2 Axes>"
      ]
     },
     "metadata": {
      "tags": []
     },
     "output_type": "display_data"
    },
    {
     "name": "stdout",
     "output_type": "stream",
     "text": [
      "log loss:\n",
      "training   (min:    0.014, max:    1.041, cur:    0.014)\n",
      "validation (min:    0.112, max:    0.585, cur:    0.139)\n",
      "\n",
      "accuracy:\n",
      "training   (min:    0.633, max:    0.995, cur:    0.995)\n",
      "validation (min:    0.825, max:    0.974, cur:    0.971)\n",
      "Accuracy: 0.9714 (valid), 0.9955 (train)\n"
     ]
    }
   ],
   "source": [
    "torch.manual_seed(0)\n",
    "\n",
    "model = torch.nn.Sequential(\n",
    "  torch.nn.Linear(13*50, 512), \n",
    "  torch.nn.ReLU(),\n",
    "  torch.nn.Dropout(p=0.5),\n",
    "  torch.nn.Linear(512, 256), \n",
    "  torch.nn.ReLU(),\n",
    "  torch.nn.Dropout(p=0.5),\n",
    "  torch.nn.Linear(256, 6), \n",
    ")\n",
    "model.to(device_GPU) # deviceへモデルを転送\n",
    "\n",
    "# 誤差関数と最適化手法を準備\n",
    "loss_fn = torch.nn.CrossEntropyLoss()\n",
    "optimizer = torch.optim.SGD(model.parameters(), lr=0.15)\n",
    "\n",
    "# 学習の実行\n",
    "trained_model = train(model, loss_fn, optimizer, train_loader, valid_loader, device_GPU)"
   ]
  },
  {
   "cell_type": "code",
   "execution_count": 22,
   "metadata": {
    "colab": {
     "base_uri": "https://localhost:8080/",
     "height": 34
    },
    "colab_type": "code",
    "executionInfo": {
     "elapsed": 393279,
     "status": "ok",
     "timestamp": 1581566189820,
     "user": {
      "displayName": "青山裕良",
      "photoUrl": "",
      "userId": "08766073615901039264"
     },
     "user_tz": -540
    },
    "id": "tU07cAobp8Wh",
    "outputId": "807574ca-1ceb-4023-b9f3-77d2a8fb2ab0"
   },
   "outputs": [
    {
     "name": "stdout",
     "output_type": "stream",
     "text": [
      "テストデータの予測正解率 :  0.9655521783181358\n"
     ]
    }
   ],
   "source": [
    "# 予測の実行\n",
    "test_loss, test_accuracy = calculate_model(model, loss_fn,   _, test_loader, device_GPU, mode='evaluate')\n",
    "# print(test_loss)\n",
    "print(\"テストデータの予測正解率 : \", test_accuracy)"
   ]
  },
  {
   "cell_type": "markdown",
   "metadata": {
    "colab_type": "text",
    "id": "Xgk3J6t275C8"
   },
   "source": [
    "　以上より，クロスバリデーションからハイパーパラメータを決定することで，汎化性能が上がり，予測正解率が**96.39 %**→**96.55 %**と少し向上していることが分かる．"
   ]
  },
  {
   "cell_type": "markdown",
   "metadata": {
    "colab_type": "text",
    "id": "_ycXs9mOaHQp"
   },
   "source": [
    "## 5) CNNによる予測\n",
    "\n",
    "\n",
    "---\n",
    "\n",
    "　CNNは画像処理に良く使われる手法であるが，今回は時系列データを2次元的に扱うことで適用する．\n"
   ]
  },
  {
   "cell_type": "code",
   "execution_count": 23,
   "metadata": {
    "colab": {
     "base_uri": "https://localhost:8080/",
     "height": 34
    },
    "colab_type": "code",
    "executionInfo": {
     "elapsed": 393271,
     "status": "ok",
     "timestamp": 1581566189821,
     "user": {
      "displayName": "青山裕良",
      "photoUrl": "",
      "userId": "08766073615901039264"
     },
     "user_tz": -540
    },
    "id": "4f0sxJ_4ph5r",
    "outputId": "ae509c85-6152-447d-c8a2-bc31374d631a"
   },
   "outputs": [
    {
     "name": "stdout",
     "output_type": "stream",
     "text": [
      "(17000, 1, 13, 50)\n"
     ]
    }
   ],
   "source": [
    "# リシェイプ\n",
    "X_train_4D = X_train.reshape(X_train.shape[0], 1, X_train.shape[1], X_train.shape[2])\n",
    "X_valid_4D  = X_valid.reshape(X_valid.shape[0], 1, X_valid.shape[1], X_valid.shape[2]) \n",
    "X_test_4D  = X_test.reshape(X_test.shape[0], 1, X_test.shape[1], X_test.shape[2]) \n",
    "print(X_train_4D.shape)"
   ]
  },
  {
   "cell_type": "code",
   "execution_count": 0,
   "metadata": {
    "colab": {},
    "colab_type": "code",
    "id": "HcMKITH5aOXY"
   },
   "outputs": [],
   "source": [
    "# datasetおよびdataloaderの作成\n",
    "batch_size = 256 # 今回は256件のデータごとに学習を行う\n",
    "\n",
    "# training set\n",
    "X_train_torch = torch.tensor(X_train_4D, dtype=torch.float) # dtype=torch.floatを忘れずに\n",
    "y_train_torch = torch.tensor(y_train, dtype=torch.long)      # dtype=torch.longを忘れずに\n",
    "train_dataset = torch.utils.data.TensorDataset(X_train_torch, y_train_torch)\n",
    "train_loader  = torch.utils.data.DataLoader(train_dataset, batch_size=batch_size)\n",
    "\n",
    "# validation set\n",
    "X_valid_torch = torch.tensor(X_valid_4D, dtype=torch.float)\n",
    "y_valid_torch = torch.tensor(y_valid, dtype=torch.long)\n",
    "valid_dataset = torch.utils.data.TensorDataset(X_valid_torch, y_valid_torch)\n",
    "valid_loader  = torch.utils.data.DataLoader(valid_dataset, batch_size=batch_size)\n",
    "\n",
    "# test set\n",
    "X_test_torch = torch.tensor(X_test_4D, dtype=torch.float)\n",
    "y_test_torch = torch.tensor(y_test, dtype=torch.long)\n",
    "test_dataset = torch.utils.data.TensorDataset(X_test_torch, y_test_torch)\n",
    "test_loader  = torch.utils.data.DataLoader(test_dataset, batch_size=batch_size)"
   ]
  },
  {
   "cell_type": "code",
   "execution_count": 0,
   "metadata": {
    "colab": {},
    "colab_type": "code",
    "id": "Tkxqb0shc2ga"
   },
   "outputs": [],
   "source": [
    "# GPUの利用設定および学習･予測のための関数群の定義\n",
    "import torch\n",
    "from livelossplot import PlotLosses\n",
    "\n",
    "device_GPU = torch.device(\"cuda:0\") \n",
    "\n",
    "# モデルの更新と評価(modeによって切り替え)\n",
    "def calculate_model(model, loss_fn, opt, dataloader, device, mode):\n",
    "  if mode == 'evaluate':\n",
    "    model.eval() # 学習を行わない時は evaluate 状態にする （補足資料※1）\n",
    "\n",
    "  sum_loss = 0\n",
    "  correct = 0\n",
    "  count = len(dataloader.dataset)\n",
    "  \n",
    "  for X, y in dataloader:\n",
    "    y-=1\n",
    "    X = X.to(device) # GPUへデータを転送\n",
    "    y = y.to(device) # GPUへデータを転送\n",
    "    y_pred = model(X) # Xからyを予測（softmaxを行う前の値が出力される）\n",
    "    \n",
    "    _, predicted = torch.max(y_pred.data, 1) # 6クラスのうち、予測確率最大のクラス番号を取得\n",
    "    correct += (predicted == y).sum().item() # 予測に成功した件数をカウント（accuracy計算用）\n",
    "    \n",
    "    loss = loss_fn(y_pred, y)        # ミニバッチ内の訓練誤差の 平均 を計算\n",
    "    sum_loss += loss.item()*len(y) # エポック全体の訓練誤差の 合計 を計算しておく\n",
    "    \n",
    "    if mode == 'update':\n",
    "      # 重みの更新\n",
    "      opt.zero_grad()\n",
    "      loss.backward()\n",
    "      opt.step()\n",
    "    \n",
    "  # エポック内の訓練誤差の平均値と予測精度を計算\n",
    "  mean_train_loss = sum_loss / count\n",
    "  train_accuracy = correct / count\n",
    "  \n",
    "  if mode == 'evaluate':\n",
    "    model.train() # evaluate状態からtrain状態に戻しておく\n",
    "\n",
    "  return mean_train_loss, train_accuracy    \n",
    "\n",
    "# 学習\n",
    "def train(model, loss_fn, opt, train_loader, valid_loader, device, epoch=50):\n",
    "  liveloss = PlotLosses() # 描画の初期化\n",
    "  for i in range(epoch):\n",
    "    train_loss, train_accuracy = calculate_model(model, loss_fn, opt, train_loader, device, mode='update')\n",
    "    valid_loss, valid_accuracy = calculate_model(model, loss_fn,   _, valid_loader, device, mode='evaluate')\n",
    "  \n",
    "    # Visualize the loss and accuracy values.\n",
    "    liveloss.update({\n",
    "        'log loss': train_loss,\n",
    "        'val_log loss': valid_loss,\n",
    "        'accuracy': train_accuracy,\n",
    "        'val_accuracy': valid_accuracy,\n",
    "    })\n",
    "    liveloss.draw()  \n",
    "  print('Accuracy: {:.4f} (valid), {:.4f} (train)'.format(valid_accuracy, train_accuracy))\n",
    "  return model # 学習したモデルを返す"
   ]
  },
  {
   "cell_type": "code",
   "execution_count": 26,
   "metadata": {
    "colab": {
     "base_uri": "https://localhost:8080/",
     "height": 462
    },
    "colab_type": "code",
    "executionInfo": {
     "elapsed": 13,
     "status": "ok",
     "timestamp": 1581566274773,
     "user": {
      "displayName": "青山裕良",
      "photoUrl": "",
      "userId": "08766073615901039264"
     },
     "user_tz": -540
    },
    "id": "vb11RlIeaxt5",
    "outputId": "cd08252a-b3e5-4c2b-b531-598d410774f5"
   },
   "outputs": [
    {
     "data": {
      "image/png": "[encoded data removed]",
      "text/plain": [
       "<Figure size 864x576 with 2 Axes>"
      ]
     },
     "metadata": {
      "tags": []
     },
     "output_type": "display_data"
    },
    {
     "name": "stdout",
     "output_type": "stream",
     "text": [
      "log loss:\n",
      "training   (min:    0.002, max:    0.832, cur:    0.002)\n",
      "validation (min:    0.009, max:    0.469, cur:    0.010)\n",
      "\n",
      "accuracy:\n",
      "training   (min:    0.673, max:    1.000, cur:    1.000)\n",
      "validation (min:    0.832, max:    0.997, cur:    0.996)\n",
      "Accuracy: 0.9959 (valid), 0.9999 (train)\n"
     ]
    }
   ],
   "source": [
    "# モデルの作成と学習の実行\n",
    "torch.manual_seed(0) # 学習結果の再現性を担保\n",
    "\n",
    "cnn = torch.nn.Sequential(\n",
    "    torch.nn.Conv2d(1, 16, (3, 3), padding=2),\n",
    "    torch.nn.ReLU(),\n",
    "    torch.nn.MaxPool2d(2),\n",
    "    torch.nn.Conv2d(16, 32, (3, 3), padding=2),\n",
    "    torch.nn.ReLU(),\n",
    "    torch.nn.MaxPool2d(2),\n",
    "    torch.nn.Conv2d(32, 64, (3, 3)),\n",
    "    torch.nn.ReLU(),\n",
    "    torch.nn.MaxPool2d(2),\n",
    "    torch.nn.Dropout(0.2),\n",
    "    torch.nn.Flatten(), \n",
    "    torch.nn.Linear(384, 128),\n",
    "    torch.nn.ReLU(),\n",
    "    torch.nn.Dropout(0.2),\n",
    "    torch.nn.Linear(128, 6),\n",
    ")\n",
    "cnn.to(device_GPU)\n",
    "\n",
    "# 誤差関数と最適化手法を準備\n",
    "loss_fn = torch.nn.CrossEntropyLoss()\n",
    "# optimizer = torch.optim.SGD(cnn.parameters(), lr=0.01)\n",
    "optimizer = torch.optim.Adagrad(cnn.parameters(), lr=0.01)\n",
    "\n",
    "# 学習の実行\n",
    "trained_model = train(cnn, loss_fn, optimizer, train_loader, valid_loader, device_GPU, epoch=70)"
   ]
  },
  {
   "cell_type": "code",
   "execution_count": 27,
   "metadata": {
    "colab": {
     "base_uri": "https://localhost:8080/",
     "height": 34
    },
    "colab_type": "code",
    "executionInfo": {
     "elapsed": 478196,
     "status": "ok",
     "timestamp": 1581566274779,
     "user": {
      "displayName": "青山裕良",
      "photoUrl": "",
      "userId": "08766073615901039264"
     },
     "user_tz": -540
    },
    "id": "8xZBtnOua2ME",
    "outputId": "229f04ba-92b8-4833-d684-7928eb650c17"
   },
   "outputs": [
    {
     "name": "stdout",
     "output_type": "stream",
     "text": [
      "テストデータの予測正解率 :  0.9547450185748058\n"
     ]
    }
   ],
   "source": [
    "# 予測の実行\n",
    "test_loss, test_accuracy = calculate_model(cnn, loss_fn,   _, test_loader, device_GPU, mode='evaluate')\n",
    "# print(test_loss)\n",
    "print(\"テストデータの予測正解率 : \", test_accuracy)"
   ]
  },
  {
   "cell_type": "markdown",
   "metadata": {
    "colab_type": "text",
    "id": "Hak6qzOBdyNG"
   },
   "source": [
    "　以上より，CNNでは **95.47 %**で 予測可能であることが分かった．"
   ]
  },
  {
   "cell_type": "markdown",
   "metadata": {
    "colab_type": "text",
    "id": "q2tdCX4p_T--"
   },
   "source": [
    "## 6) RNNによる予測\n",
    "\n",
    "\n",
    "---\n",
    "\n",
    "　RNNはネットワークにループを作成することで，時系列データに対する逐次的な予測や，可変長データに対する単一予測を行う際に利用できるニューラルネットワークの1手法である．今回は，IMUの時系列データを扱っているので，RNNを適用することを考える．  \n",
    "　まずは，DatasetおよびDataLoaderを作成する．"
   ]
  },
  {
   "cell_type": "code",
   "execution_count": 28,
   "metadata": {
    "colab": {
     "base_uri": "https://localhost:8080/",
     "height": 102
    },
    "colab_type": "code",
    "executionInfo": {
     "elapsed": 478390,
     "status": "ok",
     "timestamp": 1581566274982,
     "user": {
      "displayName": "青山裕良",
      "photoUrl": "",
      "userId": "08766073615901039264"
     },
     "user_tz": -540
    },
    "id": "VdwfSFTzM9K-",
    "outputId": "0e850371-2089-4768-ba88-b1171c4bf3d3"
   },
   "outputs": [
    {
     "name": "stdout",
     "output_type": "stream",
     "text": [
      "分割後のセクション形状: ( 13 x 50 )\n",
      "平均: 0.0035300797597241063 , 分散: 0.749962379300086 ---> 標準化しました．\n",
      "トレーニングデータの平均と分散を用いてテストデータを標準化しました．\n",
      "トレーニングデータ形状: (20918, 13, 50)\n",
      "テストデータ形状: (5922, 13, 50)\n"
     ]
    }
   ],
   "source": [
    "size_sections = 50   # セクションサイズ\n",
    "size_slide = 10      # スライドサイズ\n",
    "\n",
    "# 時系列データをセクション分割\n",
    "print(\"分割後のセクション形状: (\",num_features+num_gen_labels,\"x\",size_sections,\")\")\n",
    "_X_train, _y_train, train_mean, train_std = time_series_to_section( train_data.copy(),\n",
    "                                                                  num_act_labels,\n",
    "                                                                  num_gen_labels,\n",
    "                                                                  size_sections,\n",
    "                                                                  size_slide,\n",
    "                                                                  standardize = True )\n",
    "\n",
    "_X_test, _y_test, test_mean, test_std = time_series_to_section( test_data.copy(),\n",
    "                                                              num_act_labels,\n",
    "                                                              num_gen_labels,\n",
    "                                                              size_sections,\n",
    "                                                              size_slide,\n",
    "                                                              standardize = True,\n",
    "                                                              mean = train_mean, \n",
    "                                                              std = train_std  )\n",
    "\n",
    "y_train = np.delete(_y_train, np.where(_y_train==0))\n",
    "X_train = np.delete(_X_train, np.where(_y_train==0), axis=0)\n",
    "y_test = np.delete(_y_test, np.where(_y_test==0))\n",
    "X_test = np.delete(_X_test, np.where(_y_test==0), axis=0)\n",
    "\n",
    "print(\"トレーニングデータ形状:\", X_train.shape)\n",
    "print(\"テストデータ形状:\", X_test.shape)"
   ]
  },
  {
   "cell_type": "code",
   "execution_count": 29,
   "metadata": {
    "colab": {
     "base_uri": "https://localhost:8080/",
     "height": 51
    },
    "colab_type": "code",
    "executionInfo": {
     "elapsed": 478379,
     "status": "ok",
     "timestamp": 1581566274983,
     "user": {
      "displayName": "青山裕良",
      "photoUrl": "",
      "userId": "08766073615901039264"
     },
     "user_tz": -540
    },
    "id": "KW_4RLtmTRZN",
    "outputId": "c3249d96-ce5f-479f-bbd2-e6e26d9aaa4c"
   },
   "outputs": [
    {
     "name": "stdout",
     "output_type": "stream",
     "text": [
      "torch.Size([1, 1, 650])\n",
      "torch.Size([1])\n"
     ]
    }
   ],
   "source": [
    "# 通常のNNは2次元形式で与えられても処理できないため，28x28の要素がある1次元配列に変換してからPyTorch形式に変換する\n",
    "X_train_flatten = X_train.reshape(X_train.shape[0], 1, X_train.shape[1]*X_train.shape[2]) # 17000件の2次元データ（12×50）を17000件の1次元データ(600)に変換\n",
    "X_test_flatten  = X_test.reshape(X_test.shape[0], 1, X_test.shape[1]*X_test.shape[2]) \n",
    "X_train_torch = torch.tensor(X_train_flatten, dtype=torch.float) # dtype=torch.floatを忘れずに\n",
    "X_test_torch  = torch.tensor(X_test_flatten,  dtype=torch.float) \n",
    "\n",
    "\n",
    "# yについてもPyTorch形式に変換する\n",
    "y_train_torch = torch.tensor(y_train, dtype=torch.long) # dtype=torch.longを忘れずに\n",
    "y_test_torch  = torch.tensor(y_test,  dtype=torch.long)\n",
    "\n",
    "# datasetとdataloaderを用意\n",
    "# XとYの組み合わせを保持してくれる便利なモノ\n",
    "train_dataset = torch.utils.data.TensorDataset(X_train_torch, y_train_torch)\n",
    "test_dataset  = torch.utils.data.TensorDataset(X_test_torch,  y_test_torch)\n",
    "\n",
    "# XとYの組み合わせを(batch_size)個ずつ出力する便利なモノ\n",
    "batch_size = 1 \n",
    "train_loader = torch.utils.data.DataLoader(train_dataset, batch_size=batch_size, shuffle=True)\n",
    "test_loader  = torch.utils.data.DataLoader(test_dataset,  batch_size=batch_size, shuffle=True)\n",
    "\n",
    "for X, y in train_loader:\n",
    "  print(X.shape)\n",
    "  print(y.shape)\n",
    "  # print(X)\n",
    "  # print(y)\n",
    "  break"
   ]
  },
  {
   "cell_type": "markdown",
   "metadata": {
    "colab_type": "text",
    "id": "DaF4LPv4c550"
   },
   "source": [
    "　次に，時系列データに対して1つの出力を得るために，RNNの最後の出力のみを取り出して利用するモデルを構築する．"
   ]
  },
  {
   "cell_type": "code",
   "execution_count": 0,
   "metadata": {
    "colab": {},
    "colab_type": "code",
    "id": "dHqn4icq_ghp"
   },
   "outputs": [],
   "source": [
    "import torch\n",
    "\n",
    "# 最後の出力だけを次の層に渡すRNN\n",
    "class lastoutputRNN(torch.nn.Module):\n",
    "  def __init__(self, input_size, output_size):\n",
    "    super(lastoutputRNN, self).__init__() # 初期化のおまじない\n",
    "    \n",
    "    # 学習すべき重みがあるものをここに全て定義\n",
    "    self.rnn = torch.nn.RNN(input_size, output_size, num_layers=1, batch_first=True)\n",
    "  \n",
    "  # 予測時の計算を定義\n",
    "  def forward(self, input):\n",
    "    outs_rnn, hiddens = self.rnn(input, self.initHidden()) # ひとまず複数の 出力 h を全て受け取る\n",
    "    last_out_rnn = outs_rnn[-1] # 最後の出力 h_r を抜き出す\n",
    "    return last_out_rnn # 次の層に渡す\n",
    "\n",
    "  # RNNの隠れ層の初期値を準備する補助関数\n",
    "  def initHidden(self):\n",
    "    return torch.zeros(1, 1, self.rnn.hidden_size)"
   ]
  },
  {
   "cell_type": "markdown",
   "metadata": {
    "colab_type": "text",
    "id": "ycm4wOkMZo65"
   },
   "source": [
    "　では実際にRNNを用いて学習を行っていく．  \n",
    "【注意】以下のコードは実行に3分程度かかります．"
   ]
  },
  {
   "cell_type": "code",
   "execution_count": 31,
   "metadata": {
    "colab": {
     "base_uri": "https://localhost:8080/",
     "height": 445
    },
    "colab_type": "code",
    "executionInfo": {
     "elapsed": 213,
     "status": "ok",
     "timestamp": 1581566453052,
     "user": {
      "displayName": "青山裕良",
      "photoUrl": "",
      "userId": "08766073615901039264"
     },
     "user_tz": -540
    },
    "id": "IDW0dQ0n_zAR",
    "outputId": "045213d1-76a1-4437-b11d-4eeb8f23ec92"
   },
   "outputs": [
    {
     "data": {
      "image/png": "[encoded data removed]",
      "text/plain": [
       "<Figure size 864x576 with 2 Axes>"
      ]
     },
     "metadata": {
      "tags": []
     },
     "output_type": "display_data"
    },
    {
     "name": "stdout",
     "output_type": "stream",
     "text": [
      "log loss:\n",
      "training   (min:  119.319, max: 9346.757, cur:  119.319)\n",
      "\n",
      "accuracy:\n",
      "training   (min:    0.857, max:    0.999, cur:    0.999)\n",
      "計算時間 :  177.7418041229248\n",
      "Accuracy: 0.9994 (train)\n"
     ]
    }
   ],
   "source": [
    "import json\n",
    "import random\n",
    "from livelossplot import PlotLosses # livelossplotのインストールを忘れずに（AI7.1.4参照）\n",
    "import numpy as np\n",
    "\n",
    "torch.manual_seed(0) # 実行結果を再現させる\n",
    "np.random.seed(0)    # data_shuffle()のためにNumPyの乱数も指定する\n",
    "\n",
    "###### Sequentialによるモデルの作成\n",
    "# 入力：文字列のone-hot表現\n",
    "# 出力：入力の文字列が「どの言語らしいか」を示す値（各言語ごとに実数値を出力）\n",
    "model = torch.nn.Sequential(\n",
    "  lastoutputRNN(650, 128), \n",
    "  torch.nn.Linear(128, 6)\n",
    ")\n",
    "\n",
    "###### 誤差関数と最適化手法の定義\n",
    "loss_fn = torch.nn.CrossEntropyLoss()\n",
    "optimizer = torch.optim.SGD(model.parameters(), lr=0.01)\n",
    "\n",
    "###### 学習本体\n",
    "liveloss = PlotLosses() # 描画の準備\n",
    "\n",
    "import time\n",
    "start = time.time() # 計算開始時刻\n",
    "\n",
    "for epoch in range(6):  # 6 epoch 学習する\n",
    "  total_train_loss = 0.0\n",
    "  num_train_correct = 0\n",
    "  # X, y = data_shuffle(X_train, y_train)\n",
    "\n",
    "  for Xi_torch, yi_torch in train_loader:\n",
    "    yi_torch -= 1\n",
    "    y_pred = model(Xi_torch)    # 予測の実施\n",
    "    _, predicted = torch.max(y_pred.data, 1)\n",
    "    num_train_correct += (predicted == yi_torch).sum().item()\n",
    "    \n",
    "    # 予測の誤差を計算（交差エントロピー誤差）\n",
    "    # print(Xi_torch)\n",
    "    # print(y_pred)\n",
    "    # print(yi_torch)\n",
    "    loss = loss_fn(y_pred, yi_torch)\n",
    "    total_train_loss += loss.item()\n",
    "    \n",
    "    # 誤差逆伝播法による重みの更新\n",
    "    optimizer.zero_grad()\n",
    "    loss.backward()\n",
    "    optimizer.step()\n",
    "\n",
    "  # このepoch全体での予測精度 (accuracy) を計算\n",
    "  train_accuracy = num_train_correct / len(y_train)\n",
    "\n",
    "  # livelossplotの描画\n",
    "  liveloss.update({\n",
    "   'log loss': total_train_loss,\n",
    "    'accuracy': train_accuracy,\n",
    "  })\n",
    "  liveloss.draw()\n",
    "\n",
    "end = time.time() # 計算終了時刻\n",
    "print(\"計算時間 : \", end - start) # 差を秒単位で計算\n",
    "    \n",
    "# 最後のepochにおける訓練データの予測精度を出力\n",
    "print('Accuracy: {:.4f} (train)'.format(train_accuracy))"
   ]
  },
  {
   "cell_type": "code",
   "execution_count": 32,
   "metadata": {
    "colab": {
     "base_uri": "https://localhost:8080/",
     "height": 34
    },
    "colab_type": "code",
    "executionInfo": {
     "elapsed": 658805,
     "status": "ok",
     "timestamp": 1581566455438,
     "user": {
      "displayName": "青山裕良",
      "photoUrl": "",
      "userId": "08766073615901039264"
     },
     "user_tz": -540
    },
    "id": "I2PBTw758rTo",
    "outputId": "1ba499a0-0eb8-492d-b51b-b5e530340453"
   },
   "outputs": [
    {
     "name": "stdout",
     "output_type": "stream",
     "text": [
      "0.9113475177304965\n"
     ]
    }
   ],
   "source": [
    "# テストデータの予測正解率を算出\n",
    "num_test_correct = 0\n",
    "for X, y in test_loader:\n",
    "  y-=1\n",
    "  pred = model(X)                                 # 予測の実施\n",
    "  _, predicted = torch.max(pred.data, 1)                # 最も確率の高かったクラスを求める\n",
    "  if predicted == y:\n",
    "    num_test_correct += 1\n",
    "\n",
    "test_accuracy = num_test_correct / len(y_test)\n",
    "print(test_accuracy)"
   ]
  },
  {
   "cell_type": "markdown",
   "metadata": {
    "colab_type": "text",
    "id": "2vl5p0GAdVk0"
   },
   "source": [
    "　以上より，RNNでは **91.13 %**で 予測可能であることが分かった．"
   ]
  }
 ],
 "metadata": {
  "accelerator": "GPU",
  "colab": {
   "collapsed_sections": [],
   "machine_shape": "hm",
   "name": "基盤AI演習_期末課題.ipynb",
   "provenance": [],
   "toc_visible": true
  },
  "kernelspec": {
   "display_name": "Python 3",
   "language": "python",
   "name": "python3"
  },
  "language_info": {
   "codemirror_mode": {
    "name": "ipython",
    "version": 3
   },
   "file_extension": ".py",
   "mimetype": "text/x-python",
   "name": "python",
   "nbconvert_exporter": "python",
   "pygments_lexer": "ipython3",
   "version": "3.7.4"
  }
 },
 "nbformat": 4,
 "nbformat_minor": 1
}
